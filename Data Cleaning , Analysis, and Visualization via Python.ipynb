{
 "cells": [
  {
   "cell_type": "code",
   "execution_count": 721,
   "id": "fe316bf0",
   "metadata": {},
   "outputs": [],
   "source": [
    "import pandas as pd\n",
    "import openpyxl\n",
    "import numpy as np\n",
    "import matplotlib.pyplot as plt\n",
    "import seaborn as sns\n",
    "import plotly.graph_objects as go"
   ]
  },
  {
   "cell_type": "code",
   "execution_count": 808,
   "id": "f6104a1e",
   "metadata": {},
   "outputs": [
    {
     "data": {
      "text/plain": [
       "Main_Term\n",
       "Animal     83\n",
       "Human       8\n",
       "Unclear     3\n",
       "In          3\n",
       "Both        1\n",
       "Name: count, dtype: int64"
      ]
     },
     "execution_count": 808,
     "metadata": {},
     "output_type": "execute_result"
    }
   ],
   "source": [
    "# Figure 6-A Pie chart (cell origins)\n",
    "\n",
    "# EDA excel file is attached \n",
    "df = pd.read_excel(r\"C:\\Users\\Mhaha\\OneDrive\\Desktop\\EDA.xlsx\", sheet_name='raw')\n",
    "\n",
    "wdf_1 = df.iloc[1:, ].loc[:, ['Origin']] # wdf refers to working dataframe\n",
    "\n",
    "# Extract the leading terms (e.g., \"Animal\", \"Human\", etc.) and Counting\n",
    "wdf_1['Main_Term'] = wdf_1['Origin'].str.extract(r\"^(\\w+)\")\n",
    "wdf_1['Main_Term'].value_counts()\n",
    "\n",
    "# the pie chart was made in the same Excel file (Pie charts sheet) using the data below\n"
   ]
  },
  {
   "cell_type": "code",
   "execution_count": 809,
   "id": "44903fc4",
   "metadata": {},
   "outputs": [
    {
     "data": {
      "text/html": [
       "<div>\n",
       "<style scoped>\n",
       "    .dataframe tbody tr th:only-of-type {\n",
       "        vertical-align: middle;\n",
       "    }\n",
       "\n",
       "    .dataframe tbody tr th {\n",
       "        vertical-align: top;\n",
       "    }\n",
       "\n",
       "    .dataframe thead th {\n",
       "        text-align: right;\n",
       "    }\n",
       "</style>\n",
       "<table border=\"1\" class=\"dataframe\">\n",
       "  <thead>\n",
       "    <tr style=\"text-align: right;\">\n",
       "      <th></th>\n",
       "      <th>Cell_type</th>\n",
       "      <th>Category</th>\n",
       "      <th>Details</th>\n",
       "      <th>NaN</th>\n",
       "      <th>Cell line</th>\n",
       "      <th>In vivo analysis</th>\n",
       "      <th>Other</th>\n",
       "      <th>Progenitor cells</th>\n",
       "      <th>Stem cells</th>\n",
       "      <th>Stem cells</th>\n",
       "    </tr>\n",
       "  </thead>\n",
       "  <tbody>\n",
       "    <tr>\n",
       "      <th>1</th>\n",
       "      <td>Stem cells</td>\n",
       "      <td>Stem cells</td>\n",
       "      <td>NaN</td>\n",
       "      <td>NaN</td>\n",
       "      <td>NaN</td>\n",
       "      <td>NaN</td>\n",
       "      <td>NaN</td>\n",
       "      <td>NaN</td>\n",
       "      <td>NaN</td>\n",
       "      <td>NaN</td>\n",
       "    </tr>\n",
       "    <tr>\n",
       "      <th>2</th>\n",
       "      <td>Progenitor cells (NPCs)</td>\n",
       "      <td>Progenitor cells</td>\n",
       "      <td>NPCs</td>\n",
       "      <td>NaN</td>\n",
       "      <td>NaN</td>\n",
       "      <td>NaN</td>\n",
       "      <td>NaN</td>\n",
       "      <td>NPCs</td>\n",
       "      <td>NaN</td>\n",
       "      <td>NaN</td>\n",
       "    </tr>\n",
       "    <tr>\n",
       "      <th>3</th>\n",
       "      <td>Stem cells</td>\n",
       "      <td>Stem cells</td>\n",
       "      <td>NaN</td>\n",
       "      <td>NaN</td>\n",
       "      <td>NaN</td>\n",
       "      <td>NaN</td>\n",
       "      <td>NaN</td>\n",
       "      <td>NaN</td>\n",
       "      <td>NaN</td>\n",
       "      <td>NaN</td>\n",
       "    </tr>\n",
       "    <tr>\n",
       "      <th>4</th>\n",
       "      <td>Cell line</td>\n",
       "      <td>Cell line</td>\n",
       "      <td>NaN</td>\n",
       "      <td>NaN</td>\n",
       "      <td>NaN</td>\n",
       "      <td>NaN</td>\n",
       "      <td>NaN</td>\n",
       "      <td>NaN</td>\n",
       "      <td>NaN</td>\n",
       "      <td>NaN</td>\n",
       "    </tr>\n",
       "    <tr>\n",
       "      <th>5</th>\n",
       "      <td>Stem cells (NSCs)</td>\n",
       "      <td>Stem cells</td>\n",
       "      <td>NSCs</td>\n",
       "      <td>NaN</td>\n",
       "      <td>NaN</td>\n",
       "      <td>NaN</td>\n",
       "      <td>NaN</td>\n",
       "      <td>NaN</td>\n",
       "      <td>NSCs</td>\n",
       "      <td>NaN</td>\n",
       "    </tr>\n",
       "    <tr>\n",
       "      <th>...</th>\n",
       "      <td>...</td>\n",
       "      <td>...</td>\n",
       "      <td>...</td>\n",
       "      <td>...</td>\n",
       "      <td>...</td>\n",
       "      <td>...</td>\n",
       "      <td>...</td>\n",
       "      <td>...</td>\n",
       "      <td>...</td>\n",
       "      <td>...</td>\n",
       "    </tr>\n",
       "    <tr>\n",
       "      <th>95</th>\n",
       "      <td>Cell line</td>\n",
       "      <td>Cell line</td>\n",
       "      <td>NaN</td>\n",
       "      <td>NaN</td>\n",
       "      <td>NaN</td>\n",
       "      <td>NaN</td>\n",
       "      <td>NaN</td>\n",
       "      <td>NaN</td>\n",
       "      <td>NaN</td>\n",
       "      <td>NaN</td>\n",
       "    </tr>\n",
       "    <tr>\n",
       "      <th>96</th>\n",
       "      <td>Stem cells (MSCs)</td>\n",
       "      <td>Stem cells</td>\n",
       "      <td>MSCs</td>\n",
       "      <td>NaN</td>\n",
       "      <td>NaN</td>\n",
       "      <td>NaN</td>\n",
       "      <td>NaN</td>\n",
       "      <td>NaN</td>\n",
       "      <td>MSCs</td>\n",
       "      <td>NaN</td>\n",
       "    </tr>\n",
       "    <tr>\n",
       "      <th>97</th>\n",
       "      <td>Cell line</td>\n",
       "      <td>Cell line</td>\n",
       "      <td>NaN</td>\n",
       "      <td>NaN</td>\n",
       "      <td>NaN</td>\n",
       "      <td>NaN</td>\n",
       "      <td>NaN</td>\n",
       "      <td>NaN</td>\n",
       "      <td>NaN</td>\n",
       "      <td>NaN</td>\n",
       "    </tr>\n",
       "    <tr>\n",
       "      <th>98</th>\n",
       "      <td>Cell line</td>\n",
       "      <td>Cell line</td>\n",
       "      <td>NaN</td>\n",
       "      <td>NaN</td>\n",
       "      <td>NaN</td>\n",
       "      <td>NaN</td>\n",
       "      <td>NaN</td>\n",
       "      <td>NaN</td>\n",
       "      <td>NaN</td>\n",
       "      <td>NaN</td>\n",
       "    </tr>\n",
       "    <tr>\n",
       "      <th>99</th>\n",
       "      <td>Cell line</td>\n",
       "      <td>Cell line</td>\n",
       "      <td>NaN</td>\n",
       "      <td>NaN</td>\n",
       "      <td>NaN</td>\n",
       "      <td>NaN</td>\n",
       "      <td>NaN</td>\n",
       "      <td>NaN</td>\n",
       "      <td>NaN</td>\n",
       "      <td>NaN</td>\n",
       "    </tr>\n",
       "  </tbody>\n",
       "</table>\n",
       "<p>99 rows × 10 columns</p>\n",
       "</div>"
      ],
      "text/plain": [
       "                  Cell_type          Category Details  NaN Cell line  \\\n",
       "1                Stem cells        Stem cells     NaN  NaN       NaN   \n",
       "2   Progenitor cells (NPCs)  Progenitor cells    NPCs  NaN       NaN   \n",
       "3                Stem cells        Stem cells     NaN  NaN       NaN   \n",
       "4                 Cell line         Cell line     NaN  NaN       NaN   \n",
       "5         Stem cells (NSCs)        Stem cells    NSCs  NaN       NaN   \n",
       "..                      ...               ...     ...  ...       ...   \n",
       "95                Cell line         Cell line     NaN  NaN       NaN   \n",
       "96        Stem cells (MSCs)        Stem cells    MSCs  NaN       NaN   \n",
       "97                Cell line         Cell line     NaN  NaN       NaN   \n",
       "98                Cell line         Cell line     NaN  NaN       NaN   \n",
       "99                Cell line         Cell line     NaN  NaN       NaN   \n",
       "\n",
       "   In vivo analysis Other Progenitor cells Stem cells Stem cells   \n",
       "1               NaN   NaN              NaN        NaN         NaN  \n",
       "2               NaN   NaN             NPCs        NaN         NaN  \n",
       "3               NaN   NaN              NaN        NaN         NaN  \n",
       "4               NaN   NaN              NaN        NaN         NaN  \n",
       "5               NaN   NaN              NaN       NSCs         NaN  \n",
       "..              ...   ...              ...        ...         ...  \n",
       "95              NaN   NaN              NaN        NaN         NaN  \n",
       "96              NaN   NaN              NaN       MSCs         NaN  \n",
       "97              NaN   NaN              NaN        NaN         NaN  \n",
       "98              NaN   NaN              NaN        NaN         NaN  \n",
       "99              NaN   NaN              NaN        NaN         NaN  \n",
       "\n",
       "[99 rows x 10 columns]"
      ]
     },
     "execution_count": 809,
     "metadata": {},
     "output_type": "execute_result"
    }
   ],
   "source": [
    "# Figure 6-B Clustered vertical bars (Cell types and frequencies)\n",
    "\n",
    "wdf_2 = df.iloc[1:,].iloc[:,[5]]\n",
    "\n",
    "# Function to safely split and extract categories and details\n",
    "def extract_category(cell_type):\n",
    "    if isinstance(cell_type, str):\n",
    "        return cell_type.split(' (')[0]\n",
    "    return None  \n",
    "\n",
    "def extract_details(cell_type):\n",
    "    if isinstance(cell_type, str):\n",
    "        # Extracting details inside parentheses, if any\n",
    "        return pd.Series(cell_type).str.extract(r'\\((.*?)\\)').iloc[0, 0]\n",
    "    return None\n",
    "\n",
    "# Applying the functions to extract the category and details\n",
    "wdf_2['Category'] = wdf_2['Cell_type'].apply(extract_category)\n",
    "wdf_2['Details'] = wdf_2['Cell_type'].apply(extract_details)\n",
    "\n",
    "# Pivoting the data to create columns for each category\n",
    "pivoted_df = wdf_2.pivot(columns='Category', values='Details')\n",
    "\n",
    "# Mergeing the new columns back with the original DataFrame\n",
    "final_df = pd.DataFrame(pd.concat([wdf_2, pivoted_df], axis=1))\n",
    "final_df"
   ]
  },
  {
   "cell_type": "code",
   "execution_count": 810,
   "id": "96de691a",
   "metadata": {},
   "outputs": [
    {
     "data": {
      "text/html": [
       "<div>\n",
       "<style scoped>\n",
       "    .dataframe tbody tr th:only-of-type {\n",
       "        vertical-align: middle;\n",
       "    }\n",
       "\n",
       "    .dataframe tbody tr th {\n",
       "        vertical-align: top;\n",
       "    }\n",
       "\n",
       "    .dataframe thead th {\n",
       "        text-align: right;\n",
       "    }\n",
       "</style>\n",
       "<table border=\"1\" class=\"dataframe\">\n",
       "  <thead>\n",
       "    <tr style=\"text-align: right;\">\n",
       "      <th></th>\n",
       "      <th>Other</th>\n",
       "      <th>Progenitor_cells</th>\n",
       "      <th>Stem_cells</th>\n",
       "      <th>Cell_line</th>\n",
       "    </tr>\n",
       "  </thead>\n",
       "  <tbody>\n",
       "    <tr>\n",
       "      <th>1</th>\n",
       "      <td>NaN</td>\n",
       "      <td>NaN</td>\n",
       "      <td>NaN</td>\n",
       "      <td>NaN</td>\n",
       "    </tr>\n",
       "    <tr>\n",
       "      <th>2</th>\n",
       "      <td>NaN</td>\n",
       "      <td>NPCs</td>\n",
       "      <td>NaN</td>\n",
       "      <td>NaN</td>\n",
       "    </tr>\n",
       "    <tr>\n",
       "      <th>3</th>\n",
       "      <td>NaN</td>\n",
       "      <td>NaN</td>\n",
       "      <td>NaN</td>\n",
       "      <td>NaN</td>\n",
       "    </tr>\n",
       "    <tr>\n",
       "      <th>4</th>\n",
       "      <td>NaN</td>\n",
       "      <td>NaN</td>\n",
       "      <td>NaN</td>\n",
       "      <td>NaN</td>\n",
       "    </tr>\n",
       "    <tr>\n",
       "      <th>5</th>\n",
       "      <td>NaN</td>\n",
       "      <td>NaN</td>\n",
       "      <td>NSCs</td>\n",
       "      <td>NaN</td>\n",
       "    </tr>\n",
       "    <tr>\n",
       "      <th>...</th>\n",
       "      <td>...</td>\n",
       "      <td>...</td>\n",
       "      <td>...</td>\n",
       "      <td>...</td>\n",
       "    </tr>\n",
       "    <tr>\n",
       "      <th>95</th>\n",
       "      <td>NaN</td>\n",
       "      <td>NaN</td>\n",
       "      <td>NaN</td>\n",
       "      <td>PC12</td>\n",
       "    </tr>\n",
       "    <tr>\n",
       "      <th>96</th>\n",
       "      <td>NaN</td>\n",
       "      <td>NaN</td>\n",
       "      <td>NaN</td>\n",
       "      <td>NaN</td>\n",
       "    </tr>\n",
       "    <tr>\n",
       "      <th>97</th>\n",
       "      <td>NaN</td>\n",
       "      <td>NaN</td>\n",
       "      <td>NaN</td>\n",
       "      <td>SH-SY5Y</td>\n",
       "    </tr>\n",
       "    <tr>\n",
       "      <th>98</th>\n",
       "      <td>NaN</td>\n",
       "      <td>NaN</td>\n",
       "      <td>NaN</td>\n",
       "      <td>SH-SY5Y</td>\n",
       "    </tr>\n",
       "    <tr>\n",
       "      <th>99</th>\n",
       "      <td>NaN</td>\n",
       "      <td>NaN</td>\n",
       "      <td>NaN</td>\n",
       "      <td>NaN</td>\n",
       "    </tr>\n",
       "  </tbody>\n",
       "</table>\n",
       "<p>198 rows × 4 columns</p>\n",
       "</div>"
      ],
      "text/plain": [
       "   Other Progenitor_cells Stem_cells Cell_line\n",
       "1    NaN              NaN        NaN       NaN\n",
       "2    NaN             NPCs        NaN       NaN\n",
       "3    NaN              NaN        NaN       NaN\n",
       "4    NaN              NaN        NaN       NaN\n",
       "5    NaN              NaN       NSCs       NaN\n",
       "..   ...              ...        ...       ...\n",
       "95   NaN              NaN        NaN      PC12\n",
       "96   NaN              NaN        NaN       NaN\n",
       "97   NaN              NaN        NaN   SH-SY5Y\n",
       "98   NaN              NaN        NaN   SH-SY5Y\n",
       "99   NaN              NaN        NaN       NaN\n",
       "\n",
       "[198 rows x 4 columns]"
      ]
     },
     "execution_count": 810,
     "metadata": {},
     "output_type": "execute_result"
    }
   ],
   "source": [
    "#Figure 6-B (continued)\n",
    "\n",
    "#Rearrenging the columns\n",
    "f_df = df.iloc[1:,].loc[:,['Cell_line']]\n",
    "f_df_1 = final_df.iloc[:,6:9]\n",
    "final_cell = pd.concat([f_df_1,f_df])\n",
    "\n",
    "# Cleaning \n",
    "final_cell.columns = ['Other','Progenitor_cells','Stem_cells','Cell_line']\n",
    "final_cell.Stem_cells = np.where(final_cell.Stem_cells ==  'BM-MSCs', 'MSCs',final_cell.Stem_cells )\n",
    "final_cell.Stem_cells = np.where(final_cell.Stem_cells ==  'BMSCs', 'MSCs',final_cell.Stem_cells )\n",
    "final_cell.Progenitor_cells = np.where(final_cell.Progenitor_cells ==  'IPSCs-derived neural spheroids', 'Neural spheroids',final_cell.Progenitor_cells )\n",
    "final_cell.Other = np.where(final_cell.Other ==  'Organotypic\\n(SC)', 'Organotypic (SC)',final_cell.Other )\n",
    "final_cell.Other = np.where(final_cell.Other ==  'primary cells- Schwann cells', 'Schwann cells',final_cell.Other )\n",
    "\n",
    "#Exporting to create visualization via R (refer to R code)\n",
    "final_cell.to_csv('final_cell.csv')\n",
    "final_cell"
   ]
  },
  {
   "cell_type": "code",
   "execution_count": 811,
   "id": "ab8637e5",
   "metadata": {},
   "outputs": [
    {
     "data": {
      "text/html": [
       "<div>\n",
       "<style scoped>\n",
       "    .dataframe tbody tr th:only-of-type {\n",
       "        vertical-align: middle;\n",
       "    }\n",
       "\n",
       "    .dataframe tbody tr th {\n",
       "        vertical-align: top;\n",
       "    }\n",
       "\n",
       "    .dataframe thead th {\n",
       "        text-align: right;\n",
       "    }\n",
       "</style>\n",
       "<table border=\"1\" class=\"dataframe\">\n",
       "  <thead>\n",
       "    <tr style=\"text-align: right;\">\n",
       "      <th></th>\n",
       "      <th>Cell_density_unit</th>\n",
       "      <th>Cell_denisty</th>\n",
       "      <th>Formatted_Density</th>\n",
       "    </tr>\n",
       "  </thead>\n",
       "  <tbody>\n",
       "    <tr>\n",
       "      <th>0</th>\n",
       "      <td>Cells/Well</td>\n",
       "      <td>1000000.0</td>\n",
       "      <td>1.0 x 10^6</td>\n",
       "    </tr>\n",
       "    <tr>\n",
       "      <th>1</th>\n",
       "      <td>Cells/Well</td>\n",
       "      <td>10000000.0</td>\n",
       "      <td>1.0 x 10^7</td>\n",
       "    </tr>\n",
       "    <tr>\n",
       "      <th>3</th>\n",
       "      <td>Cells/Well</td>\n",
       "      <td>10000.0</td>\n",
       "      <td>1.0 x 10^4</td>\n",
       "    </tr>\n",
       "    <tr>\n",
       "      <th>4</th>\n",
       "      <td>Cells/Hydrogel</td>\n",
       "      <td>10000.0</td>\n",
       "      <td>1.0 x 10^4</td>\n",
       "    </tr>\n",
       "    <tr>\n",
       "      <th>5</th>\n",
       "      <td>Cells/Ml</td>\n",
       "      <td>1000000.0</td>\n",
       "      <td>1.0 x 10^6</td>\n",
       "    </tr>\n",
       "    <tr>\n",
       "      <th>...</th>\n",
       "      <td>...</td>\n",
       "      <td>...</td>\n",
       "      <td>...</td>\n",
       "    </tr>\n",
       "    <tr>\n",
       "      <th>64</th>\n",
       "      <td>Cells/Hydrogel</td>\n",
       "      <td>200000.0</td>\n",
       "      <td>2.0 x 10^5</td>\n",
       "    </tr>\n",
       "    <tr>\n",
       "      <th>65</th>\n",
       "      <td>Cells/Ml</td>\n",
       "      <td>10000000.0</td>\n",
       "      <td>1.0 x 10^7</td>\n",
       "    </tr>\n",
       "    <tr>\n",
       "      <th>66</th>\n",
       "      <td>Cells/Hydrogel</td>\n",
       "      <td>200000.0</td>\n",
       "      <td>2.0 x 10^5</td>\n",
       "    </tr>\n",
       "    <tr>\n",
       "      <th>67</th>\n",
       "      <td>Cells/Hydrogel</td>\n",
       "      <td>5000000.0</td>\n",
       "      <td>5.0 x 10^6</td>\n",
       "    </tr>\n",
       "    <tr>\n",
       "      <th>68</th>\n",
       "      <td>Cells/Ml</td>\n",
       "      <td>10000.0</td>\n",
       "      <td>1.0 x 10^4</td>\n",
       "    </tr>\n",
       "  </tbody>\n",
       "</table>\n",
       "<p>64 rows × 3 columns</p>\n",
       "</div>"
      ],
      "text/plain": [
       "   Cell_density_unit  Cell_denisty Formatted_Density\n",
       "0         Cells/Well     1000000.0        1.0 x 10^6\n",
       "1         Cells/Well    10000000.0        1.0 x 10^7\n",
       "3         Cells/Well       10000.0        1.0 x 10^4\n",
       "4     Cells/Hydrogel       10000.0        1.0 x 10^4\n",
       "5           Cells/Ml     1000000.0        1.0 x 10^6\n",
       "..               ...           ...               ...\n",
       "64    Cells/Hydrogel      200000.0        2.0 x 10^5\n",
       "65          Cells/Ml    10000000.0        1.0 x 10^7\n",
       "66    Cells/Hydrogel      200000.0        2.0 x 10^5\n",
       "67    Cells/Hydrogel     5000000.0        5.0 x 10^6\n",
       "68          Cells/Ml       10000.0        1.0 x 10^4\n",
       "\n",
       "[64 rows x 3 columns]"
      ]
     },
     "execution_count": 811,
     "metadata": {},
     "output_type": "execute_result"
    }
   ],
   "source": [
    "# Figure 6-C (Distribution of Studies by Exact Cell density and Unit)\n",
    "\n",
    "# cleaning cell density unit data \n",
    "wdf_3 = df.iloc[1:,].loc[:,['Cell_density_unit']]\n",
    "wdf_3 = wdf_3.dropna().reset_index().drop(columns = 'index')\n",
    "wdf_3.Cell_density_unit =wdf_3.Cell_density_unit.str.title()\n",
    "wdf_3.Cell_density_unit= np.where(wdf_3.Cell_density_unit ==  'Cell/Ml', 'Cells/Ml',wdf_3.Cell_density_unit )\n",
    "wdf_3.Cell_density_unit= np.where(wdf_3.Cell_density_unit ==  'Ml', 'Cells/Ml',wdf_3.Cell_density_unit )\n",
    "wdf_3.Cell_density_unit= np.where(wdf_3.Cell_density_unit ==  'Cell/Well', 'Cells/Well',wdf_3.Cell_density_unit )\n",
    "\n",
    "# cleaning cell density value data\n",
    "wdf_4 =df.iloc[1:,].loc[:,['Cell_denisty']]\n",
    "wdf_4.Cell_denisty = wdf_4.Cell_denisty.astype(float)\n",
    "wdf_4 = wdf_4.dropna().reset_index().drop(columns='index')\n",
    "\n",
    "# Merging the two data\n",
    "density_df = pd.concat([wdf_3,wdf_4],axis=1)\n",
    "\n",
    "# Formatting cell density values to scientific notation\n",
    "\n",
    "def format_density_density(value):  \n",
    "    \"\"\"Convert a numerical value to the format 's x 10^n'.\"\"\"  \n",
    "    if value == 0:  \n",
    "        return \"0\"  \n",
    "    else:  \n",
    "        exponent = int(np.floor(np.log10(value)))   \n",
    "        coefficient = value / (10 ** exponent)       \n",
    "        if coefficient >= 10:  \n",
    "            coefficient /= 10  \n",
    "            exponent += 1  \n",
    "        return f\"{coefficient:.1f} x 10^{exponent}\"  \n",
    "\n",
    "# Apply the function to create a new column 'Formatted_Density'  \n",
    "density_df['Formatted_Density'] = density_df['Cell_denisty'].apply(format_density_density)  \n",
    "\n",
    "# creating the final df \n",
    "density_df = pd.DataFrame(density_df[['Cell_density_unit', 'Cell_denisty', 'Formatted_Density']])\n",
    "density_df = density_df[density_df.Cell_density_unit != 'Cells/Disc']\n",
    "density_df = density_df[density_df.Cell_density_unit != 'Cells/Cm2']\n",
    "density_df"
   ]
  },
  {
   "cell_type": "code",
   "execution_count": 812,
   "id": "c090f93c",
   "metadata": {},
   "outputs": [
    {
     "name": "stderr",
     "output_type": "stream",
     "text": [
      "C:\\Users\\Mhaha\\AppData\\Local\\Temp\\ipykernel_26048\\314692049.py:40: FutureWarning:\n",
      "\n",
      "Series.__getitem__ treating keys as positions is deprecated. In a future version, integer keys will always be treated as labels (consistent with DataFrame behavior). To access a value by position, use `ser.iloc[pos]`\n",
      "\n",
      "C:\\Users\\Mhaha\\AppData\\Local\\Temp\\ipykernel_26048\\314692049.py:41: FutureWarning:\n",
      "\n",
      "Series.__getitem__ treating keys as positions is deprecated. In a future version, integer keys will always be treated as labels (consistent with DataFrame behavior). To access a value by position, use `ser.iloc[pos]`\n",
      "\n"
     ]
    },
    {
     "data": {
      "image/png": "[encoded data removed]",
      "text/plain": [
       "<Figure size 1400x500 with 1 Axes>"
      ]
     },
     "metadata": {},
     "output_type": "display_data"
    }
   ],
   "source": [
    "# Figure 6-C (Continued: Graphing)\n",
    "grouped = density_df.groupby(['Formatted_Density', 'Cell_density_unit']).size().unstack(fill_value=0)  \n",
    "\n",
    "# Extracting numeric value for sorting y-axis\n",
    "def extract_numeric_value(formatted_value):  \n",
    "    \"\"\"Extracts a numerical value from the formatted density string.\"\"\"  \n",
    "    if formatted_value == \"0\":  \n",
    "        return 0  \n",
    "    coefficient, exponent = formatted_value.split(' x 10^')  \n",
    "    return float(coefficient) * (10 ** int(exponent))  \n",
    "\n",
    "# applying the function to sort the values \n",
    "grouped['Numeric_Value'] = grouped.index.map(extract_numeric_value)  \n",
    "grouped = grouped.sort_values(by='Numeric_Value')  \n",
    "grouped = grouped.drop(columns='Numeric_Value')  \n",
    "\n",
    "# plotting horizontal stacked bar chart with specified dimensions  \n",
    "colors = ['lightgrey', 'lightblue', 'lightgreen']  \n",
    "ax = grouped.plot(kind='barh', stacked=True, color=colors, edgecolor='black', figsize=(14, 5), width=0.7)  # Set figure size here  \n",
    "\n",
    "# Adding labels,title, and legend\n",
    "plt.xlabel('Number of Studies', fontsize=17)  \n",
    "plt.ylabel('Cell Density', fontsize=17,labelpad=10)  \n",
    "plt.title('Distribution of Studies by Exact Cell Density and Unit', fontsize=16, pad=20,fontweight='bold')  \n",
    "plt.yticks(fontsize=11, va='center', rotation=0, ha='right')\n",
    "plt.xticks(size=10)\n",
    "plt.subplots_adjust(left=0.2)  \n",
    "plt.legend(title='Cell Density Unit', loc='upper right', fontsize=12, bbox_to_anchor=(0.5, 0.05, 0.5, 0.5))\n",
    "plt.grid(axis='x', linestyle='--', linewidth=0.7)  \n",
    "\n",
    "# adjusting the y-tick labels position\n",
    "for label in ax.get_yticklabels():  \n",
    "    label.set_x(label.get_position()[0] - 0.007)  \n",
    "    \n",
    "# Annotating counts inside the bars \n",
    "for i in range(grouped.shape[0]):  \n",
    "    cumulative_sum = grouped.iloc[i].cumsum()  \n",
    "    counts = grouped.iloc[i]  \n",
    "    for j in range(len(counts)):  \n",
    "        if counts[j] > 0:    \n",
    "            ax.text(cumulative_sum[j] - counts[j] * 0.03, i, str(counts[j]),  \n",
    "                    ha='right', va='center', fontsize=9, color='black')  \n",
    "            \n",
    "#plt.savefig('filename1.png',bbox_inches='tight')  # Saving the file \n",
    "plt.tight_layout()\n",
    "plt.show()"
   ]
  },
  {
   "cell_type": "code",
   "execution_count": 813,
   "id": "6f1f5bd0",
   "metadata": {},
   "outputs": [
    {
     "name": "stdout",
     "output_type": "stream",
     "text": [
      "Mode\n",
      "Mono-culture    87\n",
      "Co-culture       4\n",
      "Name: count, dtype: int64\n",
      "______________\n",
      "Culture_duration\n",
      "3d-2w    76\n",
      "2w-3m    10\n",
      "<3d       5\n",
      "Name: count, dtype: int64\n",
      "______________\n",
      "Cell_density_unit\n",
      "Cells/Ml          24\n",
      "Cells/Hydrogel    23\n",
      "Cells/Well        17\n",
      "Cells/Cm2          4\n",
      "Cells/Disc         1\n",
      "Name: count, dtype: int64\n"
     ]
    },
    {
     "data": {
      "text/html": [
       "<div>\n",
       "<style scoped>\n",
       "    .dataframe tbody tr th:only-of-type {\n",
       "        vertical-align: middle;\n",
       "    }\n",
       "\n",
       "    .dataframe tbody tr th {\n",
       "        vertical-align: top;\n",
       "    }\n",
       "\n",
       "    .dataframe thead th {\n",
       "        text-align: right;\n",
       "    }\n",
       "</style>\n",
       "<table border=\"1\" class=\"dataframe\">\n",
       "  <thead>\n",
       "    <tr style=\"text-align: right;\">\n",
       "      <th></th>\n",
       "      <th>Mode</th>\n",
       "      <th>Culture_duration</th>\n",
       "      <th>Cell_density_unit</th>\n",
       "    </tr>\n",
       "  </thead>\n",
       "  <tbody>\n",
       "    <tr>\n",
       "      <th>0</th>\n",
       "      <td>Mono-culture</td>\n",
       "      <td>3d-2w</td>\n",
       "      <td>Cells/Well</td>\n",
       "    </tr>\n",
       "    <tr>\n",
       "      <th>1</th>\n",
       "      <td>Mono-culture</td>\n",
       "      <td>2w-3m</td>\n",
       "      <td>Cells/Well</td>\n",
       "    </tr>\n",
       "    <tr>\n",
       "      <th>2</th>\n",
       "      <td>Co-culture</td>\n",
       "      <td>3d-2w</td>\n",
       "      <td>Cells/Disc</td>\n",
       "    </tr>\n",
       "    <tr>\n",
       "      <th>3</th>\n",
       "      <td>Mono-culture</td>\n",
       "      <td>3d-2w</td>\n",
       "      <td>Cells/Well</td>\n",
       "    </tr>\n",
       "    <tr>\n",
       "      <th>4</th>\n",
       "      <td>Mono-culture</td>\n",
       "      <td>2w-3m</td>\n",
       "      <td>Cells/Hydrogel</td>\n",
       "    </tr>\n",
       "    <tr>\n",
       "      <th>...</th>\n",
       "      <td>...</td>\n",
       "      <td>...</td>\n",
       "      <td>...</td>\n",
       "    </tr>\n",
       "    <tr>\n",
       "      <th>88</th>\n",
       "      <td>Mono-culture</td>\n",
       "      <td>3d-2w</td>\n",
       "      <td>NaN</td>\n",
       "    </tr>\n",
       "    <tr>\n",
       "      <th>89</th>\n",
       "      <td>Mono-culture</td>\n",
       "      <td>3d-2w</td>\n",
       "      <td>NaN</td>\n",
       "    </tr>\n",
       "    <tr>\n",
       "      <th>90</th>\n",
       "      <td>Mono-culture</td>\n",
       "      <td>2w-3m</td>\n",
       "      <td>NaN</td>\n",
       "    </tr>\n",
       "    <tr>\n",
       "      <th>91</th>\n",
       "      <td>Mono-culture</td>\n",
       "      <td>2w-3m</td>\n",
       "      <td>NaN</td>\n",
       "    </tr>\n",
       "    <tr>\n",
       "      <th>33</th>\n",
       "      <td>NaN</td>\n",
       "      <td>NaN</td>\n",
       "      <td>Cells/Hydrogel</td>\n",
       "    </tr>\n",
       "  </tbody>\n",
       "</table>\n",
       "<p>92 rows × 3 columns</p>\n",
       "</div>"
      ],
      "text/plain": [
       "            Mode Culture_duration Cell_density_unit\n",
       "0   Mono-culture            3d-2w        Cells/Well\n",
       "1   Mono-culture            2w-3m        Cells/Well\n",
       "2     Co-culture            3d-2w        Cells/Disc\n",
       "3   Mono-culture            3d-2w        Cells/Well\n",
       "4   Mono-culture            2w-3m    Cells/Hydrogel\n",
       "..           ...              ...               ...\n",
       "88  Mono-culture            3d-2w               NaN\n",
       "89  Mono-culture            3d-2w               NaN\n",
       "90  Mono-culture            2w-3m               NaN\n",
       "91  Mono-culture            2w-3m               NaN\n",
       "33           NaN              NaN    Cells/Hydrogel\n",
       "\n",
       "[92 rows x 3 columns]"
      ]
     },
     "execution_count": 813,
     "metadata": {},
     "output_type": "execute_result"
    }
   ],
   "source": [
    "# Figure 6-D (Cell culture Mode, Duration, and seeding Unit)\n",
    "\n",
    "# Cleaning the data for mode and duration of culture\n",
    "wdf_5 = df.iloc[1:,].loc[:,['Mode','Culture_duration']]\n",
    "wdf_5 =wdf_5.dropna().reset_index().drop(columns='index')\n",
    "wdf_5 = wdf_5[wdf_5.Culture_duration !='Not reported']\n",
    "\n",
    "# merging with the cell density unit data\n",
    "wdf_6 = pd.concat([wdf_5,wdf_3],axis=1) \n",
    "\n",
    "#Exporting to create visualization via R (refer to R code)\n",
    "wdf_6.to_csv('wdf_6.csv')\n",
    "\n",
    "# Annotations were added using the counts obtained below\n",
    "print(wdf_6.Mode.value_counts())\n",
    "print('______________')\n",
    "print(wdf_6.Culture_duration.value_counts())\n",
    "print('______________')\n",
    "print(wdf_6.Cell_density_unit.value_counts())\n",
    "\n",
    "wdf_6"
   ]
  },
  {
   "cell_type": "code",
   "execution_count": 726,
   "id": "46fb747a",
   "metadata": {
    "scrolled": true
   },
   "outputs": [
    {
     "name": "stdout",
     "output_type": "stream",
     "text": [
      "Hydrogel_origion         \n",
      "Natural                      76\n",
      "Synthetic                    12\n",
      "Mixed (Natural,Synthetic)     9\n",
      "Mixed                         1\n",
      "Name: count, dtype: int64\n",
      "___________________\n"
     ]
    },
    {
     "data": {
      "text/plain": [
       "Natural_type\n",
       "Polysaccharide-based                           52\n",
       "Protein-based                                  12\n",
       "Mixed(Protein-based, Polysaccharide-based)     10\n",
       "Mixed(ECM-based, Polysaccharide-based)          1\n",
       "Mixed                                           1\n",
       "Name: count, dtype: int64"
      ]
     },
     "execution_count": 726,
     "metadata": {},
     "output_type": "execute_result"
    }
   ],
   "source": [
    "# Fig 7-A Pie chart (Counts below ere used to make the core/ refer to Pie charts sheet in EDA)\n",
    "wdf_7 = df.iloc[1:,].loc[:,['Hydrogel_origion']]\n",
    "print(wdf_7.dropna().value_counts())\n",
    "print('___________________')\n",
    "\n",
    "wdf_8 = df.iloc[1:,].loc[:,['Natural_type']]\n",
    "wdf_8 = wdf_8.dropna()\n",
    "wdf_8.Natural_type = np.where(wdf_8.Natural_type =='protein-based','Protein-based' ,wdf_8.Natural_type)\n",
    "wdf_8.Natural_type.value_counts()"
   ]
  },
  {
   "cell_type": "code",
   "execution_count": 836,
   "id": "39426d36",
   "metadata": {},
   "outputs": [
    {
     "data": {
      "text/plain": [
       "Polysac_name    \n",
       "Gelatin             28\n",
       "Chitosan            12\n",
       "Alginate            10\n",
       "Ha                   7\n",
       "Cellulose            2\n",
       "Agarose              1\n",
       "Chitin               1\n",
       "Gellan Gum           1\n",
       "Other (Pullulan)     1\n",
       "Xanthan Gum          1\n",
       "Name: count, dtype: int64"
      ]
     },
     "execution_count": 836,
     "metadata": {},
     "output_type": "execute_result"
    }
   ],
   "source": [
    "# Fig 7-A Pie chart (percentages below are used to make the periphery of Polysccharide-based/ refer to Pie charts sheet in EDA)\n",
    "\n",
    "# Subseting the data containing only Polysaccharides\n",
    "wdf_9 = df.iloc[1:,].loc[:,['Natural_type','Polysaccharide_type','Mixed_hydrogel_type']]\n",
    "wdf_9 = wdf_9[wdf_9['Natural_type'] =='Polysaccharide-based']\n",
    "\n",
    "# Separating multiple Polysaccharides reported with a \"comma\" between them and stacking all the indiviual types\n",
    "wdf_9_sep= wdf_9['Mixed_hydrogel_type'].str.split(',', expand=True)\n",
    "wdf_9_stacked = pd.DataFrame(pd.concat([wdf_9.iloc[:,1],wdf_9_sep.loc[:,0],wdf_9_sep.loc[:,1]], axis=0))\n",
    "wdf_9_stacked = wdf_9_stacked.reset_index().rename({0:'Polysac_name'}, axis=1).drop(columns='index').dropna()\n",
    "\n",
    "# Cleaning and Calculating the count of occurance\n",
    "wdf_9_stacked.Polysac_name = wdf_9_stacked.Polysac_name.str.strip().str.title() \n",
    "wdf_9_stacked.value_counts() "
   ]
  },
  {
   "cell_type": "code",
   "execution_count": 833,
   "id": "d197937e",
   "metadata": {},
   "outputs": [
    {
     "data": {
      "text/plain": [
       "Protein_name\n",
       "Silk            7\n",
       "Collagen        5\n",
       "Fibrin          1\n",
       "Name: count, dtype: int64"
      ]
     },
     "execution_count": 833,
     "metadata": {},
     "output_type": "execute_result"
    }
   ],
   "source": [
    "# Fig 7-A Pie chart (percentages below are used to make the periphery of Protein-based/ refer to Pie charts sheet in EDA)\n",
    "\n",
    "# Subseting the data contianing only Proteins\n",
    "wdf_10 = df.iloc[1:,].loc[:,['Natural_type','Protein_type','Mixed_hydrogel_type']]\n",
    "wdf_10 = wdf_10[wdf_10['Natural_type'] =='Protein-based']\n",
    "\n",
    "# Separating multiple Proteins reported with a \"comma\" between them and stacking all the indiviual types\n",
    "wdf_10_sep= wdf_10['Mixed_hydrogel_type'].str.split(',', expand=True)\n",
    "wdf_10_stacked = pd.DataFrame(pd.concat([wdf_10.iloc[:,1],wdf_10_sep.loc[:,0],wdf_10_sep.loc[:,1]], axis=0))\n",
    "wdf_10_stacked = wdf_10_stacked.reset_index().rename({0:'Protein_name'}, axis=1).drop(columns='index').dropna()\n",
    "\n",
    "# Cleaning and Calculating the count of occurance\n",
    "wdf_10_stacked.Protein_name = wdf_10_stacked.Protein_name.str.strip().str.title() \n",
    "wdf_10_stacked.value_counts() "
   ]
  },
  {
   "cell_type": "code",
   "execution_count": 837,
   "id": "ac64be0e",
   "metadata": {},
   "outputs": [
    {
     "data": {
      "text/plain": [
       "Sorted_Mixed_hydrogel_type\n",
       "Chitosan,Gelatin           5\n",
       "Collagen,Ha                5\n",
       "Alginate,Gelatin           3\n",
       "Collagen,Gelatin           2\n",
       "Chitosan,Polyurethane      2\n",
       "Gelatin,Ha                 2\n",
       "Chitosan,Silk              1\n",
       "Agarose,Gelatin            1\n",
       "Fibrinogen,Peo             1\n",
       "Chitosan,Ha                1\n",
       "Chitosan,Paam              1\n",
       "Ha,Paam                    1\n",
       "Matrigel                   1\n",
       "Ecm(Spinalcord),Gelatin    1\n",
       "Gelatin,Gellangum,Peg      1\n",
       "Alginate,Collagen          1\n",
       "Peg,Silk                   1\n",
       "Aam,Gelma,Nipam            1\n",
       "Cellulose,Chitosan         1\n",
       "Alginate,Cellulose         1\n",
       "Collagen,Silk              1\n",
       "Peg,Polyurethane           1\n",
       "Alginate,Ha,Poloxamer      1\n",
       "Gelatin,Silk               1\n",
       "Pcl,Silk                   1\n",
       "Name: count, dtype: int64"
      ]
     },
     "execution_count": 837,
     "metadata": {},
     "output_type": "execute_result"
    }
   ],
   "source": [
    "# Fig 7-A Pie chart (percentages below are used to make the periphery of Mixed/ refer to Pie charts sheet in EDA)\n",
    "wdf_11 = df.iloc[1:,].loc[:,['Mixed_hydrogel_type']]\n",
    "\n",
    "# Cleaning and sorting alphabetically\n",
    "wdf_11.Mixed_hydrogel_type = wdf_11.Mixed_hydrogel_type.str.replace(r'\\s+', '', regex=True).str.title()\n",
    "def sort_comma_separated_values(value):\n",
    "    if pd.isna(value):  # Check if the value is NaN\n",
    "        return value\n",
    "    return ','.join(sorted(value.split(',')))\n",
    "\n",
    "# Applying the function and calculating count of occurance \n",
    "wdf_11['Sorted_Mixed_hydrogel_type'] = wdf_11['Mixed_hydrogel_type'].apply(sort_comma_separated_values)\n",
    "wdf_11.Sorted_Mixed_hydrogel_type.value_counts() "
   ]
  },
  {
   "cell_type": "code",
   "execution_count": 707,
   "id": "e2f7a5cd",
   "metadata": {},
   "outputs": [
    {
     "data": {
      "text/html": [
       "<div>\n",
       "<style scoped>\n",
       "    .dataframe tbody tr th:only-of-type {\n",
       "        vertical-align: middle;\n",
       "    }\n",
       "\n",
       "    .dataframe tbody tr th {\n",
       "        vertical-align: top;\n",
       "    }\n",
       "\n",
       "    .dataframe thead th {\n",
       "        text-align: right;\n",
       "    }\n",
       "</style>\n",
       "<table border=\"1\" class=\"dataframe\">\n",
       "  <thead>\n",
       "    <tr style=\"text-align: right;\">\n",
       "      <th></th>\n",
       "      <th>Carbon_type</th>\n",
       "      <th>Metal_type</th>\n",
       "      <th>Ceramic_type</th>\n",
       "      <th>Polymer_type</th>\n",
       "      <th>Semiconductor_type</th>\n",
       "    </tr>\n",
       "  </thead>\n",
       "  <tbody>\n",
       "    <tr>\n",
       "      <th>1</th>\n",
       "      <td>NaN</td>\n",
       "      <td>NaN</td>\n",
       "      <td>NaN</td>\n",
       "      <td>NaN</td>\n",
       "      <td>BP</td>\n",
       "    </tr>\n",
       "    <tr>\n",
       "      <th>2</th>\n",
       "      <td>CNT</td>\n",
       "      <td>NaN</td>\n",
       "      <td>NaN</td>\n",
       "      <td>NaN</td>\n",
       "      <td>NaN</td>\n",
       "    </tr>\n",
       "    <tr>\n",
       "      <th>3</th>\n",
       "      <td>CNT</td>\n",
       "      <td>NaN</td>\n",
       "      <td>NaN</td>\n",
       "      <td>NaN</td>\n",
       "      <td>NaN</td>\n",
       "    </tr>\n",
       "    <tr>\n",
       "      <th>4</th>\n",
       "      <td>Graphene</td>\n",
       "      <td>NaN</td>\n",
       "      <td>BaTiO3</td>\n",
       "      <td>NaN</td>\n",
       "      <td>NaN</td>\n",
       "    </tr>\n",
       "    <tr>\n",
       "      <th>5</th>\n",
       "      <td>CNT</td>\n",
       "      <td>NaN</td>\n",
       "      <td>NaN</td>\n",
       "      <td>NaN</td>\n",
       "      <td>NaN</td>\n",
       "    </tr>\n",
       "    <tr>\n",
       "      <th>...</th>\n",
       "      <td>...</td>\n",
       "      <td>...</td>\n",
       "      <td>...</td>\n",
       "      <td>...</td>\n",
       "      <td>...</td>\n",
       "    </tr>\n",
       "    <tr>\n",
       "      <th>96</th>\n",
       "      <td>CNT</td>\n",
       "      <td>NaN</td>\n",
       "      <td>NaN</td>\n",
       "      <td>NaN</td>\n",
       "      <td>NaN</td>\n",
       "    </tr>\n",
       "    <tr>\n",
       "      <th>97</th>\n",
       "      <td>GO</td>\n",
       "      <td>NaN</td>\n",
       "      <td>BiFeO3</td>\n",
       "      <td>NaN</td>\n",
       "      <td>NaN</td>\n",
       "    </tr>\n",
       "    <tr>\n",
       "      <th>98</th>\n",
       "      <td>NaN</td>\n",
       "      <td>NaN</td>\n",
       "      <td>CoFe2O4</td>\n",
       "      <td>NaN</td>\n",
       "      <td>NaN</td>\n",
       "    </tr>\n",
       "    <tr>\n",
       "      <th>99</th>\n",
       "      <td>NaN</td>\n",
       "      <td>NaN</td>\n",
       "      <td>NaN</td>\n",
       "      <td>NaN</td>\n",
       "      <td>NaN</td>\n",
       "    </tr>\n",
       "    <tr>\n",
       "      <th>100</th>\n",
       "      <td>NaN</td>\n",
       "      <td>NaN</td>\n",
       "      <td>NaN</td>\n",
       "      <td>NaN</td>\n",
       "      <td>NaN</td>\n",
       "    </tr>\n",
       "  </tbody>\n",
       "</table>\n",
       "<p>100 rows × 5 columns</p>\n",
       "</div>"
      ],
      "text/plain": [
       "    Carbon_type Metal_type Ceramic_type Polymer_type Semiconductor_type\n",
       "1           NaN        NaN          NaN          NaN                 BP\n",
       "2           CNT        NaN          NaN          NaN                NaN\n",
       "3           CNT        NaN          NaN          NaN                NaN\n",
       "4      Graphene        NaN       BaTiO3          NaN                NaN\n",
       "5           CNT        NaN          NaN          NaN                NaN\n",
       "..          ...        ...          ...          ...                ...\n",
       "96          CNT        NaN          NaN          NaN                NaN\n",
       "97           GO        NaN       BiFeO3          NaN                NaN\n",
       "98          NaN        NaN      CoFe2O4          NaN                NaN\n",
       "99          NaN        NaN          NaN          NaN                NaN\n",
       "100         NaN        NaN          NaN          NaN                NaN\n",
       "\n",
       "[100 rows x 5 columns]"
      ]
     },
     "execution_count": 707,
     "metadata": {},
     "output_type": "execute_result"
    }
   ],
   "source": [
    "# Fig 7-B1 (Nanomaterial type and Frequencies)\n",
    "\n",
    "# Data is manually cleaned in 'Clean' sheet of EDA excel file\n",
    "df_1 = pd.read_excel(r\"C:\\Users\\Mhaha\\OneDrive\\Desktop\\EDA.xlsx\", sheet_name='Clean')\n",
    "wdf_12 = df_1.iloc[1:,].loc[:,['Carbon_type', 'Metal_type', 'Ceramic_type', 'Polymer_type', 'Semiconductor_type']]\n",
    "\n",
    "# More cleaning\n",
    "wdf_12.Polymer_type= np.where(wdf_12.Polymer_type == 'Polythiophene', 'PTh',wdf_12.Polymer_type)\n",
    "wdf_12.Ceramic_type= np.where(wdf_12.Ceramic_type== 'Bismuth errite', 'BiFeO3',wdf_12.Ceramic_type)\n",
    "wdf_12.Ceramic_type= np.where(wdf_12.Ceramic_type== 'Cobalt ferrite', 'CoFe2O4',wdf_12.Ceramic_type)\n",
    "wdf_12.Ceramic_type= np.where(wdf_12.Ceramic_type== 'Barium Titanate', 'BaTiO3',wdf_12.Ceramic_type)\n",
    "\n",
    "# Exporting for graphing in R (refer to R code)\n",
    "wdf_12.to_csv(\"wdf_12.csv\")\n",
    "wdf_12"
   ]
  },
  {
   "cell_type": "code",
   "execution_count": 709,
   "id": "de6d5b3d",
   "metadata": {},
   "outputs": [
    {
     "data": {
      "text/html": [
       "<div>\n",
       "<style scoped>\n",
       "    .dataframe tbody tr th:only-of-type {\n",
       "        vertical-align: middle;\n",
       "    }\n",
       "\n",
       "    .dataframe tbody tr th {\n",
       "        vertical-align: top;\n",
       "    }\n",
       "\n",
       "    .dataframe thead th {\n",
       "        text-align: right;\n",
       "    }\n",
       "</style>\n",
       "<table border=\"1\" class=\"dataframe\">\n",
       "  <thead>\n",
       "    <tr style=\"text-align: right;\">\n",
       "      <th></th>\n",
       "      <th>Nanomaterial_type</th>\n",
       "    </tr>\n",
       "  </thead>\n",
       "  <tbody>\n",
       "    <tr>\n",
       "      <th>1</th>\n",
       "      <td>Semiconductor</td>\n",
       "    </tr>\n",
       "    <tr>\n",
       "      <th>2</th>\n",
       "      <td>Carbon</td>\n",
       "    </tr>\n",
       "    <tr>\n",
       "      <th>3</th>\n",
       "      <td>Carbon</td>\n",
       "    </tr>\n",
       "    <tr>\n",
       "      <th>4</th>\n",
       "      <td>Ceramic</td>\n",
       "    </tr>\n",
       "    <tr>\n",
       "      <th>5</th>\n",
       "      <td>Carbon</td>\n",
       "    </tr>\n",
       "    <tr>\n",
       "      <th>...</th>\n",
       "      <td>...</td>\n",
       "    </tr>\n",
       "    <tr>\n",
       "      <th>94</th>\n",
       "      <td>Metal</td>\n",
       "    </tr>\n",
       "    <tr>\n",
       "      <th>95</th>\n",
       "      <td>Mixed</td>\n",
       "    </tr>\n",
       "    <tr>\n",
       "      <th>96</th>\n",
       "      <td>Carbon</td>\n",
       "    </tr>\n",
       "    <tr>\n",
       "      <th>97</th>\n",
       "      <td>Carbon</td>\n",
       "    </tr>\n",
       "    <tr>\n",
       "      <th>98</th>\n",
       "      <td>Metal</td>\n",
       "    </tr>\n",
       "  </tbody>\n",
       "</table>\n",
       "<p>98 rows × 1 columns</p>\n",
       "</div>"
      ],
      "text/plain": [
       "   Nanomaterial_type\n",
       "1      Semiconductor\n",
       "2             Carbon\n",
       "3             Carbon\n",
       "4            Ceramic\n",
       "5             Carbon\n",
       "..               ...\n",
       "94             Metal\n",
       "95             Mixed\n",
       "96            Carbon\n",
       "97            Carbon\n",
       "98             Metal\n",
       "\n",
       "[98 rows x 1 columns]"
      ]
     },
     "execution_count": 709,
     "metadata": {},
     "output_type": "execute_result"
    }
   ],
   "source": [
    "# Fig 7-B2 (Nanomaterial Type Distribution)\n",
    "\n",
    "#Data is manually cleaned in 'Clean' sheet of EDA excel file\n",
    "df_1 = pd.read_excel(r\"C:\\Users\\Mhaha\\OneDrive\\Desktop\\EDA.xlsx\", sheet_name='Clean')\n",
    "wdf_13 = df_1.iloc[1:,].loc[:,['Nanomaterial_type']]\n",
    "wdf_13 = wdf_13.dropna(subset='Nanomaterial_type')\n",
    "wdf_13.Nanomaterial_type =wdf_13.Nanomaterial_type.str.title().str.strip()\n",
    "\n",
    "# More cleaning\n",
    "wdf_13.Nanomaterial_type = np.where(wdf_13.Nanomaterial_type == 'Mixed (Ceramic-Based,Metal-Based)','Mixed (Metal-Based, Ceramic-Based)',wdf_13.Nanomaterial_type)\n",
    "wdf_13.Nanomaterial_type = np.where(wdf_13.Nanomaterial_type == 'Mixed(Carbon-Based, Semiconductor-Based)', 'Mixed (Carbon-Based, Semiconductor-Based)',wdf_13.Nanomaterial_type)\n",
    "wdf_13.Nanomaterial_type = np.where(wdf_13.Nanomaterial_type =='Mixed ','Mixed',wdf_13.Nanomaterial_type)\n",
    "wdf_13.Nanomaterial_type = np.where(wdf_13.Nanomaterial_type == 'Carbon-Based','Carbon',wdf_13.Nanomaterial_type)\n",
    "wdf_13.Nanomaterial_type = np.where(wdf_13.Nanomaterial_type == 'Ceramic-Based','Ceramic',wdf_13.Nanomaterial_type)\n",
    "wdf_13.Nanomaterial_type = np.where(wdf_13.Nanomaterial_type ==  'Polymer-Based','Polymer',wdf_13.Nanomaterial_type)\n",
    "wdf_13.Nanomaterial_type = np.where(wdf_13.Nanomaterial_type ==  'Metal-Based','Metal',wdf_13.Nanomaterial_type)\n",
    "wdf_13.Nanomaterial_type = np.where(wdf_13.Nanomaterial_type ==  'Semiconductor-Based','Semiconductor',wdf_13.Nanomaterial_type)\n",
    "\n",
    "# Exporting for graphing in R (refer to R code)\n",
    "wdf_13.to_csv(\"wdf_13.csv\")\n",
    "wdf_13"
   ]
  },
  {
   "cell_type": "code",
   "execution_count": 804,
   "id": "533453a6",
   "metadata": {},
   "outputs": [
    {
     "data": {
      "text/html": [
       "<div>\n",
       "<style scoped>\n",
       "    .dataframe tbody tr th:only-of-type {\n",
       "        vertical-align: middle;\n",
       "    }\n",
       "\n",
       "    .dataframe tbody tr th {\n",
       "        vertical-align: top;\n",
       "    }\n",
       "\n",
       "    .dataframe thead th {\n",
       "        text-align: right;\n",
       "    }\n",
       "</style>\n",
       "<table border=\"1\" class=\"dataframe\">\n",
       "  <thead>\n",
       "    <tr style=\"text-align: right;\">\n",
       "      <th></th>\n",
       "      <th>Merged_Column</th>\n",
       "      <th>Crosslinking_type</th>\n",
       "    </tr>\n",
       "  </thead>\n",
       "  <tbody>\n",
       "    <tr>\n",
       "      <th>44</th>\n",
       "      <td>Protein-Based</td>\n",
       "      <td>Covalent</td>\n",
       "    </tr>\n",
       "    <tr>\n",
       "      <th>21</th>\n",
       "      <td>Polysaccharide-Based</td>\n",
       "      <td>Covalent</td>\n",
       "    </tr>\n",
       "    <tr>\n",
       "      <th>32</th>\n",
       "      <td>Polysaccharide-Based</td>\n",
       "      <td>Covalent</td>\n",
       "    </tr>\n",
       "    <tr>\n",
       "      <th>24</th>\n",
       "      <td>Polysaccharide-Based</td>\n",
       "      <td>Photopolymerization</td>\n",
       "    </tr>\n",
       "    <tr>\n",
       "      <th>29</th>\n",
       "      <td>Polysaccharide-Based</td>\n",
       "      <td>Covalent</td>\n",
       "    </tr>\n",
       "    <tr>\n",
       "      <th>9</th>\n",
       "      <td>Polysaccharide-Based</td>\n",
       "      <td>Photopolymerization</td>\n",
       "    </tr>\n",
       "    <tr>\n",
       "      <th>3</th>\n",
       "      <td>Polysaccharide-Based</td>\n",
       "      <td>Photopolymerization</td>\n",
       "    </tr>\n",
       "    <tr>\n",
       "      <th>6</th>\n",
       "      <td>Synthetic</td>\n",
       "      <td>Photopolymerization</td>\n",
       "    </tr>\n",
       "    <tr>\n",
       "      <th>18</th>\n",
       "      <td>Polysaccharide-Based</td>\n",
       "      <td>Photopolymerization</td>\n",
       "    </tr>\n",
       "    <tr>\n",
       "      <th>2</th>\n",
       "      <td>Polysaccharide-Based</td>\n",
       "      <td>Covalent</td>\n",
       "    </tr>\n",
       "  </tbody>\n",
       "</table>\n",
       "</div>"
      ],
      "text/plain": [
       "           Merged_Column    Crosslinking_type\n",
       "44         Protein-Based             Covalent\n",
       "21  Polysaccharide-Based             Covalent\n",
       "32  Polysaccharide-Based             Covalent\n",
       "24  Polysaccharide-Based  Photopolymerization\n",
       "29  Polysaccharide-Based             Covalent\n",
       "9   Polysaccharide-Based  Photopolymerization\n",
       "3   Polysaccharide-Based  Photopolymerization\n",
       "6              Synthetic  Photopolymerization\n",
       "18  Polysaccharide-Based  Photopolymerization\n",
       "2   Polysaccharide-Based             Covalent"
      ]
     },
     "execution_count": 804,
     "metadata": {},
     "output_type": "execute_result"
    }
   ],
   "source": [
    "# Fig 7-C1 (Snakey graph at top: cleaning)\n",
    "wdf = df.iloc[1:,].loc[:,['Hydrogel_origion',\"Natural_type\",\"Crosslinking_type\"]].dropna(subset=\"Crosslinking_type\")\n",
    "\n",
    "# cleaning the Crosslinking_type column \n",
    "wdf.Crosslinking_type = wdf.Crosslinking_type.str.title()\n",
    "wdf.Crosslinking_type = np.where(wdf.Crosslinking_type == 'covalent', 'Covalent',wdf.Crosslinking_type)\n",
    "wdf.Crosslinking_type = np.where(wdf.Crosslinking_type == 'Physical ', 'Physical',wdf.Crosslinking_type)\n",
    "wdf = wdf[wdf.Crosslinking_type.isin(['Covalent','Ionic','Photopolymerization','3D Bioprinting','Physical','Self-Assembly'])]\n",
    "\n",
    "# cleaning the Natural_type column \n",
    "wdf.Natural_type = wdf.Natural_type.str.title()\n",
    "df = wdf[~wdf.Natural_type.isin(['Mixed(Protein-Based, Polysaccharide-Based) ', 'Mixed(Ecm-Based, Polysaccharide-Based) ','Mixed' ])]\n",
    "\n",
    "# cleaning the Hydrogel_origion column \n",
    "wdf.Hydrogel_origion = wdf.Hydrogel_origion.str.title()\n",
    "wdf = wdf[~wdf.Natural_type.isin(['Natural', 'Mixed', ])]\n",
    "wdf.Hydrogel_origion = np.where(wdf.Hydrogel_origion =='Natural', np.nan, wdf.Hydrogel_origion)\n",
    "wdf = wdf.reset_index().drop(columns='index')\n",
    "wdf.sample(10)\n",
    "\n",
    "# merging the first two columns\n",
    "wdf['Merged_Column'] = wdf['Hydrogel_origion'].fillna(wdf['Natural_type'])\n",
    "wdf = wdf.loc[:,[\"Merged_Column\", 'Crosslinking_type']]\n",
    "wdf.sample(10)"
   ]
  },
  {
   "cell_type": "code",
   "execution_count": 805,
   "id": "274ffc69",
   "metadata": {},
   "outputs": [
    {
     "data": {
      "application/vnd.plotly.v1+json": {
       "config": {
        "plotlyServerURL": "https://plot.ly"
       },
       "data": [
        {
         "link": {
          "source": [
           0,
           0,
           0,
           0,
           0,
           0,
           1,
           0,
           2,
           0,
           0,
           0,
           0,
           0,
           0,
           2,
           2,
           1,
           0,
           0,
           3,
           0,
           3,
           3,
           0,
           0,
           0,
           2,
           2,
           0,
           0,
           0,
           0,
           2,
           0,
           0,
           0,
           0,
           3,
           0,
           2,
           0,
           0,
           0,
           3
          ],
          "target": [
           4,
           5,
           5,
           6,
           5,
           5,
           6,
           5,
           6,
           6,
           6,
           6,
           7,
           7,
           5,
           5,
           5,
           7,
           6,
           5,
           4,
           5,
           5,
           5,
           6,
           4,
           6,
           5,
           5,
           5,
           6,
           4,
           5,
           4,
           4,
           6,
           5,
           6,
           7,
           5,
           5,
           7,
           4,
           6,
           5
          ],
          "value": [
           1,
           1,
           1,
           1,
           1,
           1,
           1,
           1,
           1,
           1,
           1,
           1,
           1,
           1,
           1,
           1,
           1,
           1,
           1,
           1,
           1,
           1,
           1,
           1,
           1,
           1,
           1,
           1,
           1,
           1,
           1,
           1,
           1,
           1,
           1,
           1,
           1,
           1,
           1,
           1,
           1,
           1,
           1,
           1,
           1
          ]
         },
         "node": {
          "label": [
           "Polysaccharide-Based",
           "Synthetic",
           "Mixed (Natural,Synthetic)",
           "Protein-Based",
           "Ionic",
           "Covalent",
           "Photopolymerization",
           "Physical"
          ],
          "line": {
           "color": "black",
           "width": 0.5
          },
          "pad": 15,
          "thickness": 20
         },
         "type": "sankey"
        }
       ],
       "layout": {
        "font": {
         "color": "black",
         "family": "Arial",
         "size": 21
        },
        "height": 600,
        "margin": {
         "b": 10,
         "l": 10,
         "r": 10,
         "t": 10
        },
        "template": {
         "data": {
          "bar": [
           {
            "error_x": {
             "color": "#2a3f5f"
            },
            "error_y": {
             "color": "#2a3f5f"
            },
            "marker": {
             "line": {
              "color": "#E5ECF6",
              "width": 0.5
             },
             "pattern": {
              "fillmode": "overlay",
              "size": 10,
              "solidity": 0.2
             }
            },
            "type": "bar"
           }
          ],
          "barpolar": [
           {
            "marker": {
             "line": {
              "color": "#E5ECF6",
              "width": 0.5
             },
             "pattern": {
              "fillmode": "overlay",
              "size": 10,
              "solidity": 0.2
             }
            },
            "type": "barpolar"
           }
          ],
          "carpet": [
           {
            "aaxis": {
             "endlinecolor": "#2a3f5f",
             "gridcolor": "white",
             "linecolor": "white",
             "minorgridcolor": "white",
             "startlinecolor": "#2a3f5f"
            },
            "baxis": {
             "endlinecolor": "#2a3f5f",
             "gridcolor": "white",
             "linecolor": "white",
             "minorgridcolor": "white",
             "startlinecolor": "#2a3f5f"
            },
            "type": "carpet"
           }
          ],
          "choropleth": [
           {
            "colorbar": {
             "outlinewidth": 0,
             "ticks": ""
            },
            "type": "choropleth"
           }
          ],
          "contour": [
           {
            "colorbar": {
             "outlinewidth": 0,
             "ticks": ""
            },
            "colorscale": [
             [
              0,
              "#0d0887"
             ],
             [
              0.1111111111111111,
              "#46039f"
             ],
             [
              0.2222222222222222,
              "#7201a8"
             ],
             [
              0.3333333333333333,
              "#9c179e"
             ],
             [
              0.4444444444444444,
              "#bd3786"
             ],
             [
              0.5555555555555556,
              "#d8576b"
             ],
             [
              0.6666666666666666,
              "#ed7953"
             ],
             [
              0.7777777777777778,
              "#fb9f3a"
             ],
             [
              0.8888888888888888,
              "#fdca26"
             ],
             [
              1,
              "#f0f921"
             ]
            ],
            "type": "contour"
           }
          ],
          "contourcarpet": [
           {
            "colorbar": {
             "outlinewidth": 0,
             "ticks": ""
            },
            "type": "contourcarpet"
           }
          ],
          "heatmap": [
           {
            "colorbar": {
             "outlinewidth": 0,
             "ticks": ""
            },
            "colorscale": [
             [
              0,
              "#0d0887"
             ],
             [
              0.1111111111111111,
              "#46039f"
             ],
             [
              0.2222222222222222,
              "#7201a8"
             ],
             [
              0.3333333333333333,
              "#9c179e"
             ],
             [
              0.4444444444444444,
              "#bd3786"
             ],
             [
              0.5555555555555556,
              "#d8576b"
             ],
             [
              0.6666666666666666,
              "#ed7953"
             ],
             [
              0.7777777777777778,
              "#fb9f3a"
             ],
             [
              0.8888888888888888,
              "#fdca26"
             ],
             [
              1,
              "#f0f921"
             ]
            ],
            "type": "heatmap"
           }
          ],
          "heatmapgl": [
           {
            "colorbar": {
             "outlinewidth": 0,
             "ticks": ""
            },
            "colorscale": [
             [
              0,
              "#0d0887"
             ],
             [
              0.1111111111111111,
              "#46039f"
             ],
             [
              0.2222222222222222,
              "#7201a8"
             ],
             [
              0.3333333333333333,
              "#9c179e"
             ],
             [
              0.4444444444444444,
              "#bd3786"
             ],
             [
              0.5555555555555556,
              "#d8576b"
             ],
             [
              0.6666666666666666,
              "#ed7953"
             ],
             [
              0.7777777777777778,
              "#fb9f3a"
             ],
             [
              0.8888888888888888,
              "#fdca26"
             ],
             [
              1,
              "#f0f921"
             ]
            ],
            "type": "heatmapgl"
           }
          ],
          "histogram": [
           {
            "marker": {
             "pattern": {
              "fillmode": "overlay",
              "size": 10,
              "solidity": 0.2
             }
            },
            "type": "histogram"
           }
          ],
          "histogram2d": [
           {
            "colorbar": {
             "outlinewidth": 0,
             "ticks": ""
            },
            "colorscale": [
             [
              0,
              "#0d0887"
             ],
             [
              0.1111111111111111,
              "#46039f"
             ],
             [
              0.2222222222222222,
              "#7201a8"
             ],
             [
              0.3333333333333333,
              "#9c179e"
             ],
             [
              0.4444444444444444,
              "#bd3786"
             ],
             [
              0.5555555555555556,
              "#d8576b"
             ],
             [
              0.6666666666666666,
              "#ed7953"
             ],
             [
              0.7777777777777778,
              "#fb9f3a"
             ],
             [
              0.8888888888888888,
              "#fdca26"
             ],
             [
              1,
              "#f0f921"
             ]
            ],
            "type": "histogram2d"
           }
          ],
          "histogram2dcontour": [
           {
            "colorbar": {
             "outlinewidth": 0,
             "ticks": ""
            },
            "colorscale": [
             [
              0,
              "#0d0887"
             ],
             [
              0.1111111111111111,
              "#46039f"
             ],
             [
              0.2222222222222222,
              "#7201a8"
             ],
             [
              0.3333333333333333,
              "#9c179e"
             ],
             [
              0.4444444444444444,
              "#bd3786"
             ],
             [
              0.5555555555555556,
              "#d8576b"
             ],
             [
              0.6666666666666666,
              "#ed7953"
             ],
             [
              0.7777777777777778,
              "#fb9f3a"
             ],
             [
              0.8888888888888888,
              "#fdca26"
             ],
             [
              1,
              "#f0f921"
             ]
            ],
            "type": "histogram2dcontour"
           }
          ],
          "mesh3d": [
           {
            "colorbar": {
             "outlinewidth": 0,
             "ticks": ""
            },
            "type": "mesh3d"
           }
          ],
          "parcoords": [
           {
            "line": {
             "colorbar": {
              "outlinewidth": 0,
              "ticks": ""
             }
            },
            "type": "parcoords"
           }
          ],
          "pie": [
           {
            "automargin": true,
            "type": "pie"
           }
          ],
          "scatter": [
           {
            "fillpattern": {
             "fillmode": "overlay",
             "size": 10,
             "solidity": 0.2
            },
            "type": "scatter"
           }
          ],
          "scatter3d": [
           {
            "line": {
             "colorbar": {
              "outlinewidth": 0,
              "ticks": ""
             }
            },
            "marker": {
             "colorbar": {
              "outlinewidth": 0,
              "ticks": ""
             }
            },
            "type": "scatter3d"
           }
          ],
          "scattercarpet": [
           {
            "marker": {
             "colorbar": {
              "outlinewidth": 0,
              "ticks": ""
             }
            },
            "type": "scattercarpet"
           }
          ],
          "scattergeo": [
           {
            "marker": {
             "colorbar": {
              "outlinewidth": 0,
              "ticks": ""
             }
            },
            "type": "scattergeo"
           }
          ],
          "scattergl": [
           {
            "marker": {
             "colorbar": {
              "outlinewidth": 0,
              "ticks": ""
             }
            },
            "type": "scattergl"
           }
          ],
          "scattermapbox": [
           {
            "marker": {
             "colorbar": {
              "outlinewidth": 0,
              "ticks": ""
             }
            },
            "type": "scattermapbox"
           }
          ],
          "scatterpolar": [
           {
            "marker": {
             "colorbar": {
              "outlinewidth": 0,
              "ticks": ""
             }
            },
            "type": "scatterpolar"
           }
          ],
          "scatterpolargl": [
           {
            "marker": {
             "colorbar": {
              "outlinewidth": 0,
              "ticks": ""
             }
            },
            "type": "scatterpolargl"
           }
          ],
          "scatterternary": [
           {
            "marker": {
             "colorbar": {
              "outlinewidth": 0,
              "ticks": ""
             }
            },
            "type": "scatterternary"
           }
          ],
          "surface": [
           {
            "colorbar": {
             "outlinewidth": 0,
             "ticks": ""
            },
            "colorscale": [
             [
              0,
              "#0d0887"
             ],
             [
              0.1111111111111111,
              "#46039f"
             ],
             [
              0.2222222222222222,
              "#7201a8"
             ],
             [
              0.3333333333333333,
              "#9c179e"
             ],
             [
              0.4444444444444444,
              "#bd3786"
             ],
             [
              0.5555555555555556,
              "#d8576b"
             ],
             [
              0.6666666666666666,
              "#ed7953"
             ],
             [
              0.7777777777777778,
              "#fb9f3a"
             ],
             [
              0.8888888888888888,
              "#fdca26"
             ],
             [
              1,
              "#f0f921"
             ]
            ],
            "type": "surface"
           }
          ],
          "table": [
           {
            "cells": {
             "fill": {
              "color": "#EBF0F8"
             },
             "line": {
              "color": "white"
             }
            },
            "header": {
             "fill": {
              "color": "#C8D4E3"
             },
             "line": {
              "color": "white"
             }
            },
            "type": "table"
           }
          ]
         },
         "layout": {
          "annotationdefaults": {
           "arrowcolor": "#2a3f5f",
           "arrowhead": 0,
           "arrowwidth": 1
          },
          "autotypenumbers": "strict",
          "coloraxis": {
           "colorbar": {
            "outlinewidth": 0,
            "ticks": ""
           }
          },
          "colorscale": {
           "diverging": [
            [
             0,
             "#8e0152"
            ],
            [
             0.1,
             "#c51b7d"
            ],
            [
             0.2,
             "#de77ae"
            ],
            [
             0.3,
             "#f1b6da"
            ],
            [
             0.4,
             "#fde0ef"
            ],
            [
             0.5,
             "#f7f7f7"
            ],
            [
             0.6,
             "#e6f5d0"
            ],
            [
             0.7,
             "#b8e186"
            ],
            [
             0.8,
             "#7fbc41"
            ],
            [
             0.9,
             "#4d9221"
            ],
            [
             1,
             "#276419"
            ]
           ],
           "sequential": [
            [
             0,
             "#0d0887"
            ],
            [
             0.1111111111111111,
             "#46039f"
            ],
            [
             0.2222222222222222,
             "#7201a8"
            ],
            [
             0.3333333333333333,
             "#9c179e"
            ],
            [
             0.4444444444444444,
             "#bd3786"
            ],
            [
             0.5555555555555556,
             "#d8576b"
            ],
            [
             0.6666666666666666,
             "#ed7953"
            ],
            [
             0.7777777777777778,
             "#fb9f3a"
            ],
            [
             0.8888888888888888,
             "#fdca26"
            ],
            [
             1,
             "#f0f921"
            ]
           ],
           "sequentialminus": [
            [
             0,
             "#0d0887"
            ],
            [
             0.1111111111111111,
             "#46039f"
            ],
            [
             0.2222222222222222,
             "#7201a8"
            ],
            [
             0.3333333333333333,
             "#9c179e"
            ],
            [
             0.4444444444444444,
             "#bd3786"
            ],
            [
             0.5555555555555556,
             "#d8576b"
            ],
            [
             0.6666666666666666,
             "#ed7953"
            ],
            [
             0.7777777777777778,
             "#fb9f3a"
            ],
            [
             0.8888888888888888,
             "#fdca26"
            ],
            [
             1,
             "#f0f921"
            ]
           ]
          },
          "colorway": [
           "#636efa",
           "#EF553B",
           "#00cc96",
           "#ab63fa",
           "#FFA15A",
           "#19d3f3",
           "#FF6692",
           "#B6E880",
           "#FF97FF",
           "#FECB52"
          ],
          "font": {
           "color": "#2a3f5f"
          },
          "geo": {
           "bgcolor": "white",
           "lakecolor": "white",
           "landcolor": "#E5ECF6",
           "showlakes": true,
           "showland": true,
           "subunitcolor": "white"
          },
          "hoverlabel": {
           "align": "left"
          },
          "hovermode": "closest",
          "mapbox": {
           "style": "light"
          },
          "paper_bgcolor": "white",
          "plot_bgcolor": "#E5ECF6",
          "polar": {
           "angularaxis": {
            "gridcolor": "white",
            "linecolor": "white",
            "ticks": ""
           },
           "bgcolor": "#E5ECF6",
           "radialaxis": {
            "gridcolor": "white",
            "linecolor": "white",
            "ticks": ""
           }
          },
          "scene": {
           "xaxis": {
            "backgroundcolor": "#E5ECF6",
            "gridcolor": "white",
            "gridwidth": 2,
            "linecolor": "white",
            "showbackground": true,
            "ticks": "",
            "zerolinecolor": "white"
           },
           "yaxis": {
            "backgroundcolor": "#E5ECF6",
            "gridcolor": "white",
            "gridwidth": 2,
            "linecolor": "white",
            "showbackground": true,
            "ticks": "",
            "zerolinecolor": "white"
           },
           "zaxis": {
            "backgroundcolor": "#E5ECF6",
            "gridcolor": "white",
            "gridwidth": 2,
            "linecolor": "white",
            "showbackground": true,
            "ticks": "",
            "zerolinecolor": "white"
           }
          },
          "shapedefaults": {
           "line": {
            "color": "#2a3f5f"
           }
          },
          "ternary": {
           "aaxis": {
            "gridcolor": "white",
            "linecolor": "white",
            "ticks": ""
           },
           "baxis": {
            "gridcolor": "white",
            "linecolor": "white",
            "ticks": ""
           },
           "bgcolor": "#E5ECF6",
           "caxis": {
            "gridcolor": "white",
            "linecolor": "white",
            "ticks": ""
           }
          },
          "title": {
           "x": 0.05
          },
          "xaxis": {
           "automargin": true,
           "gridcolor": "white",
           "linecolor": "white",
           "ticks": "",
           "title": {
            "standoff": 15
           },
           "zerolinecolor": "white",
           "zerolinewidth": 2
          },
          "yaxis": {
           "automargin": true,
           "gridcolor": "white",
           "linecolor": "white",
           "ticks": "",
           "title": {
            "standoff": 15
           },
           "zerolinecolor": "white",
           "zerolinewidth": 2
          }
         }
        },
        "width": 600
       }
      },
      "text/html": [
       "<div>                            <div id=\"06d89057-798d-42bb-ac45-b23a5488fb12\" class=\"plotly-graph-div\" style=\"height:600px; width:600px;\"></div>            <script type=\"text/javascript\">                require([\"plotly\"], function(Plotly) {                    window.PLOTLYENV=window.PLOTLYENV || {};                                    if (document.getElementById(\"06d89057-798d-42bb-ac45-b23a5488fb12\")) {                    Plotly.newPlot(                        \"06d89057-798d-42bb-ac45-b23a5488fb12\",                        [{\"link\":{\"source\":[0,0,0,0,0,0,1,0,2,0,0,0,0,0,0,2,2,1,0,0,3,0,3,3,0,0,0,2,2,0,0,0,0,2,0,0,0,0,3,0,2,0,0,0,3],\"target\":[4,5,5,6,5,5,6,5,6,6,6,6,7,7,5,5,5,7,6,5,4,5,5,5,6,4,6,5,5,5,6,4,5,4,4,6,5,6,7,5,5,7,4,6,5],\"value\":[1,1,1,1,1,1,1,1,1,1,1,1,1,1,1,1,1,1,1,1,1,1,1,1,1,1,1,1,1,1,1,1,1,1,1,1,1,1,1,1,1,1,1,1,1]},\"node\":{\"label\":[\"Polysaccharide-Based\",\"Synthetic\",\"Mixed (Natural,Synthetic)\",\"Protein-Based\",\"Ionic\",\"Covalent\",\"Photopolymerization\",\"Physical\"],\"line\":{\"color\":\"black\",\"width\":0.5},\"pad\":15,\"thickness\":20},\"type\":\"sankey\"}],                        {\"template\":{\"data\":{\"histogram2dcontour\":[{\"type\":\"histogram2dcontour\",\"colorbar\":{\"outlinewidth\":0,\"ticks\":\"\"},\"colorscale\":[[0.0,\"#0d0887\"],[0.1111111111111111,\"#46039f\"],[0.2222222222222222,\"#7201a8\"],[0.3333333333333333,\"#9c179e\"],[0.4444444444444444,\"#bd3786\"],[0.5555555555555556,\"#d8576b\"],[0.6666666666666666,\"#ed7953\"],[0.7777777777777778,\"#fb9f3a\"],[0.8888888888888888,\"#fdca26\"],[1.0,\"#f0f921\"]]}],\"choropleth\":[{\"type\":\"choropleth\",\"colorbar\":{\"outlinewidth\":0,\"ticks\":\"\"}}],\"histogram2d\":[{\"type\":\"histogram2d\",\"colorbar\":{\"outlinewidth\":0,\"ticks\":\"\"},\"colorscale\":[[0.0,\"#0d0887\"],[0.1111111111111111,\"#46039f\"],[0.2222222222222222,\"#7201a8\"],[0.3333333333333333,\"#9c179e\"],[0.4444444444444444,\"#bd3786\"],[0.5555555555555556,\"#d8576b\"],[0.6666666666666666,\"#ed7953\"],[0.7777777777777778,\"#fb9f3a\"],[0.8888888888888888,\"#fdca26\"],[1.0,\"#f0f921\"]]}],\"heatmap\":[{\"type\":\"heatmap\",\"colorbar\":{\"outlinewidth\":0,\"ticks\":\"\"},\"colorscale\":[[0.0,\"#0d0887\"],[0.1111111111111111,\"#46039f\"],[0.2222222222222222,\"#7201a8\"],[0.3333333333333333,\"#9c179e\"],[0.4444444444444444,\"#bd3786\"],[0.5555555555555556,\"#d8576b\"],[0.6666666666666666,\"#ed7953\"],[0.7777777777777778,\"#fb9f3a\"],[0.8888888888888888,\"#fdca26\"],[1.0,\"#f0f921\"]]}],\"heatmapgl\":[{\"type\":\"heatmapgl\",\"colorbar\":{\"outlinewidth\":0,\"ticks\":\"\"},\"colorscale\":[[0.0,\"#0d0887\"],[0.1111111111111111,\"#46039f\"],[0.2222222222222222,\"#7201a8\"],[0.3333333333333333,\"#9c179e\"],[0.4444444444444444,\"#bd3786\"],[0.5555555555555556,\"#d8576b\"],[0.6666666666666666,\"#ed7953\"],[0.7777777777777778,\"#fb9f3a\"],[0.8888888888888888,\"#fdca26\"],[1.0,\"#f0f921\"]]}],\"contourcarpet\":[{\"type\":\"contourcarpet\",\"colorbar\":{\"outlinewidth\":0,\"ticks\":\"\"}}],\"contour\":[{\"type\":\"contour\",\"colorbar\":{\"outlinewidth\":0,\"ticks\":\"\"},\"colorscale\":[[0.0,\"#0d0887\"],[0.1111111111111111,\"#46039f\"],[0.2222222222222222,\"#7201a8\"],[0.3333333333333333,\"#9c179e\"],[0.4444444444444444,\"#bd3786\"],[0.5555555555555556,\"#d8576b\"],[0.6666666666666666,\"#ed7953\"],[0.7777777777777778,\"#fb9f3a\"],[0.8888888888888888,\"#fdca26\"],[1.0,\"#f0f921\"]]}],\"surface\":[{\"type\":\"surface\",\"colorbar\":{\"outlinewidth\":0,\"ticks\":\"\"},\"colorscale\":[[0.0,\"#0d0887\"],[0.1111111111111111,\"#46039f\"],[0.2222222222222222,\"#7201a8\"],[0.3333333333333333,\"#9c179e\"],[0.4444444444444444,\"#bd3786\"],[0.5555555555555556,\"#d8576b\"],[0.6666666666666666,\"#ed7953\"],[0.7777777777777778,\"#fb9f3a\"],[0.8888888888888888,\"#fdca26\"],[1.0,\"#f0f921\"]]}],\"mesh3d\":[{\"type\":\"mesh3d\",\"colorbar\":{\"outlinewidth\":0,\"ticks\":\"\"}}],\"scatter\":[{\"fillpattern\":{\"fillmode\":\"overlay\",\"size\":10,\"solidity\":0.2},\"type\":\"scatter\"}],\"parcoords\":[{\"type\":\"parcoords\",\"line\":{\"colorbar\":{\"outlinewidth\":0,\"ticks\":\"\"}}}],\"scatterpolargl\":[{\"type\":\"scatterpolargl\",\"marker\":{\"colorbar\":{\"outlinewidth\":0,\"ticks\":\"\"}}}],\"bar\":[{\"error_x\":{\"color\":\"#2a3f5f\"},\"error_y\":{\"color\":\"#2a3f5f\"},\"marker\":{\"line\":{\"color\":\"#E5ECF6\",\"width\":0.5},\"pattern\":{\"fillmode\":\"overlay\",\"size\":10,\"solidity\":0.2}},\"type\":\"bar\"}],\"scattergeo\":[{\"type\":\"scattergeo\",\"marker\":{\"colorbar\":{\"outlinewidth\":0,\"ticks\":\"\"}}}],\"scatterpolar\":[{\"type\":\"scatterpolar\",\"marker\":{\"colorbar\":{\"outlinewidth\":0,\"ticks\":\"\"}}}],\"histogram\":[{\"marker\":{\"pattern\":{\"fillmode\":\"overlay\",\"size\":10,\"solidity\":0.2}},\"type\":\"histogram\"}],\"scattergl\":[{\"type\":\"scattergl\",\"marker\":{\"colorbar\":{\"outlinewidth\":0,\"ticks\":\"\"}}}],\"scatter3d\":[{\"type\":\"scatter3d\",\"line\":{\"colorbar\":{\"outlinewidth\":0,\"ticks\":\"\"}},\"marker\":{\"colorbar\":{\"outlinewidth\":0,\"ticks\":\"\"}}}],\"scattermapbox\":[{\"type\":\"scattermapbox\",\"marker\":{\"colorbar\":{\"outlinewidth\":0,\"ticks\":\"\"}}}],\"scatterternary\":[{\"type\":\"scatterternary\",\"marker\":{\"colorbar\":{\"outlinewidth\":0,\"ticks\":\"\"}}}],\"scattercarpet\":[{\"type\":\"scattercarpet\",\"marker\":{\"colorbar\":{\"outlinewidth\":0,\"ticks\":\"\"}}}],\"carpet\":[{\"aaxis\":{\"endlinecolor\":\"#2a3f5f\",\"gridcolor\":\"white\",\"linecolor\":\"white\",\"minorgridcolor\":\"white\",\"startlinecolor\":\"#2a3f5f\"},\"baxis\":{\"endlinecolor\":\"#2a3f5f\",\"gridcolor\":\"white\",\"linecolor\":\"white\",\"minorgridcolor\":\"white\",\"startlinecolor\":\"#2a3f5f\"},\"type\":\"carpet\"}],\"table\":[{\"cells\":{\"fill\":{\"color\":\"#EBF0F8\"},\"line\":{\"color\":\"white\"}},\"header\":{\"fill\":{\"color\":\"#C8D4E3\"},\"line\":{\"color\":\"white\"}},\"type\":\"table\"}],\"barpolar\":[{\"marker\":{\"line\":{\"color\":\"#E5ECF6\",\"width\":0.5},\"pattern\":{\"fillmode\":\"overlay\",\"size\":10,\"solidity\":0.2}},\"type\":\"barpolar\"}],\"pie\":[{\"automargin\":true,\"type\":\"pie\"}]},\"layout\":{\"autotypenumbers\":\"strict\",\"colorway\":[\"#636efa\",\"#EF553B\",\"#00cc96\",\"#ab63fa\",\"#FFA15A\",\"#19d3f3\",\"#FF6692\",\"#B6E880\",\"#FF97FF\",\"#FECB52\"],\"font\":{\"color\":\"#2a3f5f\"},\"hovermode\":\"closest\",\"hoverlabel\":{\"align\":\"left\"},\"paper_bgcolor\":\"white\",\"plot_bgcolor\":\"#E5ECF6\",\"polar\":{\"bgcolor\":\"#E5ECF6\",\"angularaxis\":{\"gridcolor\":\"white\",\"linecolor\":\"white\",\"ticks\":\"\"},\"radialaxis\":{\"gridcolor\":\"white\",\"linecolor\":\"white\",\"ticks\":\"\"}},\"ternary\":{\"bgcolor\":\"#E5ECF6\",\"aaxis\":{\"gridcolor\":\"white\",\"linecolor\":\"white\",\"ticks\":\"\"},\"baxis\":{\"gridcolor\":\"white\",\"linecolor\":\"white\",\"ticks\":\"\"},\"caxis\":{\"gridcolor\":\"white\",\"linecolor\":\"white\",\"ticks\":\"\"}},\"coloraxis\":{\"colorbar\":{\"outlinewidth\":0,\"ticks\":\"\"}},\"colorscale\":{\"sequential\":[[0.0,\"#0d0887\"],[0.1111111111111111,\"#46039f\"],[0.2222222222222222,\"#7201a8\"],[0.3333333333333333,\"#9c179e\"],[0.4444444444444444,\"#bd3786\"],[0.5555555555555556,\"#d8576b\"],[0.6666666666666666,\"#ed7953\"],[0.7777777777777778,\"#fb9f3a\"],[0.8888888888888888,\"#fdca26\"],[1.0,\"#f0f921\"]],\"sequentialminus\":[[0.0,\"#0d0887\"],[0.1111111111111111,\"#46039f\"],[0.2222222222222222,\"#7201a8\"],[0.3333333333333333,\"#9c179e\"],[0.4444444444444444,\"#bd3786\"],[0.5555555555555556,\"#d8576b\"],[0.6666666666666666,\"#ed7953\"],[0.7777777777777778,\"#fb9f3a\"],[0.8888888888888888,\"#fdca26\"],[1.0,\"#f0f921\"]],\"diverging\":[[0,\"#8e0152\"],[0.1,\"#c51b7d\"],[0.2,\"#de77ae\"],[0.3,\"#f1b6da\"],[0.4,\"#fde0ef\"],[0.5,\"#f7f7f7\"],[0.6,\"#e6f5d0\"],[0.7,\"#b8e186\"],[0.8,\"#7fbc41\"],[0.9,\"#4d9221\"],[1,\"#276419\"]]},\"xaxis\":{\"gridcolor\":\"white\",\"linecolor\":\"white\",\"ticks\":\"\",\"title\":{\"standoff\":15},\"zerolinecolor\":\"white\",\"automargin\":true,\"zerolinewidth\":2},\"yaxis\":{\"gridcolor\":\"white\",\"linecolor\":\"white\",\"ticks\":\"\",\"title\":{\"standoff\":15},\"zerolinecolor\":\"white\",\"automargin\":true,\"zerolinewidth\":2},\"scene\":{\"xaxis\":{\"backgroundcolor\":\"#E5ECF6\",\"gridcolor\":\"white\",\"linecolor\":\"white\",\"showbackground\":true,\"ticks\":\"\",\"zerolinecolor\":\"white\",\"gridwidth\":2},\"yaxis\":{\"backgroundcolor\":\"#E5ECF6\",\"gridcolor\":\"white\",\"linecolor\":\"white\",\"showbackground\":true,\"ticks\":\"\",\"zerolinecolor\":\"white\",\"gridwidth\":2},\"zaxis\":{\"backgroundcolor\":\"#E5ECF6\",\"gridcolor\":\"white\",\"linecolor\":\"white\",\"showbackground\":true,\"ticks\":\"\",\"zerolinecolor\":\"white\",\"gridwidth\":2}},\"shapedefaults\":{\"line\":{\"color\":\"#2a3f5f\"}},\"annotationdefaults\":{\"arrowcolor\":\"#2a3f5f\",\"arrowhead\":0,\"arrowwidth\":1},\"geo\":{\"bgcolor\":\"white\",\"landcolor\":\"#E5ECF6\",\"subunitcolor\":\"white\",\"showland\":true,\"showlakes\":true,\"lakecolor\":\"white\"},\"title\":{\"x\":0.05},\"mapbox\":{\"style\":\"light\"}}},\"font\":{\"size\":21,\"color\":\"black\",\"family\":\"Arial\"},\"margin\":{\"l\":10,\"r\":10,\"t\":10,\"b\":10},\"width\":600,\"height\":600},                        {\"responsive\": true}                    ).then(function(){\n",
       "                            \n",
       "var gd = document.getElementById('06d89057-798d-42bb-ac45-b23a5488fb12');\n",
       "var x = new MutationObserver(function (mutations, observer) {{\n",
       "        var display = window.getComputedStyle(gd).display;\n",
       "        if (!display || display === 'none') {{\n",
       "            console.log([gd, 'removed!']);\n",
       "            Plotly.purge(gd);\n",
       "            observer.disconnect();\n",
       "        }}\n",
       "}});\n",
       "\n",
       "// Listen for the removal of the full notebook cells\n",
       "var notebookContainer = gd.closest('#notebook-container');\n",
       "if (notebookContainer) {{\n",
       "    x.observe(notebookContainer, {childList: true});\n",
       "}}\n",
       "\n",
       "// Listen for the clearing of the current output cell\n",
       "var outputEl = gd.closest('.output');\n",
       "if (outputEl) {{\n",
       "    x.observe(outputEl, {childList: true});\n",
       "}}\n",
       "\n",
       "                        })                };                });            </script>        </div>"
      ]
     },
     "metadata": {},
     "output_type": "display_data"
    }
   ],
   "source": [
    "# Prepareing the data\n",
    "source_labels = wdf.iloc[:, 0].unique().tolist() \n",
    "target_labels = wdf.iloc[:, 1].unique().tolist()  \n",
    "all_labels = source_labels + target_labels\n",
    "\n",
    "# Creating a mapping from label to index\n",
    "label_to_index = {label: i for i, label in enumerate(all_labels)}\n",
    "wdf.loc[:, 'source_index'] = wdf.iloc[:, 0].map(label_to_index)\n",
    "wdf.loc[:, 'target_index'] = wdf.iloc[:, 1].map(label_to_index)\n",
    "\n",
    "# Creating the Sankey diagram \n",
    "fig = go.Figure(data=[go.Sankey(\n",
    "    node=dict(\n",
    "        pad=15,\n",
    "        thickness=20,\n",
    "        line=dict(color=\"black\", width=0.5),\n",
    "        label=all_labels\n",
    "    ),\n",
    "    link=dict(\n",
    "        source=wdf['source_index'],  \n",
    "        target=wdf['target_index'],  \n",
    "        value=[1] * len(wdf)  \n",
    "    )\n",
    ")])\n",
    "\n",
    "\n",
    "fig.update_layout(\n",
    "\n",
    "    font=dict(\n",
    "        size=21,\n",
    "        color=\"black\",\n",
    "        family=\"Arial\"  \n",
    "    ),\n",
    "    width=600,\n",
    "    height=600,\n",
    "    margin=dict(l=10, r=10, t=10, b=10)\n",
    ")\n",
    "\n",
    "\n",
    "fig.write_image(\"sankey_diagram.png\", width=500 ,height=500)\n",
    "\n",
    "fig.show()\n"
   ]
  },
  {
   "cell_type": "code",
   "execution_count": 261,
   "id": "8cb46c58",
   "metadata": {},
   "outputs": [
    {
     "data": {
      "text/html": [
       "<div>\n",
       "<style scoped>\n",
       "    .dataframe tbody tr th:only-of-type {\n",
       "        vertical-align: middle;\n",
       "    }\n",
       "\n",
       "    .dataframe tbody tr th {\n",
       "        vertical-align: top;\n",
       "    }\n",
       "\n",
       "    .dataframe thead th {\n",
       "        text-align: right;\n",
       "    }\n",
       "</style>\n",
       "<table border=\"1\" class=\"dataframe\">\n",
       "  <thead>\n",
       "    <tr style=\"text-align: right;\">\n",
       "      <th></th>\n",
       "      <th>Hydrogel_geometry</th>\n",
       "      <th>Tissue_modeled</th>\n",
       "    </tr>\n",
       "  </thead>\n",
       "  <tbody>\n",
       "    <tr>\n",
       "      <th>1</th>\n",
       "      <td>General 3D Structure</td>\n",
       "      <td>CNS (SCI)</td>\n",
       "    </tr>\n",
       "    <tr>\n",
       "      <th>3</th>\n",
       "      <td>Conduit</td>\n",
       "      <td>GENERAL DIFFERENTIATION</td>\n",
       "    </tr>\n",
       "    <tr>\n",
       "      <th>4</th>\n",
       "      <td>Conduit</td>\n",
       "      <td>PNS (SCIATIC NERVE)</td>\n",
       "    </tr>\n",
       "    <tr>\n",
       "      <th>5</th>\n",
       "      <td>General 3D Structure</td>\n",
       "      <td>GENERAL DIFFERENTIATION</td>\n",
       "    </tr>\n",
       "    <tr>\n",
       "      <th>6</th>\n",
       "      <td>General 3D Structure</td>\n",
       "      <td>CNS (SCI)</td>\n",
       "    </tr>\n",
       "    <tr>\n",
       "      <th>...</th>\n",
       "      <td>...</td>\n",
       "      <td>...</td>\n",
       "    </tr>\n",
       "    <tr>\n",
       "      <th>94</th>\n",
       "      <td>Conduit</td>\n",
       "      <td>PNS (SCIATIC NERVE)</td>\n",
       "    </tr>\n",
       "    <tr>\n",
       "      <th>95</th>\n",
       "      <td>General 3D Structure</td>\n",
       "      <td>CNS (SCI)</td>\n",
       "    </tr>\n",
       "    <tr>\n",
       "      <th>96</th>\n",
       "      <td>Injectable</td>\n",
       "      <td>CNS (BRAIN)</td>\n",
       "    </tr>\n",
       "    <tr>\n",
       "      <th>97</th>\n",
       "      <td>General 3D Structure</td>\n",
       "      <td>GENERAL DIFFERENTIATION</td>\n",
       "    </tr>\n",
       "    <tr>\n",
       "      <th>98</th>\n",
       "      <td>General 3D Structure</td>\n",
       "      <td>CNS (BRAIN)</td>\n",
       "    </tr>\n",
       "  </tbody>\n",
       "</table>\n",
       "<p>82 rows × 2 columns</p>\n",
       "</div>"
      ],
      "text/plain": [
       "       Hydrogel_geometry           Tissue_modeled\n",
       "1   General 3D Structure                CNS (SCI)\n",
       "3                Conduit  GENERAL DIFFERENTIATION\n",
       "4                Conduit      PNS (SCIATIC NERVE)\n",
       "5   General 3D Structure  GENERAL DIFFERENTIATION\n",
       "6   General 3D Structure                CNS (SCI)\n",
       "..                   ...                      ...\n",
       "94               Conduit      PNS (SCIATIC NERVE)\n",
       "95  General 3D Structure                CNS (SCI)\n",
       "96            Injectable              CNS (BRAIN)\n",
       "97  General 3D Structure  GENERAL DIFFERENTIATION\n",
       "98  General 3D Structure              CNS (BRAIN)\n",
       "\n",
       "[82 rows x 2 columns]"
      ]
     },
     "execution_count": 261,
     "metadata": {},
     "output_type": "execute_result"
    }
   ],
   "source": [
    "# Fig 7-C2 (Snakey graph at bottom: cleaning)\n",
    "wdf_14 =df.iloc[1:,].loc[0:,['Hydrogel_geometry','Tissue_modeled']]\n",
    "wdf_14 = wdf_14.dropna()\n",
    "wdf_14.Hydrogel_geometry = wdf_14.Hydrogel_geometry.str.title()\n",
    "wdf_14 = wdf_14[wdf_14.Hydrogel_geometry.isin(['General 3D Structure','Conduit','Injectable','Film/Sheet'])]\n",
    "\n",
    "# Cleaning\n",
    "wdf_14.Tissue_modeled = wdf_14.Tissue_modeled.str.upper()\n",
    "wdf_14.Tissue_modeled = np.where(wdf_14.Tissue_modeled == 'CNS (SCI)', 'CNS(SCI)',wdf_14.Tissue_modeled)\n",
    "wdf_14.Tissue_modeled = np.where(wdf_14.Tissue_modeled == 'CNS (SCI)', 'CNS(SCI)',wdf_14.Tissue_modeled)\n",
    "wdf_14.Tissue_modeled = np.where(wdf_14.Tissue_modeled == 'CSN (SCI)', 'CNS (SCI)',wdf_14.Tissue_modeled)\n",
    "wdf_14.Tissue_modeled = np.where(wdf_14.Tissue_modeled == 'CSN (SCI)', 'CNS (SCI)',wdf_14.Tissue_modeled)\n",
    "wdf_14 = wdf_14[wdf_14.Tissue_modeled !=  '·\\xa0\\xa0\\xa0\\xa0\\xa0\\xa0\\xa0 UNCLEAR']\n",
    "wdf_14.Tissue_modeled = np.where(wdf_14.Tissue_modeled == 'CNS(SCI)', 'CNS (SCI)',wdf_14.Tissue_modeled)\n",
    "wdf_14 = wdf_14[wdf_14.Tissue_modeled != 'CNS']\n",
    "wdf_14 = wdf_14[wdf_14.Tissue_modeled != 'PNS ( NEUROGENESIS IN MUSCULATURE)']\n",
    "wdf_14 = wdf_14[wdf_14.Tissue_modeled != 'PNS']\n",
    "wdf_14 = wdf_14[wdf_14.Tissue_modeled != 'OTHER(BIOINTERFACE)']\n",
    "wdf_14 = wdf_14[wdf_14.Tissue_modeled != ' UNCLEAR']\n",
    "wdf_14.Tissue_modeled = np.where(wdf_14.Tissue_modeled == 'OTHER (GENERAL DIFFERENTIATION)', 'GENERAL DIFFERENTIATION',wdf_14.Tissue_modeled)\n",
    "wdf_14"
   ]
  },
  {
   "cell_type": "code",
   "execution_count": 801,
   "id": "a54753f5",
   "metadata": {},
   "outputs": [
    {
     "data": {
      "application/vnd.plotly.v1+json": {
       "config": {
        "plotlyServerURL": "https://plot.ly"
       },
       "data": [
        {
         "link": {
          "source": [
           0,
           0,
           0,
           1,
           1,
           1,
           1,
           2,
           2,
           3,
           3,
           4,
           5,
           5
          ],
          "target": [
           6,
           7,
           8,
           6,
           7,
           8,
           9,
           6,
           7,
           6,
           9,
           6,
           6,
           8
          ],
          "value": [
           13,
           4,
           10,
           14,
           3,
           3,
           1,
           2,
           14,
           4,
           1,
           5,
           2,
           6
          ]
         },
         "node": {
          "label": [
           "CNS (SCI)",
           "GENERAL DIFFERENTIATION",
           "PNS (SCIATIC NERVE)",
           "PNS ( NEUROGENESIS IN EPITHELIA)",
           "PNS ( NEUROGENESIS IN BONE)",
           "CNS (BRAIN)",
           "General 3D Structure",
           "Conduit",
           "Injectable",
           "Film/Sheet"
          ],
          "line": {
           "color": "black",
           "width": 0.5
          },
          "pad": 15,
          "thickness": 20
         },
         "type": "sankey"
        }
       ],
       "layout": {
        "font": {
         "color": "black",
         "family": "Arial",
         "size": 17
        },
        "height": 600,
        "margin": {
         "b": 10,
         "l": 10,
         "r": 10,
         "t": 10
        },
        "template": {
         "data": {
          "bar": [
           {
            "error_x": {
             "color": "#2a3f5f"
            },
            "error_y": {
             "color": "#2a3f5f"
            },
            "marker": {
             "line": {
              "color": "#E5ECF6",
              "width": 0.5
             },
             "pattern": {
              "fillmode": "overlay",
              "size": 10,
              "solidity": 0.2
             }
            },
            "type": "bar"
           }
          ],
          "barpolar": [
           {
            "marker": {
             "line": {
              "color": "#E5ECF6",
              "width": 0.5
             },
             "pattern": {
              "fillmode": "overlay",
              "size": 10,
              "solidity": 0.2
             }
            },
            "type": "barpolar"
           }
          ],
          "carpet": [
           {
            "aaxis": {
             "endlinecolor": "#2a3f5f",
             "gridcolor": "white",
             "linecolor": "white",
             "minorgridcolor": "white",
             "startlinecolor": "#2a3f5f"
            },
            "baxis": {
             "endlinecolor": "#2a3f5f",
             "gridcolor": "white",
             "linecolor": "white",
             "minorgridcolor": "white",
             "startlinecolor": "#2a3f5f"
            },
            "type": "carpet"
           }
          ],
          "choropleth": [
           {
            "colorbar": {
             "outlinewidth": 0,
             "ticks": ""
            },
            "type": "choropleth"
           }
          ],
          "contour": [
           {
            "colorbar": {
             "outlinewidth": 0,
             "ticks": ""
            },
            "colorscale": [
             [
              0,
              "#0d0887"
             ],
             [
              0.1111111111111111,
              "#46039f"
             ],
             [
              0.2222222222222222,
              "#7201a8"
             ],
             [
              0.3333333333333333,
              "#9c179e"
             ],
             [
              0.4444444444444444,
              "#bd3786"
             ],
             [
              0.5555555555555556,
              "#d8576b"
             ],
             [
              0.6666666666666666,
              "#ed7953"
             ],
             [
              0.7777777777777778,
              "#fb9f3a"
             ],
             [
              0.8888888888888888,
              "#fdca26"
             ],
             [
              1,
              "#f0f921"
             ]
            ],
            "type": "contour"
           }
          ],
          "contourcarpet": [
           {
            "colorbar": {
             "outlinewidth": 0,
             "ticks": ""
            },
            "type": "contourcarpet"
           }
          ],
          "heatmap": [
           {
            "colorbar": {
             "outlinewidth": 0,
             "ticks": ""
            },
            "colorscale": [
             [
              0,
              "#0d0887"
             ],
             [
              0.1111111111111111,
              "#46039f"
             ],
             [
              0.2222222222222222,
              "#7201a8"
             ],
             [
              0.3333333333333333,
              "#9c179e"
             ],
             [
              0.4444444444444444,
              "#bd3786"
             ],
             [
              0.5555555555555556,
              "#d8576b"
             ],
             [
              0.6666666666666666,
              "#ed7953"
             ],
             [
              0.7777777777777778,
              "#fb9f3a"
             ],
             [
              0.8888888888888888,
              "#fdca26"
             ],
             [
              1,
              "#f0f921"
             ]
            ],
            "type": "heatmap"
           }
          ],
          "heatmapgl": [
           {
            "colorbar": {
             "outlinewidth": 0,
             "ticks": ""
            },
            "colorscale": [
             [
              0,
              "#0d0887"
             ],
             [
              0.1111111111111111,
              "#46039f"
             ],
             [
              0.2222222222222222,
              "#7201a8"
             ],
             [
              0.3333333333333333,
              "#9c179e"
             ],
             [
              0.4444444444444444,
              "#bd3786"
             ],
             [
              0.5555555555555556,
              "#d8576b"
             ],
             [
              0.6666666666666666,
              "#ed7953"
             ],
             [
              0.7777777777777778,
              "#fb9f3a"
             ],
             [
              0.8888888888888888,
              "#fdca26"
             ],
             [
              1,
              "#f0f921"
             ]
            ],
            "type": "heatmapgl"
           }
          ],
          "histogram": [
           {
            "marker": {
             "pattern": {
              "fillmode": "overlay",
              "size": 10,
              "solidity": 0.2
             }
            },
            "type": "histogram"
           }
          ],
          "histogram2d": [
           {
            "colorbar": {
             "outlinewidth": 0,
             "ticks": ""
            },
            "colorscale": [
             [
              0,
              "#0d0887"
             ],
             [
              0.1111111111111111,
              "#46039f"
             ],
             [
              0.2222222222222222,
              "#7201a8"
             ],
             [
              0.3333333333333333,
              "#9c179e"
             ],
             [
              0.4444444444444444,
              "#bd3786"
             ],
             [
              0.5555555555555556,
              "#d8576b"
             ],
             [
              0.6666666666666666,
              "#ed7953"
             ],
             [
              0.7777777777777778,
              "#fb9f3a"
             ],
             [
              0.8888888888888888,
              "#fdca26"
             ],
             [
              1,
              "#f0f921"
             ]
            ],
            "type": "histogram2d"
           }
          ],
          "histogram2dcontour": [
           {
            "colorbar": {
             "outlinewidth": 0,
             "ticks": ""
            },
            "colorscale": [
             [
              0,
              "#0d0887"
             ],
             [
              0.1111111111111111,
              "#46039f"
             ],
             [
              0.2222222222222222,
              "#7201a8"
             ],
             [
              0.3333333333333333,
              "#9c179e"
             ],
             [
              0.4444444444444444,
              "#bd3786"
             ],
             [
              0.5555555555555556,
              "#d8576b"
             ],
             [
              0.6666666666666666,
              "#ed7953"
             ],
             [
              0.7777777777777778,
              "#fb9f3a"
             ],
             [
              0.8888888888888888,
              "#fdca26"
             ],
             [
              1,
              "#f0f921"
             ]
            ],
            "type": "histogram2dcontour"
           }
          ],
          "mesh3d": [
           {
            "colorbar": {
             "outlinewidth": 0,
             "ticks": ""
            },
            "type": "mesh3d"
           }
          ],
          "parcoords": [
           {
            "line": {
             "colorbar": {
              "outlinewidth": 0,
              "ticks": ""
             }
            },
            "type": "parcoords"
           }
          ],
          "pie": [
           {
            "automargin": true,
            "type": "pie"
           }
          ],
          "scatter": [
           {
            "fillpattern": {
             "fillmode": "overlay",
             "size": 10,
             "solidity": 0.2
            },
            "type": "scatter"
           }
          ],
          "scatter3d": [
           {
            "line": {
             "colorbar": {
              "outlinewidth": 0,
              "ticks": ""
             }
            },
            "marker": {
             "colorbar": {
              "outlinewidth": 0,
              "ticks": ""
             }
            },
            "type": "scatter3d"
           }
          ],
          "scattercarpet": [
           {
            "marker": {
             "colorbar": {
              "outlinewidth": 0,
              "ticks": ""
             }
            },
            "type": "scattercarpet"
           }
          ],
          "scattergeo": [
           {
            "marker": {
             "colorbar": {
              "outlinewidth": 0,
              "ticks": ""
             }
            },
            "type": "scattergeo"
           }
          ],
          "scattergl": [
           {
            "marker": {
             "colorbar": {
              "outlinewidth": 0,
              "ticks": ""
             }
            },
            "type": "scattergl"
           }
          ],
          "scattermapbox": [
           {
            "marker": {
             "colorbar": {
              "outlinewidth": 0,
              "ticks": ""
             }
            },
            "type": "scattermapbox"
           }
          ],
          "scatterpolar": [
           {
            "marker": {
             "colorbar": {
              "outlinewidth": 0,
              "ticks": ""
             }
            },
            "type": "scatterpolar"
           }
          ],
          "scatterpolargl": [
           {
            "marker": {
             "colorbar": {
              "outlinewidth": 0,
              "ticks": ""
             }
            },
            "type": "scatterpolargl"
           }
          ],
          "scatterternary": [
           {
            "marker": {
             "colorbar": {
              "outlinewidth": 0,
              "ticks": ""
             }
            },
            "type": "scatterternary"
           }
          ],
          "surface": [
           {
            "colorbar": {
             "outlinewidth": 0,
             "ticks": ""
            },
            "colorscale": [
             [
              0,
              "#0d0887"
             ],
             [
              0.1111111111111111,
              "#46039f"
             ],
             [
              0.2222222222222222,
              "#7201a8"
             ],
             [
              0.3333333333333333,
              "#9c179e"
             ],
             [
              0.4444444444444444,
              "#bd3786"
             ],
             [
              0.5555555555555556,
              "#d8576b"
             ],
             [
              0.6666666666666666,
              "#ed7953"
             ],
             [
              0.7777777777777778,
              "#fb9f3a"
             ],
             [
              0.8888888888888888,
              "#fdca26"
             ],
             [
              1,
              "#f0f921"
             ]
            ],
            "type": "surface"
           }
          ],
          "table": [
           {
            "cells": {
             "fill": {
              "color": "#EBF0F8"
             },
             "line": {
              "color": "white"
             }
            },
            "header": {
             "fill": {
              "color": "#C8D4E3"
             },
             "line": {
              "color": "white"
             }
            },
            "type": "table"
           }
          ]
         },
         "layout": {
          "annotationdefaults": {
           "arrowcolor": "#2a3f5f",
           "arrowhead": 0,
           "arrowwidth": 1
          },
          "autotypenumbers": "strict",
          "coloraxis": {
           "colorbar": {
            "outlinewidth": 0,
            "ticks": ""
           }
          },
          "colorscale": {
           "diverging": [
            [
             0,
             "#8e0152"
            ],
            [
             0.1,
             "#c51b7d"
            ],
            [
             0.2,
             "#de77ae"
            ],
            [
             0.3,
             "#f1b6da"
            ],
            [
             0.4,
             "#fde0ef"
            ],
            [
             0.5,
             "#f7f7f7"
            ],
            [
             0.6,
             "#e6f5d0"
            ],
            [
             0.7,
             "#b8e186"
            ],
            [
             0.8,
             "#7fbc41"
            ],
            [
             0.9,
             "#4d9221"
            ],
            [
             1,
             "#276419"
            ]
           ],
           "sequential": [
            [
             0,
             "#0d0887"
            ],
            [
             0.1111111111111111,
             "#46039f"
            ],
            [
             0.2222222222222222,
             "#7201a8"
            ],
            [
             0.3333333333333333,
             "#9c179e"
            ],
            [
             0.4444444444444444,
             "#bd3786"
            ],
            [
             0.5555555555555556,
             "#d8576b"
            ],
            [
             0.6666666666666666,
             "#ed7953"
            ],
            [
             0.7777777777777778,
             "#fb9f3a"
            ],
            [
             0.8888888888888888,
             "#fdca26"
            ],
            [
             1,
             "#f0f921"
            ]
           ],
           "sequentialminus": [
            [
             0,
             "#0d0887"
            ],
            [
             0.1111111111111111,
             "#46039f"
            ],
            [
             0.2222222222222222,
             "#7201a8"
            ],
            [
             0.3333333333333333,
             "#9c179e"
            ],
            [
             0.4444444444444444,
             "#bd3786"
            ],
            [
             0.5555555555555556,
             "#d8576b"
            ],
            [
             0.6666666666666666,
             "#ed7953"
            ],
            [
             0.7777777777777778,
             "#fb9f3a"
            ],
            [
             0.8888888888888888,
             "#fdca26"
            ],
            [
             1,
             "#f0f921"
            ]
           ]
          },
          "colorway": [
           "#636efa",
           "#EF553B",
           "#00cc96",
           "#ab63fa",
           "#FFA15A",
           "#19d3f3",
           "#FF6692",
           "#B6E880",
           "#FF97FF",
           "#FECB52"
          ],
          "font": {
           "color": "#2a3f5f"
          },
          "geo": {
           "bgcolor": "white",
           "lakecolor": "white",
           "landcolor": "#E5ECF6",
           "showlakes": true,
           "showland": true,
           "subunitcolor": "white"
          },
          "hoverlabel": {
           "align": "left"
          },
          "hovermode": "closest",
          "mapbox": {
           "style": "light"
          },
          "paper_bgcolor": "white",
          "plot_bgcolor": "#E5ECF6",
          "polar": {
           "angularaxis": {
            "gridcolor": "white",
            "linecolor": "white",
            "ticks": ""
           },
           "bgcolor": "#E5ECF6",
           "radialaxis": {
            "gridcolor": "white",
            "linecolor": "white",
            "ticks": ""
           }
          },
          "scene": {
           "xaxis": {
            "backgroundcolor": "#E5ECF6",
            "gridcolor": "white",
            "gridwidth": 2,
            "linecolor": "white",
            "showbackground": true,
            "ticks": "",
            "zerolinecolor": "white"
           },
           "yaxis": {
            "backgroundcolor": "#E5ECF6",
            "gridcolor": "white",
            "gridwidth": 2,
            "linecolor": "white",
            "showbackground": true,
            "ticks": "",
            "zerolinecolor": "white"
           },
           "zaxis": {
            "backgroundcolor": "#E5ECF6",
            "gridcolor": "white",
            "gridwidth": 2,
            "linecolor": "white",
            "showbackground": true,
            "ticks": "",
            "zerolinecolor": "white"
           }
          },
          "shapedefaults": {
           "line": {
            "color": "#2a3f5f"
           }
          },
          "ternary": {
           "aaxis": {
            "gridcolor": "white",
            "linecolor": "white",
            "ticks": ""
           },
           "baxis": {
            "gridcolor": "white",
            "linecolor": "white",
            "ticks": ""
           },
           "bgcolor": "#E5ECF6",
           "caxis": {
            "gridcolor": "white",
            "linecolor": "white",
            "ticks": ""
           }
          },
          "title": {
           "x": 0.05
          },
          "xaxis": {
           "automargin": true,
           "gridcolor": "white",
           "linecolor": "white",
           "ticks": "",
           "title": {
            "standoff": 15
           },
           "zerolinecolor": "white",
           "zerolinewidth": 2
          },
          "yaxis": {
           "automargin": true,
           "gridcolor": "white",
           "linecolor": "white",
           "ticks": "",
           "title": {
            "standoff": 15
           },
           "zerolinecolor": "white",
           "zerolinewidth": 2
          }
         }
        },
        "width": 600
       }
      },
      "text/html": [
       "<div>                            <div id=\"32a2c0cd-3dfd-490e-aa1b-8e2caab2aefc\" class=\"plotly-graph-div\" style=\"height:600px; width:600px;\"></div>            <script type=\"text/javascript\">                require([\"plotly\"], function(Plotly) {                    window.PLOTLYENV=window.PLOTLYENV || {};                                    if (document.getElementById(\"32a2c0cd-3dfd-490e-aa1b-8e2caab2aefc\")) {                    Plotly.newPlot(                        \"32a2c0cd-3dfd-490e-aa1b-8e2caab2aefc\",                        [{\"link\":{\"source\":[0,0,0,1,1,1,1,2,2,3,3,4,5,5],\"target\":[6,7,8,6,7,8,9,6,7,6,9,6,6,8],\"value\":[13,4,10,14,3,3,1,2,14,4,1,5,2,6]},\"node\":{\"label\":[\"CNS (SCI)\",\"GENERAL DIFFERENTIATION\",\"PNS (SCIATIC NERVE)\",\"PNS ( NEUROGENESIS IN EPITHELIA)\",\"PNS ( NEUROGENESIS IN BONE)\",\"CNS (BRAIN)\",\"General 3D Structure\",\"Conduit\",\"Injectable\",\"Film\\u002fSheet\"],\"line\":{\"color\":\"black\",\"width\":0.5},\"pad\":15,\"thickness\":20},\"type\":\"sankey\"}],                        {\"template\":{\"data\":{\"histogram2dcontour\":[{\"type\":\"histogram2dcontour\",\"colorbar\":{\"outlinewidth\":0,\"ticks\":\"\"},\"colorscale\":[[0.0,\"#0d0887\"],[0.1111111111111111,\"#46039f\"],[0.2222222222222222,\"#7201a8\"],[0.3333333333333333,\"#9c179e\"],[0.4444444444444444,\"#bd3786\"],[0.5555555555555556,\"#d8576b\"],[0.6666666666666666,\"#ed7953\"],[0.7777777777777778,\"#fb9f3a\"],[0.8888888888888888,\"#fdca26\"],[1.0,\"#f0f921\"]]}],\"choropleth\":[{\"type\":\"choropleth\",\"colorbar\":{\"outlinewidth\":0,\"ticks\":\"\"}}],\"histogram2d\":[{\"type\":\"histogram2d\",\"colorbar\":{\"outlinewidth\":0,\"ticks\":\"\"},\"colorscale\":[[0.0,\"#0d0887\"],[0.1111111111111111,\"#46039f\"],[0.2222222222222222,\"#7201a8\"],[0.3333333333333333,\"#9c179e\"],[0.4444444444444444,\"#bd3786\"],[0.5555555555555556,\"#d8576b\"],[0.6666666666666666,\"#ed7953\"],[0.7777777777777778,\"#fb9f3a\"],[0.8888888888888888,\"#fdca26\"],[1.0,\"#f0f921\"]]}],\"heatmap\":[{\"type\":\"heatmap\",\"colorbar\":{\"outlinewidth\":0,\"ticks\":\"\"},\"colorscale\":[[0.0,\"#0d0887\"],[0.1111111111111111,\"#46039f\"],[0.2222222222222222,\"#7201a8\"],[0.3333333333333333,\"#9c179e\"],[0.4444444444444444,\"#bd3786\"],[0.5555555555555556,\"#d8576b\"],[0.6666666666666666,\"#ed7953\"],[0.7777777777777778,\"#fb9f3a\"],[0.8888888888888888,\"#fdca26\"],[1.0,\"#f0f921\"]]}],\"heatmapgl\":[{\"type\":\"heatmapgl\",\"colorbar\":{\"outlinewidth\":0,\"ticks\":\"\"},\"colorscale\":[[0.0,\"#0d0887\"],[0.1111111111111111,\"#46039f\"],[0.2222222222222222,\"#7201a8\"],[0.3333333333333333,\"#9c179e\"],[0.4444444444444444,\"#bd3786\"],[0.5555555555555556,\"#d8576b\"],[0.6666666666666666,\"#ed7953\"],[0.7777777777777778,\"#fb9f3a\"],[0.8888888888888888,\"#fdca26\"],[1.0,\"#f0f921\"]]}],\"contourcarpet\":[{\"type\":\"contourcarpet\",\"colorbar\":{\"outlinewidth\":0,\"ticks\":\"\"}}],\"contour\":[{\"type\":\"contour\",\"colorbar\":{\"outlinewidth\":0,\"ticks\":\"\"},\"colorscale\":[[0.0,\"#0d0887\"],[0.1111111111111111,\"#46039f\"],[0.2222222222222222,\"#7201a8\"],[0.3333333333333333,\"#9c179e\"],[0.4444444444444444,\"#bd3786\"],[0.5555555555555556,\"#d8576b\"],[0.6666666666666666,\"#ed7953\"],[0.7777777777777778,\"#fb9f3a\"],[0.8888888888888888,\"#fdca26\"],[1.0,\"#f0f921\"]]}],\"surface\":[{\"type\":\"surface\",\"colorbar\":{\"outlinewidth\":0,\"ticks\":\"\"},\"colorscale\":[[0.0,\"#0d0887\"],[0.1111111111111111,\"#46039f\"],[0.2222222222222222,\"#7201a8\"],[0.3333333333333333,\"#9c179e\"],[0.4444444444444444,\"#bd3786\"],[0.5555555555555556,\"#d8576b\"],[0.6666666666666666,\"#ed7953\"],[0.7777777777777778,\"#fb9f3a\"],[0.8888888888888888,\"#fdca26\"],[1.0,\"#f0f921\"]]}],\"mesh3d\":[{\"type\":\"mesh3d\",\"colorbar\":{\"outlinewidth\":0,\"ticks\":\"\"}}],\"scatter\":[{\"fillpattern\":{\"fillmode\":\"overlay\",\"size\":10,\"solidity\":0.2},\"type\":\"scatter\"}],\"parcoords\":[{\"type\":\"parcoords\",\"line\":{\"colorbar\":{\"outlinewidth\":0,\"ticks\":\"\"}}}],\"scatterpolargl\":[{\"type\":\"scatterpolargl\",\"marker\":{\"colorbar\":{\"outlinewidth\":0,\"ticks\":\"\"}}}],\"bar\":[{\"error_x\":{\"color\":\"#2a3f5f\"},\"error_y\":{\"color\":\"#2a3f5f\"},\"marker\":{\"line\":{\"color\":\"#E5ECF6\",\"width\":0.5},\"pattern\":{\"fillmode\":\"overlay\",\"size\":10,\"solidity\":0.2}},\"type\":\"bar\"}],\"scattergeo\":[{\"type\":\"scattergeo\",\"marker\":{\"colorbar\":{\"outlinewidth\":0,\"ticks\":\"\"}}}],\"scatterpolar\":[{\"type\":\"scatterpolar\",\"marker\":{\"colorbar\":{\"outlinewidth\":0,\"ticks\":\"\"}}}],\"histogram\":[{\"marker\":{\"pattern\":{\"fillmode\":\"overlay\",\"size\":10,\"solidity\":0.2}},\"type\":\"histogram\"}],\"scattergl\":[{\"type\":\"scattergl\",\"marker\":{\"colorbar\":{\"outlinewidth\":0,\"ticks\":\"\"}}}],\"scatter3d\":[{\"type\":\"scatter3d\",\"line\":{\"colorbar\":{\"outlinewidth\":0,\"ticks\":\"\"}},\"marker\":{\"colorbar\":{\"outlinewidth\":0,\"ticks\":\"\"}}}],\"scattermapbox\":[{\"type\":\"scattermapbox\",\"marker\":{\"colorbar\":{\"outlinewidth\":0,\"ticks\":\"\"}}}],\"scatterternary\":[{\"type\":\"scatterternary\",\"marker\":{\"colorbar\":{\"outlinewidth\":0,\"ticks\":\"\"}}}],\"scattercarpet\":[{\"type\":\"scattercarpet\",\"marker\":{\"colorbar\":{\"outlinewidth\":0,\"ticks\":\"\"}}}],\"carpet\":[{\"aaxis\":{\"endlinecolor\":\"#2a3f5f\",\"gridcolor\":\"white\",\"linecolor\":\"white\",\"minorgridcolor\":\"white\",\"startlinecolor\":\"#2a3f5f\"},\"baxis\":{\"endlinecolor\":\"#2a3f5f\",\"gridcolor\":\"white\",\"linecolor\":\"white\",\"minorgridcolor\":\"white\",\"startlinecolor\":\"#2a3f5f\"},\"type\":\"carpet\"}],\"table\":[{\"cells\":{\"fill\":{\"color\":\"#EBF0F8\"},\"line\":{\"color\":\"white\"}},\"header\":{\"fill\":{\"color\":\"#C8D4E3\"},\"line\":{\"color\":\"white\"}},\"type\":\"table\"}],\"barpolar\":[{\"marker\":{\"line\":{\"color\":\"#E5ECF6\",\"width\":0.5},\"pattern\":{\"fillmode\":\"overlay\",\"size\":10,\"solidity\":0.2}},\"type\":\"barpolar\"}],\"pie\":[{\"automargin\":true,\"type\":\"pie\"}]},\"layout\":{\"autotypenumbers\":\"strict\",\"colorway\":[\"#636efa\",\"#EF553B\",\"#00cc96\",\"#ab63fa\",\"#FFA15A\",\"#19d3f3\",\"#FF6692\",\"#B6E880\",\"#FF97FF\",\"#FECB52\"],\"font\":{\"color\":\"#2a3f5f\"},\"hovermode\":\"closest\",\"hoverlabel\":{\"align\":\"left\"},\"paper_bgcolor\":\"white\",\"plot_bgcolor\":\"#E5ECF6\",\"polar\":{\"bgcolor\":\"#E5ECF6\",\"angularaxis\":{\"gridcolor\":\"white\",\"linecolor\":\"white\",\"ticks\":\"\"},\"radialaxis\":{\"gridcolor\":\"white\",\"linecolor\":\"white\",\"ticks\":\"\"}},\"ternary\":{\"bgcolor\":\"#E5ECF6\",\"aaxis\":{\"gridcolor\":\"white\",\"linecolor\":\"white\",\"ticks\":\"\"},\"baxis\":{\"gridcolor\":\"white\",\"linecolor\":\"white\",\"ticks\":\"\"},\"caxis\":{\"gridcolor\":\"white\",\"linecolor\":\"white\",\"ticks\":\"\"}},\"coloraxis\":{\"colorbar\":{\"outlinewidth\":0,\"ticks\":\"\"}},\"colorscale\":{\"sequential\":[[0.0,\"#0d0887\"],[0.1111111111111111,\"#46039f\"],[0.2222222222222222,\"#7201a8\"],[0.3333333333333333,\"#9c179e\"],[0.4444444444444444,\"#bd3786\"],[0.5555555555555556,\"#d8576b\"],[0.6666666666666666,\"#ed7953\"],[0.7777777777777778,\"#fb9f3a\"],[0.8888888888888888,\"#fdca26\"],[1.0,\"#f0f921\"]],\"sequentialminus\":[[0.0,\"#0d0887\"],[0.1111111111111111,\"#46039f\"],[0.2222222222222222,\"#7201a8\"],[0.3333333333333333,\"#9c179e\"],[0.4444444444444444,\"#bd3786\"],[0.5555555555555556,\"#d8576b\"],[0.6666666666666666,\"#ed7953\"],[0.7777777777777778,\"#fb9f3a\"],[0.8888888888888888,\"#fdca26\"],[1.0,\"#f0f921\"]],\"diverging\":[[0,\"#8e0152\"],[0.1,\"#c51b7d\"],[0.2,\"#de77ae\"],[0.3,\"#f1b6da\"],[0.4,\"#fde0ef\"],[0.5,\"#f7f7f7\"],[0.6,\"#e6f5d0\"],[0.7,\"#b8e186\"],[0.8,\"#7fbc41\"],[0.9,\"#4d9221\"],[1,\"#276419\"]]},\"xaxis\":{\"gridcolor\":\"white\",\"linecolor\":\"white\",\"ticks\":\"\",\"title\":{\"standoff\":15},\"zerolinecolor\":\"white\",\"automargin\":true,\"zerolinewidth\":2},\"yaxis\":{\"gridcolor\":\"white\",\"linecolor\":\"white\",\"ticks\":\"\",\"title\":{\"standoff\":15},\"zerolinecolor\":\"white\",\"automargin\":true,\"zerolinewidth\":2},\"scene\":{\"xaxis\":{\"backgroundcolor\":\"#E5ECF6\",\"gridcolor\":\"white\",\"linecolor\":\"white\",\"showbackground\":true,\"ticks\":\"\",\"zerolinecolor\":\"white\",\"gridwidth\":2},\"yaxis\":{\"backgroundcolor\":\"#E5ECF6\",\"gridcolor\":\"white\",\"linecolor\":\"white\",\"showbackground\":true,\"ticks\":\"\",\"zerolinecolor\":\"white\",\"gridwidth\":2},\"zaxis\":{\"backgroundcolor\":\"#E5ECF6\",\"gridcolor\":\"white\",\"linecolor\":\"white\",\"showbackground\":true,\"ticks\":\"\",\"zerolinecolor\":\"white\",\"gridwidth\":2}},\"shapedefaults\":{\"line\":{\"color\":\"#2a3f5f\"}},\"annotationdefaults\":{\"arrowcolor\":\"#2a3f5f\",\"arrowhead\":0,\"arrowwidth\":1},\"geo\":{\"bgcolor\":\"white\",\"landcolor\":\"#E5ECF6\",\"subunitcolor\":\"white\",\"showland\":true,\"showlakes\":true,\"lakecolor\":\"white\"},\"title\":{\"x\":0.05},\"mapbox\":{\"style\":\"light\"}}},\"font\":{\"size\":17,\"color\":\"black\",\"family\":\"Arial\"},\"margin\":{\"l\":10,\"r\":10,\"t\":10,\"b\":10},\"width\":600,\"height\":600},                        {\"responsive\": true}                    ).then(function(){\n",
       "                            \n",
       "var gd = document.getElementById('32a2c0cd-3dfd-490e-aa1b-8e2caab2aefc');\n",
       "var x = new MutationObserver(function (mutations, observer) {{\n",
       "        var display = window.getComputedStyle(gd).display;\n",
       "        if (!display || display === 'none') {{\n",
       "            console.log([gd, 'removed!']);\n",
       "            Plotly.purge(gd);\n",
       "            observer.disconnect();\n",
       "        }}\n",
       "}});\n",
       "\n",
       "// Listen for the removal of the full notebook cells\n",
       "var notebookContainer = gd.closest('#notebook-container');\n",
       "if (notebookContainer) {{\n",
       "    x.observe(notebookContainer, {childList: true});\n",
       "}}\n",
       "\n",
       "// Listen for the clearing of the current output cell\n",
       "var outputEl = gd.closest('.output');\n",
       "if (outputEl) {{\n",
       "    x.observe(outputEl, {childList: true});\n",
       "}}\n",
       "\n",
       "                        })                };                });            </script>        </div>"
      ]
     },
     "metadata": {},
     "output_type": "display_data"
    }
   ],
   "source": [
    "# Fig 7-C2 (Snakey graph at bottom: graphing)\n",
    "\n",
    "\n",
    "target_labels = wdf_14['Hydrogel_geometry'].unique().tolist()  \n",
    "source_labels = wdf_14['Tissue_modeled'].unique().tolist()  \n",
    "\n",
    "# Create a combined list of all unique labels\n",
    "all_labels = source_labels + target_labels\n",
    "\n",
    "# Create a mapping from label to index\n",
    "label_to_index = {label: i for i, label in enumerate(all_labels)}\n",
    "\n",
    "# Map source and target columns to index values\n",
    "wdf_14['source_index'] = wdf_14['Tissue_modeled'].map(label_to_index)  \n",
    "wdf_14['target_index'] = wdf_14['Hydrogel_geometry'].map(label_to_index) \n",
    "\n",
    "link_counts = wdf_14.groupby(['source_index', 'target_index']).size().reset_index(name='count')\n",
    "\n",
    "# Create the Sankey diagram\n",
    "fig = go.Figure(data=[go.Sankey(\n",
    "    node=dict(\n",
    "        pad=15,\n",
    "        thickness=20,\n",
    "        line=dict(color=\"black\", width=0.5),\n",
    "        label=all_labels,  \n",
    "    ),\n",
    "    link=dict(\n",
    "        source=link_counts['source_index'],  # Indices of the source nodes\n",
    "        target=link_counts['target_index'],  # Indices of the target nodes\n",
    "        value=link_counts['count']            # Use the counts for the connections\n",
    "    )\n",
    ")])\n",
    "\n",
    "fig.update_layout(\n",
    "\n",
    "    font=dict(\n",
    "        size=17,\n",
    "        color=\"black\",\n",
    "        family=\"Arial\"  \n",
    "    ),\n",
    "    width=600,\n",
    "    height=600,\n",
    "    margin=dict(l=10, r=10, t=10, b=10)\n",
    ")\n",
    "\n",
    "fig.write_image(\"sankey_diagram_flipped.png\", width=500, height=500, scale=2)  # Higher resolution\n",
    "\n",
    "fig.show()\n"
   ]
  },
  {
   "cell_type": "code",
   "execution_count": 365,
   "id": "6eac760a",
   "metadata": {},
   "outputs": [
    {
     "data": {
      "text/html": [
       "<div>\n",
       "<style scoped>\n",
       "    .dataframe tbody tr th:only-of-type {\n",
       "        vertical-align: middle;\n",
       "    }\n",
       "\n",
       "    .dataframe tbody tr th {\n",
       "        vertical-align: top;\n",
       "    }\n",
       "\n",
       "    .dataframe thead th {\n",
       "        text-align: right;\n",
       "    }\n",
       "</style>\n",
       "<table border=\"1\" class=\"dataframe\">\n",
       "  <thead>\n",
       "    <tr style=\"text-align: right;\">\n",
       "      <th></th>\n",
       "      <th>Nano_Hyd_integration</th>\n",
       "      <th>Nanomat_dimension</th>\n",
       "    </tr>\n",
       "  </thead>\n",
       "  <tbody>\n",
       "    <tr>\n",
       "      <th>0</th>\n",
       "      <td>OP1</td>\n",
       "      <td>2D</td>\n",
       "    </tr>\n",
       "    <tr>\n",
       "      <th>1</th>\n",
       "      <td>OP1</td>\n",
       "      <td>1D</td>\n",
       "    </tr>\n",
       "    <tr>\n",
       "      <th>2</th>\n",
       "      <td>OP1</td>\n",
       "      <td>2D</td>\n",
       "    </tr>\n",
       "    <tr>\n",
       "      <th>3</th>\n",
       "      <td>Other</td>\n",
       "      <td>1D</td>\n",
       "    </tr>\n",
       "    <tr>\n",
       "      <th>4</th>\n",
       "      <td>OP1</td>\n",
       "      <td>0D</td>\n",
       "    </tr>\n",
       "    <tr>\n",
       "      <th>...</th>\n",
       "      <td>...</td>\n",
       "      <td>...</td>\n",
       "    </tr>\n",
       "    <tr>\n",
       "      <th>103</th>\n",
       "      <td>NaN</td>\n",
       "      <td>0D</td>\n",
       "    </tr>\n",
       "    <tr>\n",
       "      <th>104</th>\n",
       "      <td>NaN</td>\n",
       "      <td>0D</td>\n",
       "    </tr>\n",
       "    <tr>\n",
       "      <th>105</th>\n",
       "      <td>NaN</td>\n",
       "      <td>1D</td>\n",
       "    </tr>\n",
       "    <tr>\n",
       "      <th>106</th>\n",
       "      <td>NaN</td>\n",
       "      <td>2D</td>\n",
       "    </tr>\n",
       "    <tr>\n",
       "      <th>107</th>\n",
       "      <td>NaN</td>\n",
       "      <td>0D</td>\n",
       "    </tr>\n",
       "  </tbody>\n",
       "</table>\n",
       "<p>108 rows × 2 columns</p>\n",
       "</div>"
      ],
      "text/plain": [
       "    Nano_Hyd_integration Nanomat_dimension\n",
       "0                    OP1                2D\n",
       "1                    OP1                1D\n",
       "2                    OP1                2D\n",
       "3                  Other                1D\n",
       "4                    OP1                0D\n",
       "..                   ...               ...\n",
       "103                  NaN                0D\n",
       "104                  NaN                0D\n",
       "105                  NaN                1D\n",
       "106                  NaN                2D\n",
       "107                  NaN                0D\n",
       "\n",
       "[108 rows x 2 columns]"
      ]
     },
     "execution_count": 365,
     "metadata": {},
     "output_type": "execute_result"
    }
   ],
   "source": [
    "# Fig 7-D (Nanomaterials' Integration and Dimension)\n",
    "\n",
    "# Subseting Column for nanotype dimensions\n",
    "wdf_15_a = df_1.iloc[1:,].loc[:,['Nanomat_dimension']]\n",
    "\n",
    "# Separate by commas and expand into separate rows\n",
    "df_expanded = wdf_15_a['Nanomat_dimension'].str.split(',', expand=True).stack().reset_index(drop=True)\n",
    "df_combined = pd.DataFrame(df_expanded, columns=['Nanomat_dimension'])\n",
    "df_combined['Nanomat_dimension'] = df_combined['Nanomat_dimension'].str.strip()\n",
    "df_combined = df_combined[df_combined.Nanomat_dimension != 'Unclear']\n",
    "\n",
    "# Subseting Column for nanotype integration methods\n",
    "wdf_15_b =df_1.iloc[1:,].loc[:,['Nano_Hyd_integration']]\n",
    "wdf_15_b = wdf_15_b .reset_index().drop(columns='index').dropna()\n",
    "\n",
    "#combining and cleaning final dataframe\n",
    "wdf_15 = pd.concat([wdf_15_b,df_combined], axis=1)\n",
    "wdf_15.Nano_Hyd_integration = np.where(wdf_15.Nano_Hyd_integration == 'Other ( placement after hydrogel synthesis)','Other',wdf_15.Nano_Hyd_integration)\n",
    "wdf_15.Nano_Hyd_integration = np.where(wdf_15.Nano_Hyd_integration == 'Other (layered)','Other',wdf_15.Nano_Hyd_integration)\n",
    "wdf_15.Nano_Hyd_integration = np.where(wdf_15.Nano_Hyd_integration == 'Other ','Other',wdf_15.Nano_Hyd_integration)\n",
    "\n",
    "# Exporting for graphing in R (refer to R code)\n",
    "wdf_15.to_csv(\"wdf_15.csv\")\n",
    "wdf_15\n",
    "\n",
    "# The counts below were used for annotaion\n",
    "#wdf_15.Nanomat_dimension.value_counts()\n",
    "#wdf_15.Nano_Hyd_integration.value_counts()"
   ]
  },
  {
   "cell_type": "code",
   "execution_count": 371,
   "id": "df796ca5",
   "metadata": {},
   "outputs": [
    {
     "data": {
      "text/plain": [
       "In_vitro_hyd_assay\n",
       "Mechanical Test        62\n",
       "Electrical Property    57\n",
       "Rheological Test       49\n",
       "Swelling Test          44\n",
       "Degredation Test       31\n",
       "Porosity               26\n",
       "Biocompatibility        1\n",
       "                        1\n",
       "Name: count, dtype: int64"
      ]
     },
     "execution_count": 371,
     "metadata": {},
     "output_type": "execute_result"
    }
   ],
   "source": [
    "# Fig 8-A1 (In Vitro Hydrogel Characterization Methods)\n",
    "\n",
    "wdf_16 = df.iloc[1:,].loc[:,['In_vitro_hyd_assay']]\n",
    "\n",
    "# Separate by commas and expand into separate rows\n",
    "wdf_16_a = wdf_16['In_vitro_hyd_assay'].str.split(',', expand=True).stack().reset_index(drop=True)\n",
    "wdf_16_b = pd.DataFrame(wdf_16_a, columns=['In_vitro_hyd_assay'])\n",
    "wdf_16_b['In_vitro_hyd_assay'] = wdf_16_b['In_vitro_hyd_assay'].str.strip().str.title()\n",
    "\n",
    "# Display the resulting DataFrame\n",
    "wdf_16_b.In_vitro_hyd_assay.value_counts()"
   ]
  },
  {
   "cell_type": "code",
   "execution_count": 372,
   "id": "b01a185e",
   "metadata": {
    "scrolled": false
   },
   "outputs": [
    {
     "data": {
      "text/html": [
       "<div>\n",
       "<style scoped>\n",
       "    .dataframe tbody tr th:only-of-type {\n",
       "        vertical-align: middle;\n",
       "    }\n",
       "\n",
       "    .dataframe tbody tr th {\n",
       "        vertical-align: top;\n",
       "    }\n",
       "\n",
       "    .dataframe thead th {\n",
       "        text-align: right;\n",
       "    }\n",
       "</style>\n",
       "<table border=\"1\" class=\"dataframe\">\n",
       "  <thead>\n",
       "    <tr style=\"text-align: right;\">\n",
       "      <th></th>\n",
       "      <th>In_vitro_cell_assay</th>\n",
       "    </tr>\n",
       "  </thead>\n",
       "  <tbody>\n",
       "    <tr>\n",
       "      <th>0</th>\n",
       "      <td>cell viability (l/d staining)</td>\n",
       "    </tr>\n",
       "    <tr>\n",
       "      <th>1</th>\n",
       "      <td>cell proliferation (cck8)</td>\n",
       "    </tr>\n",
       "    <tr>\n",
       "      <th>2</th>\n",
       "      <td>neural protein expression analysis</td>\n",
       "    </tr>\n",
       "    <tr>\n",
       "      <th>3</th>\n",
       "      <td>cell viability(l/d staining)</td>\n",
       "    </tr>\n",
       "    <tr>\n",
       "      <th>4</th>\n",
       "      <td>neural protein expression analysis</td>\n",
       "    </tr>\n",
       "    <tr>\n",
       "      <th>...</th>\n",
       "      <td>...</td>\n",
       "    </tr>\n",
       "    <tr>\n",
       "      <th>289</th>\n",
       "      <td>cell migraiton</td>\n",
       "    </tr>\n",
       "    <tr>\n",
       "      <th>290</th>\n",
       "      <td>neural protein expression analysis</td>\n",
       "    </tr>\n",
       "    <tr>\n",
       "      <th>291</th>\n",
       "      <td>neural gene expression analysis</td>\n",
       "    </tr>\n",
       "    <tr>\n",
       "      <th>292</th>\n",
       "      <td>cell viability(l/d staining -  mtt)</td>\n",
       "    </tr>\n",
       "    <tr>\n",
       "      <th>293</th>\n",
       "      <td>neural protein expression analysis</td>\n",
       "    </tr>\n",
       "  </tbody>\n",
       "</table>\n",
       "<p>294 rows × 1 columns</p>\n",
       "</div>"
      ],
      "text/plain": [
       "                     In_vitro_cell_assay\n",
       "0          cell viability (l/d staining)\n",
       "1              cell proliferation (cck8)\n",
       "2     neural protein expression analysis\n",
       "3           cell viability(l/d staining)\n",
       "4     neural protein expression analysis\n",
       "..                                   ...\n",
       "289                       cell migraiton\n",
       "290   neural protein expression analysis\n",
       "291      neural gene expression analysis\n",
       "292  cell viability(l/d staining -  mtt)\n",
       "293   neural protein expression analysis\n",
       "\n",
       "[294 rows x 1 columns]"
      ]
     },
     "execution_count": 372,
     "metadata": {},
     "output_type": "execute_result"
    }
   ],
   "source": [
    "# Fig 8-A2 (In Vitro Cell Characterization Methods)\n",
    "wdf_17 = df.iloc[1:,].loc[:,['In_vitro_cell_assay']]\n",
    "\n",
    "\n",
    "# Split the 'In_vivo_asess_method' column by commas and expand into separate rows\n",
    "wdf_17_a = wdf_17['In_vitro_cell_assay'].str.split(',', expand=True).stack().reset_index(drop=True)\n",
    "wdf_17_b = pd.DataFrame(wdf_17_a, columns=['In_vitro_cell_assay'])\n",
    "wdf_17_b['In_vitro_cell_assay'] = wdf_17_b['In_vitro_cell_assay'].str.strip().str.lower()\n",
    "\n",
    "# Display the resulting DataFrame\n",
    "wdf_17_b\n"
   ]
  },
  {
   "cell_type": "code",
   "execution_count": 374,
   "id": "213588c9",
   "metadata": {},
   "outputs": [
    {
     "data": {
      "text/html": [
       "<div>\n",
       "<style scoped>\n",
       "    .dataframe tbody tr th:only-of-type {\n",
       "        vertical-align: middle;\n",
       "    }\n",
       "\n",
       "    .dataframe tbody tr th {\n",
       "        vertical-align: top;\n",
       "    }\n",
       "\n",
       "    .dataframe thead th {\n",
       "        text-align: right;\n",
       "    }\n",
       "</style>\n",
       "<table border=\"1\" class=\"dataframe\">\n",
       "  <thead>\n",
       "    <tr style=\"text-align: right;\">\n",
       "      <th></th>\n",
       "      <th>In_vitro_cell_assay</th>\n",
       "      <th>In_vitro_cell_assay</th>\n",
       "      <th>In_vitro_cell_assay</th>\n",
       "      <th>In_vitro_cell_assay</th>\n",
       "      <th>In_vitro_cell_assay</th>\n",
       "    </tr>\n",
       "  </thead>\n",
       "  <tbody>\n",
       "    <tr>\n",
       "      <th>84</th>\n",
       "      <td>NaN</td>\n",
       "      <td>NaN</td>\n",
       "      <td>neural protein expression analysis</td>\n",
       "      <td>NaN</td>\n",
       "      <td>NaN</td>\n",
       "    </tr>\n",
       "    <tr>\n",
       "      <th>183</th>\n",
       "      <td>NaN</td>\n",
       "      <td>NaN</td>\n",
       "      <td>neural protein expression analysis</td>\n",
       "      <td>NaN</td>\n",
       "      <td>NaN</td>\n",
       "    </tr>\n",
       "    <tr>\n",
       "      <th>38</th>\n",
       "      <td>NaN</td>\n",
       "      <td>NaN</td>\n",
       "      <td>neural protein expression analysis</td>\n",
       "      <td>NaN</td>\n",
       "      <td>NaN</td>\n",
       "    </tr>\n",
       "    <tr>\n",
       "      <th>164</th>\n",
       "      <td>NaN</td>\n",
       "      <td>NaN</td>\n",
       "      <td>NaN</td>\n",
       "      <td>cell adhesion</td>\n",
       "      <td>NaN</td>\n",
       "    </tr>\n",
       "    <tr>\n",
       "      <th>288</th>\n",
       "      <td>NaN</td>\n",
       "      <td>NaN</td>\n",
       "      <td>NaN</td>\n",
       "      <td>cell adhesion</td>\n",
       "      <td>NaN</td>\n",
       "    </tr>\n",
       "    <tr>\n",
       "      <th>144</th>\n",
       "      <td>NaN</td>\n",
       "      <td>NaN</td>\n",
       "      <td>neural protein expression analysis</td>\n",
       "      <td>NaN</td>\n",
       "      <td>NaN</td>\n",
       "    </tr>\n",
       "    <tr>\n",
       "      <th>142</th>\n",
       "      <td>cell viability( l/d staining)</td>\n",
       "      <td>NaN</td>\n",
       "      <td>NaN</td>\n",
       "      <td>NaN</td>\n",
       "      <td>NaN</td>\n",
       "    </tr>\n",
       "    <tr>\n",
       "      <th>186</th>\n",
       "      <td>NaN</td>\n",
       "      <td>NaN</td>\n",
       "      <td>NaN</td>\n",
       "      <td>NaN</td>\n",
       "      <td>cell migration ( transwell)</td>\n",
       "    </tr>\n",
       "    <tr>\n",
       "      <th>211</th>\n",
       "      <td>NaN</td>\n",
       "      <td>cell proliferation (cck8)</td>\n",
       "      <td>NaN</td>\n",
       "      <td>NaN</td>\n",
       "      <td>NaN</td>\n",
       "    </tr>\n",
       "    <tr>\n",
       "      <th>52</th>\n",
       "      <td>cell viability (l/d staining)</td>\n",
       "      <td>NaN</td>\n",
       "      <td>NaN</td>\n",
       "      <td>NaN</td>\n",
       "      <td>NaN</td>\n",
       "    </tr>\n",
       "  </tbody>\n",
       "</table>\n",
       "</div>"
      ],
      "text/plain": [
       "               In_vitro_cell_assay        In_vitro_cell_assay  \\\n",
       "84                             NaN                        NaN   \n",
       "183                            NaN                        NaN   \n",
       "38                             NaN                        NaN   \n",
       "164                            NaN                        NaN   \n",
       "288                            NaN                        NaN   \n",
       "144                            NaN                        NaN   \n",
       "142  cell viability( l/d staining)                        NaN   \n",
       "186                            NaN                        NaN   \n",
       "211                            NaN  cell proliferation (cck8)   \n",
       "52   cell viability (l/d staining)                        NaN   \n",
       "\n",
       "                    In_vitro_cell_assay In_vitro_cell_assay  \\\n",
       "84   neural protein expression analysis                 NaN   \n",
       "183  neural protein expression analysis                 NaN   \n",
       "38   neural protein expression analysis                 NaN   \n",
       "164                                 NaN       cell adhesion   \n",
       "288                                 NaN       cell adhesion   \n",
       "144  neural protein expression analysis                 NaN   \n",
       "142                                 NaN                 NaN   \n",
       "186                                 NaN                 NaN   \n",
       "211                                 NaN                 NaN   \n",
       "52                                  NaN                 NaN   \n",
       "\n",
       "             In_vitro_cell_assay  \n",
       "84                           NaN  \n",
       "183                          NaN  \n",
       "38                           NaN  \n",
       "164                          NaN  \n",
       "288                          NaN  \n",
       "144                          NaN  \n",
       "142                          NaN  \n",
       "186  cell migration ( transwell)  \n",
       "211                          NaN  \n",
       "52                           NaN  "
      ]
     },
     "execution_count": 374,
     "metadata": {},
     "output_type": "execute_result"
    }
   ],
   "source": [
    "# Fig 8-A2 (Continued)\n",
    "cell_viability = wdf_17_b[wdf_17_b['In_vitro_cell_assay'].str.contains('cell viability', na=False)]\n",
    "cell_proliferation = wdf_17_b[wdf_17_b['In_vitro_cell_assay'].str.contains('cell proliferation', na=False)]\n",
    "protein_expression = wdf_17_b[wdf_17_b['In_vitro_cell_assay'].str.contains('protein expression', na=False)]\n",
    "gene_expression = wdf_17_b[wdf_17_b['In_vitro_cell_assay'].str.contains('gene expression', na=False)]\n",
    "cell_adhesion = wdf_17_b[wdf_17_b['In_vitro_cell_assay'].str.contains('cell adhesion', na=False)]\n",
    "cell_migration = wdf_17_b[wdf_17_b['In_vitro_cell_assay'].str.contains('cell migration', na=False)]\n",
    "\n",
    "# Using str.contains and value.counts the freuency of specific methods used in each category were obtained\n",
    "in_vit_cell = pd.DataFrame({\n",
    "    \"Neural Protein Expression Analysis_Total\" : [87],\n",
    "    \"In Vitro (Neural Protein Expression Analysis)\": [73],\n",
    "    \"In Vivo (Neural Protein Expression Analysis)\" : [14],\n",
    "    \"Neural Gene Expression Analysis\" : [37],\n",
    "    \"Cell Viability: Total\" : [90],\n",
    "    \"Cell Viability: L/D staining\": [52],\n",
    "    \"Cell Viability: MTT\": [18],\n",
    "    \"Cell Viability: Other\": [20],\n",
    "    \"Cell Proliferation_Total\": [53],\n",
    "    \"Cell Proliferation: CCK-8\": [40],\n",
    "    \"Cell Proliferation: Other\": [13],\n",
    "    \"Cell Adhesion\": [21],\n",
    "    \"Cell Migration_Total\": [8],\n",
    "    \"Cell Migration: Transwell\": [5],\n",
    "    \"Cell Migration: Other\": [3]\n",
    "})\n",
    "\n",
    "#The dataframe above was then defined in R for graphing\n",
    "\n",
    "# The look of the dataframes obtained after filtering\n",
    "pd.concat([cell_viability, cell_proliferation,protein_expression, cell_adhesion,cell_migration ], axis=1).sample(10)"
   ]
  },
  {
   "cell_type": "code",
   "execution_count": 814,
   "id": "67ad289d",
   "metadata": {},
   "outputs": [
    {
     "data": {
      "text/plain": [
       "mech_parameter_type\n",
       "storage or loss modulus (g’/g’’)    42\n",
       "young modulus                       31\n",
       "compressive modulus                 22\n",
       "tensile strength                     6\n",
       "tensile strain                       1\n",
       "other( steady-state moduli)          1\n",
       "Name: count, dtype: int64"
      ]
     },
     "execution_count": 814,
     "metadata": {},
     "output_type": "execute_result"
    }
   ],
   "source": [
    "# Fig 8-B (Pie chart)\n",
    "\n",
    "wdf_18 = df.iloc[1:,].loc[:,['mech_parameter_type']]\n",
    "\n",
    "# Splitting the values in column by commas and expanding into separate rows\n",
    "wdf_18_a = wdf_18['mech_parameter_type'].str.split(',', expand=True).stack().reset_index(drop=True)\n",
    "wdf_18_b = pd.DataFrame(wdf_18_a, columns=['mech_parameter_type'])\n",
    "wdf_18_b['mech_parameter_type'] = wdf_18_b['mech_parameter_type'].str.strip().str.lower()\n",
    "\n",
    "wdf_18_b['mech_parameter_type'].value_counts() \n",
    "\n",
    "# the pie chart is made using the percentages below ( refer to Pie charts Sheet)"
   ]
  },
  {
   "cell_type": "code",
   "execution_count": 816,
   "id": "a1c9ac2c",
   "metadata": {},
   "outputs": [
    {
     "name": "stdout",
     "output_type": "stream",
     "text": [
      "For conductivity\n",
      "0.8035714285714286\n",
      "0.6222222222222222\n",
      "0.15555555555555556\n",
      "_____________________\n",
      "For Impedance\n",
      "0.3392857142857143\n",
      "0.3684210526315789\n",
      "_____________________\n",
      "For electrochemical\n",
      "0.05357142857142857\n",
      "0.6666666666666666\n"
     ]
    }
   ],
   "source": [
    "# Fig 8-C \n",
    "wdf_19 = df.iloc[1:,].loc[:,['Elec_method']]\n",
    "\n",
    "# Splitting the 'Elec_method' column by commas and expanding into separate rows\n",
    "wdf_19_a = wdf_19['Elec_method'].str.split(',', expand=True).stack().reset_index(drop=True)\n",
    "wdf_19_b = pd.DataFrame(wdf_19_a, columns=['Elec_method'])\n",
    "wdf_19_b['Elec_method'] = wdf_19_b['Elec_method'].str.strip().str.lower()\n",
    "\n",
    "conductivity = wdf_19_b[wdf_19_b['Elec_method'].str.contains('conductivity', na=False)]\n",
    "impedance = wdf_19_b[wdf_19_b['Elec_method'].str.contains('impedance', na=False)]\n",
    "electrochemical = wdf_19_b[wdf_19_b['Elec_method'].str.contains('electrochemical', na=False)]\n",
    "\n",
    "# Using str.contains and value.counts the percent freuency of specific methods used in each category were obtained\n",
    "\n",
    "print('For conductivity')\n",
    "print(len(conductivity) / len(wdf_19.dropna()))\n",
    "print(len(conductivity[conductivity['Elec_method'].str.contains('4 probe', na=False)]) / len(conductivity))\n",
    "print(len(conductivity[conductivity['Elec_method'].str.contains('2 probe', na=False)]) / len(conductivity))\n",
    "print('_____________________')\n",
    "print('For Impedance')\n",
    "print(len(impedance) / len(wdf_19.dropna()))\n",
    "print(len(impedance[impedance['Elec_method'].str.contains('eis', na=False)]) / len(impedance))\n",
    "print('_____________________')\n",
    "print('For electrochemical')\n",
    "print(len(electrochemical) / len(wdf_19.dropna()))\n",
    "print(len(electrochemical[electrochemical['Elec_method'].str.contains('cv', na=False)]) / len(electrochemical))\n"
   ]
  },
  {
   "cell_type": "code",
   "execution_count": 416,
   "id": "2f09dcbe",
   "metadata": {
    "scrolled": true
   },
   "outputs": [
    {
     "data": {
      "text/html": [
       "<div>\n",
       "<style scoped>\n",
       "    .dataframe tbody tr th:only-of-type {\n",
       "        vertical-align: middle;\n",
       "    }\n",
       "\n",
       "    .dataframe tbody tr th {\n",
       "        vertical-align: top;\n",
       "    }\n",
       "\n",
       "    .dataframe thead th {\n",
       "        text-align: right;\n",
       "    }\n",
       "</style>\n",
       "<table border=\"1\" class=\"dataframe\">\n",
       "  <thead>\n",
       "    <tr style=\"text-align: right;\">\n",
       "      <th>Tissue_modeled</th>\n",
       "      <th>CNS (Brain)</th>\n",
       "      <th>CNS (SCI)</th>\n",
       "      <th>General Differentiation</th>\n",
       "      <th>PNS (Sciatic nerve)</th>\n",
       "    </tr>\n",
       "  </thead>\n",
       "  <tbody>\n",
       "    <tr>\n",
       "      <th>0</th>\n",
       "      <td>NaN</td>\n",
       "      <td>0.027</td>\n",
       "      <td>NaN</td>\n",
       "      <td>NaN</td>\n",
       "    </tr>\n",
       "    <tr>\n",
       "      <th>2</th>\n",
       "      <td>NaN</td>\n",
       "      <td>0.0021</td>\n",
       "      <td>NaN</td>\n",
       "      <td>NaN</td>\n",
       "    </tr>\n",
       "    <tr>\n",
       "      <th>3</th>\n",
       "      <td>NaN</td>\n",
       "      <td>NaN</td>\n",
       "      <td>0.31</td>\n",
       "      <td>NaN</td>\n",
       "    </tr>\n",
       "    <tr>\n",
       "      <th>4</th>\n",
       "      <td>NaN</td>\n",
       "      <td>NaN</td>\n",
       "      <td>0.000087</td>\n",
       "      <td>NaN</td>\n",
       "    </tr>\n",
       "    <tr>\n",
       "      <th>5</th>\n",
       "      <td>NaN</td>\n",
       "      <td>0.004</td>\n",
       "      <td>NaN</td>\n",
       "      <td>NaN</td>\n",
       "    </tr>\n",
       "    <tr>\n",
       "      <th>7</th>\n",
       "      <td>NaN</td>\n",
       "      <td>0.004</td>\n",
       "      <td>NaN</td>\n",
       "      <td>NaN</td>\n",
       "    </tr>\n",
       "    <tr>\n",
       "      <th>8</th>\n",
       "      <td>NaN</td>\n",
       "      <td>0.000013</td>\n",
       "      <td>NaN</td>\n",
       "      <td>NaN</td>\n",
       "    </tr>\n",
       "    <tr>\n",
       "      <th>9</th>\n",
       "      <td>NaN</td>\n",
       "      <td>NaN</td>\n",
       "      <td>0.0033</td>\n",
       "      <td>NaN</td>\n",
       "    </tr>\n",
       "    <tr>\n",
       "      <th>10</th>\n",
       "      <td>NaN</td>\n",
       "      <td>NaN</td>\n",
       "      <td>0.00152</td>\n",
       "      <td>NaN</td>\n",
       "    </tr>\n",
       "    <tr>\n",
       "      <th>13</th>\n",
       "      <td>NaN</td>\n",
       "      <td>NaN</td>\n",
       "      <td>2.132</td>\n",
       "      <td>NaN</td>\n",
       "    </tr>\n",
       "  </tbody>\n",
       "</table>\n",
       "</div>"
      ],
      "text/plain": [
       "Tissue_modeled CNS (Brain) CNS (SCI) General Differentiation  \\\n",
       "0                      NaN     0.027                     NaN   \n",
       "2                      NaN    0.0021                     NaN   \n",
       "3                      NaN       NaN                    0.31   \n",
       "4                      NaN       NaN                0.000087   \n",
       "5                      NaN     0.004                     NaN   \n",
       "7                      NaN     0.004                     NaN   \n",
       "8                      NaN  0.000013                     NaN   \n",
       "9                      NaN       NaN                  0.0033   \n",
       "10                     NaN       NaN                 0.00152   \n",
       "13                     NaN       NaN                   2.132   \n",
       "\n",
       "Tissue_modeled PNS (Sciatic nerve)  \n",
       "0                              NaN  \n",
       "2                              NaN  \n",
       "3                              NaN  \n",
       "4                              NaN  \n",
       "5                              NaN  \n",
       "7                              NaN  \n",
       "8                              NaN  \n",
       "9                              NaN  \n",
       "10                             NaN  \n",
       "13                             NaN  "
      ]
     },
     "execution_count": 416,
     "metadata": {},
     "output_type": "execute_result"
    }
   ],
   "source": [
    "# Fig 8-D (data cleaning)\n",
    "\n",
    "wdf_20 = df.iloc[1:,].loc[:,['Tissue_modeled','Conductivity']]\n",
    "\n",
    "# Cleaning before graphing\n",
    "wdf_20_a = wdf_20.dropna(subset='Conductivity').drop([3]).reset_index().drop(columns='index')\n",
    "wdf_20_a.Tissue_modeled = np.where(wdf_20_a.Tissue_modeled =='CNS(SCI)','CNS (SCI)',wdf_20_a.Tissue_modeled )\n",
    "wdf_20_a.Tissue_modeled = np.where(wdf_20_a.Tissue_modeled =='Other (general differentiation)','General Differentiation',wdf_20_a.Tissue_modeled )\n",
    "wdf_20_a= wdf_20_a[wdf_20_a.Tissue_modeled.isin(['CNS (SCI)' ,'General Differentiation','PNS (Sciatic nerve)','CNS (Brain)'])]\n",
    "\n",
    "# rearranging and dropping extreme outliers\n",
    "wdf_20_b = wdf_20_a.pivot_table(index= wdf_20_a.index, columns='Tissue_modeled', values ='Conductivity')\n",
    "wdf_20_b.drop([12,31], inplace= True)\n",
    "wdf_20_b.head(10)"
   ]
  },
  {
   "cell_type": "code",
   "execution_count": 417,
   "id": "f1c16a15",
   "metadata": {},
   "outputs": [
    {
     "data": {
      "image/png": "[encoded data removed]",
      "text/plain": [
       "<Figure size 800x400 with 1 Axes>"
      ]
     },
     "metadata": {},
     "output_type": "display_data"
    }
   ],
   "source": [
    "# Fig 8-D (Continued : graphing)\n",
    "\n",
    "# Melting the DataFrame to convert it from wide to long format\n",
    "melted_df = wdf_20_b.reset_index(drop=True).melt(var_name='Tissue Model', value_name='Value')\n",
    "\n",
    "# Creating the boxplot \n",
    "plt.figure(figsize=(8, 4))  \n",
    "sns.boxplot(x='Value', y='Tissue Model', data=melted_df, width=0.8)  \n",
    "plt.xscale('log')\n",
    "\n",
    "# Adding labels and title with padding\n",
    "plt.xlabel('Log(Conductivity) (σ)', fontsize=20)  \n",
    "plt.ylabel('', fontsize=20)  \n",
    "plt.tick_params(axis='both', labelsize=18)  \n",
    "plt.subplots_adjust(left=0.15)\n",
    "plt.tight_layout()\n",
    "#plt.savefig('Con.png')\n",
    "\n",
    "plt.show()\n",
    "\n",
    "\n"
   ]
  },
  {
   "cell_type": "code",
   "execution_count": 425,
   "id": "11425940",
   "metadata": {},
   "outputs": [
    {
     "data": {
      "text/plain": [
       "diff_condition\n",
       "C            38\n",
       "C+E          26\n",
       "C+N          26\n",
       "C+N+E         9\n",
       "INVIVO(C)     1\n",
       "C+N/C+N+E     1\n",
       "Name: count, dtype: int64"
      ]
     },
     "execution_count": 425,
     "metadata": {},
     "output_type": "execute_result"
    }
   ],
   "source": [
    "# Fig 9-A\n",
    "\n",
    "wdf_21 = df.iloc[1:,].loc[:,['diff_condition']]\n",
    "\n",
    "\n",
    "# Splitting the values in the column by commas and expanding into separate rows\n",
    "wdf_21_a = wdf_21['diff_condition'].str.split(',', expand=True).stack().reset_index(drop=True)\n",
    "wdf_21_b = pd.DataFrame(wdf_21_a, columns=['diff_condition'])\n",
    "wdf_21_b['diff_condition'] = wdf_21_b['diff_condition'].str.replace(r'\\s+', '', regex=True).str.upper()\n",
    "\n",
    "# The Venn diagram was made using the counts below\n",
    "wdf_21_b.diff_condition.value_counts()"
   ]
  },
  {
   "cell_type": "code",
   "execution_count": 820,
   "id": "371c74f0",
   "metadata": {},
   "outputs": [
    {
     "name": "stdout",
     "output_type": "stream",
     "text": [
      "Neurotrophic_factor\n",
      "NGF                    0.314286\n",
      "Name: count, dtype: float64\n",
      "_____________\n",
      "Neurotrophic_factor\n",
      "RA                     0.200000\n",
      "RETINOIC ACID (RA)     0.057143\n",
      "Name: count, dtype: float64\n",
      "_____________\n",
      "Neurotrophic_factor                  \n",
      "BFGF                                     0.142857\n",
      "BASIC FIBROBLAST GROWTH FACTOR (BFGF)    0.028571\n",
      "Name: count, dtype: float64\n",
      "_____________\n",
      "Neurotrophic_factor\n",
      "BDNF                   0.085714\n",
      "Name: count, dtype: float64\n"
     ]
    }
   ],
   "source": [
    "# Fig 9-B (upper graph)\n",
    "\n",
    "\n",
    "# Splitting the values in the column by commas and expanding into separate rows\n",
    "wdf_22 = df.iloc[1:,].loc[:,['Neurotrophic_factor']]\n",
    "wdf_22_a = wdf_22['Neurotrophic_factor'].str.replace('Mixed (', '', regex=False).str.split(',', expand=True).stack().reset_index(drop=True)\n",
    "wdf_22_b = pd.DataFrame(wdf_22_a, columns=['Neurotrophic_factor'])\n",
    "wdf_22_b['Neurotrophic_factor'] = wdf_22_b['Neurotrophic_factor'].str.strip().str.upper()\n",
    "\n",
    "# Calculating the vounts\n",
    "print(wdf_22_b[wdf_22_b.Neurotrophic_factor.str.contains('NGF')].value_counts()/ len(wdf_22.dropna()))\n",
    "print('_____________')\n",
    "print(wdf_22_b[wdf_22_b.Neurotrophic_factor.str.contains('RA')].value_counts()/ len(wdf_22.dropna()))\n",
    "print('_____________')\n",
    "print(wdf_22_b[wdf_22_b.Neurotrophic_factor.str.contains('BFGF')].value_counts()/ len(wdf_22.dropna()))\n",
    "print('_____________')\n",
    "print(wdf_22_b[wdf_22_b.Neurotrophic_factor.str.contains('BDNF')].value_counts()/ len(wdf_22.dropna()))\n"
   ]
  },
  {
   "cell_type": "code",
   "execution_count": 458,
   "id": "b41eae18",
   "metadata": {},
   "outputs": [
    {
     "data": {
      "text/plain": [
       "Elec_stimulation_type\n",
       "Wireless electrical stimulation (magnetic)      36.111111\n",
       "DC                                              33.333333\n",
       "AC                                              11.111111\n",
       "Wireless electrical stimulation (optical)        8.333333\n",
       "Wireless electrical stimulation (ultrasound)     5.555556\n",
       "DC (pulsed)                                      2.777778\n",
       "AC (Biphasic)                                    2.777778\n",
       "Name: count, dtype: float64"
      ]
     },
     "execution_count": 458,
     "metadata": {},
     "output_type": "execute_result"
    }
   ],
   "source": [
    "# Fig 9-B (lower graph)\n",
    "wdf_23 = df.iloc[1:,].loc[:,['Elec_stimulation_type']]\n",
    "\n",
    "# The percentages below were used to create the graph in R \n",
    "wdf_23.Elec_stimulation_type.value_counts() / len(wdf_23.dropna()) * 100\n"
   ]
  },
  {
   "cell_type": "code",
   "execution_count": 492,
   "id": "4b32bd1d",
   "metadata": {},
   "outputs": [
    {
     "data": {
      "text/html": [
       "<div>\n",
       "<style scoped>\n",
       "    .dataframe tbody tr th:only-of-type {\n",
       "        vertical-align: middle;\n",
       "    }\n",
       "\n",
       "    .dataframe tbody tr th {\n",
       "        vertical-align: top;\n",
       "    }\n",
       "\n",
       "    .dataframe thead th {\n",
       "        text-align: right;\n",
       "    }\n",
       "</style>\n",
       "<table border=\"1\" class=\"dataframe\">\n",
       "  <thead>\n",
       "    <tr style=\"text-align: right;\">\n",
       "      <th>Neurotrophic_factor</th>\n",
       "      <th>BDNF</th>\n",
       "      <th>BDNF, GDNF</th>\n",
       "      <th>NGF</th>\n",
       "      <th>NeuroCult</th>\n",
       "      <th>Neurobasal A medium</th>\n",
       "      <th>Not reported</th>\n",
       "      <th>RA</th>\n",
       "      <th>VEGF</th>\n",
       "      <th>bFGF</th>\n",
       "      <th>All</th>\n",
       "    </tr>\n",
       "  </thead>\n",
       "  <tbody>\n",
       "    <tr>\n",
       "      <th>7</th>\n",
       "      <td>NaN</td>\n",
       "      <td>NaN</td>\n",
       "      <td>NaN</td>\n",
       "      <td>NaN</td>\n",
       "      <td>NaN</td>\n",
       "      <td>NaN</td>\n",
       "      <td>NaN</td>\n",
       "      <td>NaN</td>\n",
       "      <td>14</td>\n",
       "      <td>14</td>\n",
       "    </tr>\n",
       "    <tr>\n",
       "      <th>9</th>\n",
       "      <td>NaN</td>\n",
       "      <td>NaN</td>\n",
       "      <td>NaN</td>\n",
       "      <td>NaN</td>\n",
       "      <td>NaN</td>\n",
       "      <td>NaN</td>\n",
       "      <td>6</td>\n",
       "      <td>NaN</td>\n",
       "      <td>NaN</td>\n",
       "      <td>6</td>\n",
       "    </tr>\n",
       "    <tr>\n",
       "      <th>10</th>\n",
       "      <td>NaN</td>\n",
       "      <td>NaN</td>\n",
       "      <td>14</td>\n",
       "      <td>NaN</td>\n",
       "      <td>NaN</td>\n",
       "      <td>NaN</td>\n",
       "      <td>NaN</td>\n",
       "      <td>NaN</td>\n",
       "      <td>NaN</td>\n",
       "      <td>14</td>\n",
       "    </tr>\n",
       "    <tr>\n",
       "      <th>13</th>\n",
       "      <td>NaN</td>\n",
       "      <td>NaN</td>\n",
       "      <td>4</td>\n",
       "      <td>NaN</td>\n",
       "      <td>NaN</td>\n",
       "      <td>NaN</td>\n",
       "      <td>NaN</td>\n",
       "      <td>NaN</td>\n",
       "      <td>NaN</td>\n",
       "      <td>4</td>\n",
       "    </tr>\n",
       "    <tr>\n",
       "      <th>15</th>\n",
       "      <td>NaN</td>\n",
       "      <td>NaN</td>\n",
       "      <td>7</td>\n",
       "      <td>NaN</td>\n",
       "      <td>NaN</td>\n",
       "      <td>NaN</td>\n",
       "      <td>NaN</td>\n",
       "      <td>NaN</td>\n",
       "      <td>NaN</td>\n",
       "      <td>7</td>\n",
       "    </tr>\n",
       "    <tr>\n",
       "      <th>16</th>\n",
       "      <td>NaN</td>\n",
       "      <td>NaN</td>\n",
       "      <td>NaN</td>\n",
       "      <td>NaN</td>\n",
       "      <td>NaN</td>\n",
       "      <td>7</td>\n",
       "      <td>NaN</td>\n",
       "      <td>NaN</td>\n",
       "      <td>NaN</td>\n",
       "      <td>7</td>\n",
       "    </tr>\n",
       "    <tr>\n",
       "      <th>21</th>\n",
       "      <td>NaN</td>\n",
       "      <td>NaN</td>\n",
       "      <td>NaN</td>\n",
       "      <td>NaN</td>\n",
       "      <td>10</td>\n",
       "      <td>NaN</td>\n",
       "      <td>NaN</td>\n",
       "      <td>NaN</td>\n",
       "      <td>NaN</td>\n",
       "      <td>10</td>\n",
       "    </tr>\n",
       "    <tr>\n",
       "      <th>22</th>\n",
       "      <td>NaN</td>\n",
       "      <td>NaN</td>\n",
       "      <td>7</td>\n",
       "      <td>NaN</td>\n",
       "      <td>NaN</td>\n",
       "      <td>NaN</td>\n",
       "      <td>NaN</td>\n",
       "      <td>NaN</td>\n",
       "      <td>NaN</td>\n",
       "      <td>7</td>\n",
       "    </tr>\n",
       "    <tr>\n",
       "      <th>23</th>\n",
       "      <td>NaN</td>\n",
       "      <td>NaN</td>\n",
       "      <td>NaN</td>\n",
       "      <td>21</td>\n",
       "      <td>NaN</td>\n",
       "      <td>NaN</td>\n",
       "      <td>NaN</td>\n",
       "      <td>NaN</td>\n",
       "      <td>NaN</td>\n",
       "      <td>21</td>\n",
       "    </tr>\n",
       "    <tr>\n",
       "      <th>24</th>\n",
       "      <td>NaN</td>\n",
       "      <td>NaN</td>\n",
       "      <td>NaN</td>\n",
       "      <td>NaN</td>\n",
       "      <td>NaN</td>\n",
       "      <td>NaN</td>\n",
       "      <td>3</td>\n",
       "      <td>NaN</td>\n",
       "      <td>NaN</td>\n",
       "      <td>3</td>\n",
       "    </tr>\n",
       "    <tr>\n",
       "      <th>26</th>\n",
       "      <td>NaN</td>\n",
       "      <td>NaN</td>\n",
       "      <td>NaN</td>\n",
       "      <td>NaN</td>\n",
       "      <td>NaN</td>\n",
       "      <td>NaN</td>\n",
       "      <td>16</td>\n",
       "      <td>NaN</td>\n",
       "      <td>NaN</td>\n",
       "      <td>16</td>\n",
       "    </tr>\n",
       "    <tr>\n",
       "      <th>33</th>\n",
       "      <td>10</td>\n",
       "      <td>NaN</td>\n",
       "      <td>NaN</td>\n",
       "      <td>NaN</td>\n",
       "      <td>NaN</td>\n",
       "      <td>NaN</td>\n",
       "      <td>NaN</td>\n",
       "      <td>NaN</td>\n",
       "      <td>NaN</td>\n",
       "      <td>10</td>\n",
       "    </tr>\n",
       "    <tr>\n",
       "      <th>34</th>\n",
       "      <td>NaN</td>\n",
       "      <td>NaN</td>\n",
       "      <td>7</td>\n",
       "      <td>NaN</td>\n",
       "      <td>NaN</td>\n",
       "      <td>NaN</td>\n",
       "      <td>NaN</td>\n",
       "      <td>NaN</td>\n",
       "      <td>NaN</td>\n",
       "      <td>7</td>\n",
       "    </tr>\n",
       "    <tr>\n",
       "      <th>37</th>\n",
       "      <td>NaN</td>\n",
       "      <td>NaN</td>\n",
       "      <td>NaN</td>\n",
       "      <td>NaN</td>\n",
       "      <td>NaN</td>\n",
       "      <td>NaN</td>\n",
       "      <td>5</td>\n",
       "      <td>NaN</td>\n",
       "      <td>NaN</td>\n",
       "      <td>5</td>\n",
       "    </tr>\n",
       "    <tr>\n",
       "      <th>41</th>\n",
       "      <td>NaN</td>\n",
       "      <td>NaN</td>\n",
       "      <td>1</td>\n",
       "      <td>NaN</td>\n",
       "      <td>NaN</td>\n",
       "      <td>NaN</td>\n",
       "      <td>NaN</td>\n",
       "      <td>NaN</td>\n",
       "      <td>NaN</td>\n",
       "      <td>1</td>\n",
       "    </tr>\n",
       "    <tr>\n",
       "      <th>53</th>\n",
       "      <td>NaN</td>\n",
       "      <td>NaN</td>\n",
       "      <td>7</td>\n",
       "      <td>NaN</td>\n",
       "      <td>NaN</td>\n",
       "      <td>NaN</td>\n",
       "      <td>NaN</td>\n",
       "      <td>NaN</td>\n",
       "      <td>NaN</td>\n",
       "      <td>7</td>\n",
       "    </tr>\n",
       "    <tr>\n",
       "      <th>54</th>\n",
       "      <td>NaN</td>\n",
       "      <td>NaN</td>\n",
       "      <td>NaN</td>\n",
       "      <td>NaN</td>\n",
       "      <td>NaN</td>\n",
       "      <td>NaN</td>\n",
       "      <td>NaN</td>\n",
       "      <td>NaN</td>\n",
       "      <td>7</td>\n",
       "      <td>7</td>\n",
       "    </tr>\n",
       "    <tr>\n",
       "      <th>55</th>\n",
       "      <td>NaN</td>\n",
       "      <td>NaN</td>\n",
       "      <td>NaN</td>\n",
       "      <td>NaN</td>\n",
       "      <td>NaN</td>\n",
       "      <td>NaN</td>\n",
       "      <td>5</td>\n",
       "      <td>NaN</td>\n",
       "      <td>NaN</td>\n",
       "      <td>5</td>\n",
       "    </tr>\n",
       "    <tr>\n",
       "      <th>62</th>\n",
       "      <td>NaN</td>\n",
       "      <td>NaN</td>\n",
       "      <td>NaN</td>\n",
       "      <td>NaN</td>\n",
       "      <td>NaN</td>\n",
       "      <td>NaN</td>\n",
       "      <td>NaN</td>\n",
       "      <td>NaN</td>\n",
       "      <td>17</td>\n",
       "      <td>17</td>\n",
       "    </tr>\n",
       "    <tr>\n",
       "      <th>63</th>\n",
       "      <td>NaN</td>\n",
       "      <td>NaN</td>\n",
       "      <td>NaN</td>\n",
       "      <td>NaN</td>\n",
       "      <td>NaN</td>\n",
       "      <td>NaN</td>\n",
       "      <td>17</td>\n",
       "      <td>NaN</td>\n",
       "      <td>NaN</td>\n",
       "      <td>17</td>\n",
       "    </tr>\n",
       "    <tr>\n",
       "      <th>64</th>\n",
       "      <td>NaN</td>\n",
       "      <td>10</td>\n",
       "      <td>NaN</td>\n",
       "      <td>NaN</td>\n",
       "      <td>NaN</td>\n",
       "      <td>NaN</td>\n",
       "      <td>NaN</td>\n",
       "      <td>NaN</td>\n",
       "      <td>NaN</td>\n",
       "      <td>10</td>\n",
       "    </tr>\n",
       "    <tr>\n",
       "      <th>69</th>\n",
       "      <td>NaN</td>\n",
       "      <td>NaN</td>\n",
       "      <td>NaN</td>\n",
       "      <td>NaN</td>\n",
       "      <td>NaN</td>\n",
       "      <td>NaN</td>\n",
       "      <td>NaN</td>\n",
       "      <td>7</td>\n",
       "      <td>NaN</td>\n",
       "      <td>7</td>\n",
       "    </tr>\n",
       "    <tr>\n",
       "      <th>79</th>\n",
       "      <td>NaN</td>\n",
       "      <td>NaN</td>\n",
       "      <td>NaN</td>\n",
       "      <td>NaN</td>\n",
       "      <td>NaN</td>\n",
       "      <td>NaN</td>\n",
       "      <td>NaN</td>\n",
       "      <td>7</td>\n",
       "      <td>NaN</td>\n",
       "      <td>7</td>\n",
       "    </tr>\n",
       "    <tr>\n",
       "      <th>86</th>\n",
       "      <td>NaN</td>\n",
       "      <td>NaN</td>\n",
       "      <td>NaN</td>\n",
       "      <td>3</td>\n",
       "      <td>NaN</td>\n",
       "      <td>NaN</td>\n",
       "      <td>NaN</td>\n",
       "      <td>NaN</td>\n",
       "      <td>NaN</td>\n",
       "      <td>3</td>\n",
       "    </tr>\n",
       "    <tr>\n",
       "      <th>87</th>\n",
       "      <td>NaN</td>\n",
       "      <td>NaN</td>\n",
       "      <td>5</td>\n",
       "      <td>NaN</td>\n",
       "      <td>NaN</td>\n",
       "      <td>NaN</td>\n",
       "      <td>NaN</td>\n",
       "      <td>NaN</td>\n",
       "      <td>NaN</td>\n",
       "      <td>5</td>\n",
       "    </tr>\n",
       "    <tr>\n",
       "      <th>88</th>\n",
       "      <td>NaN</td>\n",
       "      <td>NaN</td>\n",
       "      <td>5</td>\n",
       "      <td>NaN</td>\n",
       "      <td>NaN</td>\n",
       "      <td>NaN</td>\n",
       "      <td>NaN</td>\n",
       "      <td>NaN</td>\n",
       "      <td>NaN</td>\n",
       "      <td>5</td>\n",
       "    </tr>\n",
       "    <tr>\n",
       "      <th>89</th>\n",
       "      <td>NaN</td>\n",
       "      <td>NaN</td>\n",
       "      <td>NaN</td>\n",
       "      <td>NaN</td>\n",
       "      <td>NaN</td>\n",
       "      <td>NaN</td>\n",
       "      <td>14</td>\n",
       "      <td>NaN</td>\n",
       "      <td>NaN</td>\n",
       "      <td>14</td>\n",
       "    </tr>\n",
       "    <tr>\n",
       "      <th>97</th>\n",
       "      <td>NaN</td>\n",
       "      <td>NaN</td>\n",
       "      <td>NaN</td>\n",
       "      <td>NaN</td>\n",
       "      <td>NaN</td>\n",
       "      <td>NaN</td>\n",
       "      <td>12</td>\n",
       "      <td>NaN</td>\n",
       "      <td>NaN</td>\n",
       "      <td>12</td>\n",
       "    </tr>\n",
       "  </tbody>\n",
       "</table>\n",
       "</div>"
      ],
      "text/plain": [
       "Neurotrophic_factor BDNF BDNF, GDNF  NGF NeuroCult Neurobasal A medium  \\\n",
       "7                    NaN        NaN  NaN       NaN                 NaN   \n",
       "9                    NaN        NaN  NaN       NaN                 NaN   \n",
       "10                   NaN        NaN   14       NaN                 NaN   \n",
       "13                   NaN        NaN    4       NaN                 NaN   \n",
       "15                   NaN        NaN    7       NaN                 NaN   \n",
       "16                   NaN        NaN  NaN       NaN                 NaN   \n",
       "21                   NaN        NaN  NaN       NaN                  10   \n",
       "22                   NaN        NaN    7       NaN                 NaN   \n",
       "23                   NaN        NaN  NaN        21                 NaN   \n",
       "24                   NaN        NaN  NaN       NaN                 NaN   \n",
       "26                   NaN        NaN  NaN       NaN                 NaN   \n",
       "33                    10        NaN  NaN       NaN                 NaN   \n",
       "34                   NaN        NaN    7       NaN                 NaN   \n",
       "37                   NaN        NaN  NaN       NaN                 NaN   \n",
       "41                   NaN        NaN    1       NaN                 NaN   \n",
       "53                   NaN        NaN    7       NaN                 NaN   \n",
       "54                   NaN        NaN  NaN       NaN                 NaN   \n",
       "55                   NaN        NaN  NaN       NaN                 NaN   \n",
       "62                   NaN        NaN  NaN       NaN                 NaN   \n",
       "63                   NaN        NaN  NaN       NaN                 NaN   \n",
       "64                   NaN         10  NaN       NaN                 NaN   \n",
       "69                   NaN        NaN  NaN       NaN                 NaN   \n",
       "79                   NaN        NaN  NaN       NaN                 NaN   \n",
       "86                   NaN        NaN  NaN         3                 NaN   \n",
       "87                   NaN        NaN    5       NaN                 NaN   \n",
       "88                   NaN        NaN    5       NaN                 NaN   \n",
       "89                   NaN        NaN  NaN       NaN                 NaN   \n",
       "97                   NaN        NaN  NaN       NaN                 NaN   \n",
       "\n",
       "Neurotrophic_factor Not reported   RA VEGF bFGF  All  \n",
       "7                            NaN  NaN  NaN   14   14  \n",
       "9                            NaN    6  NaN  NaN    6  \n",
       "10                           NaN  NaN  NaN  NaN   14  \n",
       "13                           NaN  NaN  NaN  NaN    4  \n",
       "15                           NaN  NaN  NaN  NaN    7  \n",
       "16                             7  NaN  NaN  NaN    7  \n",
       "21                           NaN  NaN  NaN  NaN   10  \n",
       "22                           NaN  NaN  NaN  NaN    7  \n",
       "23                           NaN  NaN  NaN  NaN   21  \n",
       "24                           NaN    3  NaN  NaN    3  \n",
       "26                           NaN   16  NaN  NaN   16  \n",
       "33                           NaN  NaN  NaN  NaN   10  \n",
       "34                           NaN  NaN  NaN  NaN    7  \n",
       "37                           NaN    5  NaN  NaN    5  \n",
       "41                           NaN  NaN  NaN  NaN    1  \n",
       "53                           NaN  NaN  NaN  NaN    7  \n",
       "54                           NaN  NaN  NaN    7    7  \n",
       "55                           NaN    5  NaN  NaN    5  \n",
       "62                           NaN  NaN  NaN   17   17  \n",
       "63                           NaN   17  NaN  NaN   17  \n",
       "64                           NaN  NaN  NaN  NaN   10  \n",
       "69                           NaN  NaN    7  NaN    7  \n",
       "79                           NaN  NaN    7  NaN    7  \n",
       "86                           NaN  NaN  NaN  NaN    3  \n",
       "87                           NaN  NaN  NaN  NaN    5  \n",
       "88                           NaN  NaN  NaN  NaN    5  \n",
       "89                           NaN   14  NaN  NaN   14  \n",
       "97                           NaN   12  NaN  NaN   12  "
      ]
     },
     "execution_count": 492,
     "metadata": {},
     "output_type": "execute_result"
    }
   ],
   "source": [
    "# Fig 9-C1 (data cleaning)\n",
    "wdf_24 = df_1.iloc[1:,].loc[:,['Neurotrophic_factor','NF_days']].dropna(subset='NF_days')\n",
    "\n",
    "# Dropping 'Not reported' values\n",
    "wdf_24 = wdf_24.drop([27,38,40,59],axis =0)\n",
    "\n",
    "#rearranging data for graphing\n",
    "wdf_24_a = wdf_24.pivot_table(index=wdf_24.index, columns='Neurotrophic_factor', values='NF_days', aggfunc='first')\n",
    "wdf_24_a['All'] = wdf_24_a.apply(lambda row: row.sum(), axis=1)\n",
    "wdf_24_a"
   ]
  },
  {
   "cell_type": "code",
   "execution_count": 823,
   "id": "9cccbafa",
   "metadata": {},
   "outputs": [
    {
     "data": {
      "image/png": "[encoded data removed]",
      "text/plain": [
       "<Figure size 1000x600 with 1 Axes>"
      ]
     },
     "metadata": {},
     "output_type": "display_data"
    }
   ],
   "source": [
    "# Fig 9-C1 (Continued: data graphing)\n",
    "\n",
    "wdf_melted = wdf_24_a.melt(value_vars=['NGF', 'RA', 'bFGF', 'All'], \n",
    "                           var_name='Neurotrophic Factor', \n",
    "                           value_name='Days')\n",
    "\n",
    "# Creating the horizontal boxplot\n",
    "plt.figure(figsize=(10, 6))\n",
    "sns.boxplot(x='Days', y='Neurotrophic Factor', data=wdf_melted, \n",
    "            order=['NGF', 'RA', 'bFGF', 'All'], palette='Set2')\n",
    "\n",
    "plt.title('Days Incubated in Neurotrophic Factors', fontsize=18, fontweight='bold')\n",
    "plt.xlabel('Days', fontsize=16)\n",
    "plt.ylabel('Neurotrophic Factor', fontsize=16)\n",
    "plt.yticks( fontsize=16)\n",
    "plt.xticks( fontsize=16)\n",
    "plt.grid(False) \n",
    "\n",
    "plt.savefig('neurotrophic_factors_boxplot.png', dpi=300, bbox_inches='tight')\n",
    "\n",
    "plt.show()"
   ]
  },
  {
   "cell_type": "code",
   "execution_count": 505,
   "id": "454c04d4",
   "metadata": {},
   "outputs": [
    {
     "data": {
      "text/html": [
       "<div>\n",
       "<style scoped>\n",
       "    .dataframe tbody tr th:only-of-type {\n",
       "        vertical-align: middle;\n",
       "    }\n",
       "\n",
       "    .dataframe tbody tr th {\n",
       "        vertical-align: top;\n",
       "    }\n",
       "\n",
       "    .dataframe thead th {\n",
       "        text-align: right;\n",
       "    }\n",
       "</style>\n",
       "<table border=\"1\" class=\"dataframe\">\n",
       "  <thead>\n",
       "    <tr style=\"text-align: right;\">\n",
       "      <th>Neurotrophic_factor</th>\n",
       "      <th>RA (uM)</th>\n",
       "      <th>NGF (ng/mL)</th>\n",
       "      <th>bFGF (ng/mL)</th>\n",
       "    </tr>\n",
       "  </thead>\n",
       "  <tbody>\n",
       "    <tr>\n",
       "      <th>0</th>\n",
       "      <td>NaN</td>\n",
       "      <td>NaN</td>\n",
       "      <td>20</td>\n",
       "    </tr>\n",
       "    <tr>\n",
       "      <th>1</th>\n",
       "      <td>1.0</td>\n",
       "      <td>NaN</td>\n",
       "      <td>NaN</td>\n",
       "    </tr>\n",
       "    <tr>\n",
       "      <th>2</th>\n",
       "      <td>NaN</td>\n",
       "      <td>50</td>\n",
       "      <td>NaN</td>\n",
       "    </tr>\n",
       "    <tr>\n",
       "      <th>3</th>\n",
       "      <td>NaN</td>\n",
       "      <td>50</td>\n",
       "      <td>NaN</td>\n",
       "    </tr>\n",
       "    <tr>\n",
       "      <th>4</th>\n",
       "      <td>NaN</td>\n",
       "      <td>100</td>\n",
       "      <td>NaN</td>\n",
       "    </tr>\n",
       "    <tr>\n",
       "      <th>5</th>\n",
       "      <td>NaN</td>\n",
       "      <td>100</td>\n",
       "      <td>NaN</td>\n",
       "    </tr>\n",
       "    <tr>\n",
       "      <th>6</th>\n",
       "      <td>NaN</td>\n",
       "      <td>NaN</td>\n",
       "      <td>NaN</td>\n",
       "    </tr>\n",
       "    <tr>\n",
       "      <th>7</th>\n",
       "      <td>NaN</td>\n",
       "      <td>NaN</td>\n",
       "      <td>NaN</td>\n",
       "    </tr>\n",
       "    <tr>\n",
       "      <th>9</th>\n",
       "      <td>NaN</td>\n",
       "      <td>NaN</td>\n",
       "      <td>NaN</td>\n",
       "    </tr>\n",
       "    <tr>\n",
       "      <th>10</th>\n",
       "      <td>1.0</td>\n",
       "      <td>NaN</td>\n",
       "      <td>NaN</td>\n",
       "    </tr>\n",
       "  </tbody>\n",
       "</table>\n",
       "</div>"
      ],
      "text/plain": [
       "Neurotrophic_factor  RA (uM) NGF (ng/mL) bFGF (ng/mL)\n",
       "0                        NaN         NaN           20\n",
       "1                        1.0         NaN          NaN\n",
       "2                        NaN          50          NaN\n",
       "3                        NaN          50          NaN\n",
       "4                        NaN         100          NaN\n",
       "5                        NaN         100          NaN\n",
       "6                        NaN         NaN          NaN\n",
       "7                        NaN         NaN          NaN\n",
       "9                        NaN         NaN          NaN\n",
       "10                       1.0         NaN          NaN"
      ]
     },
     "execution_count": 505,
     "metadata": {},
     "output_type": "execute_result"
    }
   ],
   "source": [
    "# Fig 9-C2 ( data cleaning)\n",
    "\n",
    "wdf_25 = df_1.iloc[1:,].loc[:,['Neurotrophic_factor','NF_concentration']].dropna(subset='NF_concentration')\n",
    "\n",
    "# rearranging for graphing\n",
    "wdf_25.reset_index(drop=True, inplace=True)\n",
    "wdf_25_a = wdf_25.pivot(columns='Neurotrophic_factor', values='NF_concentration')\n",
    "wdf_25_b = wdf_25_a[['RA', 'NGF', 'bFGF']].copy()\n",
    "# dropping extreme outliers\n",
    "wdf_25_b = wdf_25_b.drop([8,12,26,33])\n",
    "\n",
    "# renaming column names\n",
    "\n",
    "wdf_25_b.columns = wdf_25_b.columns.str.strip()\n",
    "\n",
    "if 'RA' in wdf_25_b.columns:\n",
    "    wdf_25_b['RA'] = wdf_25_b['RA'].str.replace('uM', '', regex=False).astype(float)\n",
    "    wdf_25_b.rename(columns={\n",
    "        'RA': 'RA (uM)',\n",
    "        'NGF': 'NGF (ng/mL)',\n",
    "        'bFGF': 'bFGF (ng/mL)'\n",
    "    }, inplace=True)\n",
    "else:\n",
    "    print(\"Column 'RA' not found in the DataFrame.\")\n",
    "\n",
    "wdf_25_b.head(10)"
   ]
  },
  {
   "cell_type": "code",
   "execution_count": 506,
   "id": "3188479d",
   "metadata": {},
   "outputs": [
    {
     "data": {
      "image/png": "[encoded data removed]",
      "text/plain": [
       "<Figure size 800x200 with 1 Axes>"
      ]
     },
     "metadata": {},
     "output_type": "display_data"
    },
    {
     "data": {
      "image/png": "[encoded data removed]",
      "text/plain": [
       "<Figure size 800x200 with 1 Axes>"
      ]
     },
     "metadata": {},
     "output_type": "display_data"
    },
    {
     "data": {
      "image/png": "[encoded data removed]",
      "text/plain": [
       "<Figure size 800x200 with 1 Axes>"
      ]
     },
     "metadata": {},
     "output_type": "display_data"
    }
   ],
   "source": [
    "# Fig 9-C2 ( Continued : Visualization)\n",
    "\n",
    "columns = ['RA (uM)', 'NGF (ng/mL)', 'bFGF (ng/mL)']\n",
    "\n",
    "# Plotting each value with the corresponding number of occurrences\n",
    "for column in columns:\n",
    "    \n",
    "    plt.figure(figsize=(8, 2))\n",
    "    values = wdf_25_b[column].dropna()\n",
    "    unique_values, counts = np.unique(values, return_counts=True)\n",
    "\n",
    "    for val, count in zip(unique_values, counts):\n",
    "        plt.scatter([val] * count, range(1, count + 1), alpha=0.7)\n",
    "    plt.yticks([])  \n",
    "    plt.xlabel(column)\n",
    "    plt.title(f'Common Concentrations of {column}', fontsize=14, fontweight='bold')\n",
    "    plt.gca().spines['top'].set_visible(False)\n",
    "    plt.gca().spines['right'].set_visible(False)\n",
    "    plt.gca().spines['left'].set_visible(False)\n",
    "    plt.gca().spines['bottom'].set_visible(True)\n",
    "    plt.grid(False)\n",
    "    \n",
    "    plt.show()"
   ]
  },
  {
   "cell_type": "code",
   "execution_count": 518,
   "id": "05af584b",
   "metadata": {},
   "outputs": [
    {
     "data": {
      "text/html": [
       "<div>\n",
       "<style scoped>\n",
       "    .dataframe tbody tr th:only-of-type {\n",
       "        vertical-align: middle;\n",
       "    }\n",
       "\n",
       "    .dataframe tbody tr th {\n",
       "        vertical-align: top;\n",
       "    }\n",
       "\n",
       "    .dataframe thead th {\n",
       "        text-align: right;\n",
       "    }\n",
       "</style>\n",
       "<table border=\"1\" class=\"dataframe\">\n",
       "  <thead>\n",
       "    <tr style=\"text-align: right;\">\n",
       "      <th></th>\n",
       "      <th>DC_Elec_field_mv/cm</th>\n",
       "      <th>Elec_stimu_hours</th>\n",
       "      <th>Elec_stimu_days</th>\n",
       "    </tr>\n",
       "  </thead>\n",
       "  <tbody>\n",
       "    <tr>\n",
       "      <th>0</th>\n",
       "      <td>1000</td>\n",
       "      <td>14</td>\n",
       "      <td>14</td>\n",
       "    </tr>\n",
       "    <tr>\n",
       "      <th>1</th>\n",
       "      <td>100</td>\n",
       "      <td>28</td>\n",
       "      <td>7</td>\n",
       "    </tr>\n",
       "    <tr>\n",
       "      <th>2</th>\n",
       "      <td>2000</td>\n",
       "      <td>0.6</td>\n",
       "      <td>7</td>\n",
       "    </tr>\n",
       "    <tr>\n",
       "      <th>3</th>\n",
       "      <td>10</td>\n",
       "      <td>0.6</td>\n",
       "      <td>7</td>\n",
       "    </tr>\n",
       "    <tr>\n",
       "      <th>4</th>\n",
       "      <td>100</td>\n",
       "      <td>4</td>\n",
       "      <td>4</td>\n",
       "    </tr>\n",
       "    <tr>\n",
       "      <th>5</th>\n",
       "      <td>2000</td>\n",
       "      <td>7</td>\n",
       "      <td>7</td>\n",
       "    </tr>\n",
       "    <tr>\n",
       "      <th>6</th>\n",
       "      <td>100</td>\n",
       "      <td>2.3</td>\n",
       "      <td>7</td>\n",
       "    </tr>\n",
       "    <tr>\n",
       "      <th>7</th>\n",
       "      <td>100</td>\n",
       "      <td>2.5</td>\n",
       "      <td>5</td>\n",
       "    </tr>\n",
       "    <tr>\n",
       "      <th>8</th>\n",
       "      <td>200</td>\n",
       "      <td>1.5</td>\n",
       "      <td>3</td>\n",
       "    </tr>\n",
       "    <tr>\n",
       "      <th>9</th>\n",
       "      <td>100</td>\n",
       "      <td>2.3</td>\n",
       "      <td>7</td>\n",
       "    </tr>\n",
       "  </tbody>\n",
       "</table>\n",
       "</div>"
      ],
      "text/plain": [
       "  DC_Elec_field_mv/cm Elec_stimu_hours Elec_stimu_days\n",
       "0                1000               14              14\n",
       "1                 100               28               7\n",
       "2                2000              0.6               7\n",
       "3                  10              0.6               7\n",
       "4                 100                4               4\n",
       "5                2000                7               7\n",
       "6                 100              2.3               7\n",
       "7                 100              2.5               5\n",
       "8                 200              1.5               3\n",
       "9                 100              2.3               7"
      ]
     },
     "execution_count": 518,
     "metadata": {},
     "output_type": "execute_result"
    }
   ],
   "source": [
    "# Fig 9-D1 \n",
    "wdf_26 = df.iloc[1:,].loc[:,['DC_Elec_field_mv/cm','Elec_stimu_hours','Elec_stimu_days']].dropna(subset='DC_Elec_field_mv/cm'\t)\n",
    "#dropping rows with insufficient data\n",
    "wdf_26 = wdf_26.dropna(subset='DC_Elec_field_mv/cm').drop([9,35,28],axis= 0).reset_index().drop(columns= 'index')\n",
    "\n",
    "# dataframe below was used to make the graph in Canva.com\n",
    "wdf_26"
   ]
  },
  {
   "cell_type": "code",
   "execution_count": 529,
   "id": "f85f63a2",
   "metadata": {},
   "outputs": [
    {
     "data": {
      "text/html": [
       "<div>\n",
       "<style scoped>\n",
       "    .dataframe tbody tr th:only-of-type {\n",
       "        vertical-align: middle;\n",
       "    }\n",
       "\n",
       "    .dataframe tbody tr th {\n",
       "        vertical-align: top;\n",
       "    }\n",
       "\n",
       "    .dataframe thead th {\n",
       "        text-align: right;\n",
       "    }\n",
       "</style>\n",
       "<table border=\"1\" class=\"dataframe\">\n",
       "  <thead>\n",
       "    <tr style=\"text-align: right;\">\n",
       "      <th></th>\n",
       "      <th>Mag_field_mT</th>\n",
       "      <th>Mag_freq_Hz</th>\n",
       "      <th>Elec_stimu_hours</th>\n",
       "      <th>Elec_stimu_days</th>\n",
       "    </tr>\n",
       "  </thead>\n",
       "  <tbody>\n",
       "    <tr>\n",
       "      <th>0</th>\n",
       "      <td>15</td>\n",
       "      <td>100</td>\n",
       "      <td>1.25</td>\n",
       "      <td>5</td>\n",
       "    </tr>\n",
       "    <tr>\n",
       "      <th>1</th>\n",
       "      <td>1</td>\n",
       "      <td>50</td>\n",
       "      <td>24</td>\n",
       "      <td>7</td>\n",
       "    </tr>\n",
       "    <tr>\n",
       "      <th>2</th>\n",
       "      <td>3</td>\n",
       "      <td>2</td>\n",
       "      <td>1</td>\n",
       "      <td>3</td>\n",
       "    </tr>\n",
       "    <tr>\n",
       "      <th>3</th>\n",
       "      <td>7.7</td>\n",
       "      <td>Static</td>\n",
       "      <td>72</td>\n",
       "      <td>3</td>\n",
       "    </tr>\n",
       "    <tr>\n",
       "      <th>4</th>\n",
       "      <td>100</td>\n",
       "      <td>1</td>\n",
       "      <td>14</td>\n",
       "      <td>7</td>\n",
       "    </tr>\n",
       "    <tr>\n",
       "      <th>5</th>\n",
       "      <td>50</td>\n",
       "      <td>Static</td>\n",
       "      <td>336</td>\n",
       "      <td>14</td>\n",
       "    </tr>\n",
       "    <tr>\n",
       "      <th>6</th>\n",
       "      <td>200</td>\n",
       "      <td>Static</td>\n",
       "      <td>120</td>\n",
       "      <td>5</td>\n",
       "    </tr>\n",
       "    <tr>\n",
       "      <th>7</th>\n",
       "      <td>13</td>\n",
       "      <td>60</td>\n",
       "      <td>3.5</td>\n",
       "      <td>7</td>\n",
       "    </tr>\n",
       "    <tr>\n",
       "      <th>8</th>\n",
       "      <td>50</td>\n",
       "      <td>1053</td>\n",
       "      <td>10</td>\n",
       "      <td>10</td>\n",
       "    </tr>\n",
       "  </tbody>\n",
       "</table>\n",
       "</div>"
      ],
      "text/plain": [
       "  Mag_field_mT Mag_freq_Hz Elec_stimu_hours Elec_stimu_days\n",
       "0           15         100             1.25               5\n",
       "1            1          50               24               7\n",
       "2            3           2                1               3\n",
       "3          7.7      Static               72               3\n",
       "4          100           1               14               7\n",
       "5           50      Static              336              14\n",
       "6          200      Static              120               5\n",
       "7           13          60              3.5               7\n",
       "8           50        1053               10              10"
      ]
     },
     "execution_count": 529,
     "metadata": {},
     "output_type": "execute_result"
    }
   ],
   "source": [
    "# Fig 9-D2\n",
    "wdf_27= df.iloc[1:,].loc[:,['Mag_field_mT','Mag_freq_Hz','Elec_stimu_hours','Elec_stimu_days']].dropna(subset='Mag_field_mT')\n",
    "#dropping rows with insufficient data\n",
    "wdf_27= wdf_27.drop([1,53,71],axis=0).reset_index().drop(columns= 'index')\n",
    "# dataframe below was used to make the graph in Canva.com\n",
    "wdf_27"
   ]
  },
  {
   "cell_type": "code",
   "execution_count": 825,
   "id": "7389c763",
   "metadata": {},
   "outputs": [
    {
     "name": "stdout",
     "output_type": "stream",
     "text": [
      "Diff_asess_method                       \n",
      "Neural Protein Marker Analysis              68\n",
      "In Vivo(Neural Protein Marker Analysis)      8\n",
      "In Vivo (Neural Protein Marker Analysis)     6\n",
      "In Vivo(Neural Protein Marker Analysis )     3\n",
      "In Vivo(Neural Protein Marker Analysis       2\n",
      "Name: count, dtype: int64\n",
      "________________\n",
      "Diff_asess_method\n",
      "Morphology           40\n",
      "Name: count, dtype: int64\n",
      "________________\n",
      "Diff_asess_method                    \n",
      "Neural Gene Marker Analysis              37\n",
      "Neural Gene Marker Analysis)              2\n",
      "In Vivo (Neural Gene Marker Analysis)     1\n",
      "Name: count, dtype: int64\n",
      "________________\n",
      "Diff_asess_method              \n",
      "Electrophysiological Assessment    2\n",
      "Name: count, dtype: int64\n"
     ]
    }
   ],
   "source": [
    "# Fig 10-A (Pie chart core)\n",
    "\n",
    "wdf_28 = df.iloc[1:,].loc[:,['Diff_asess_method']].dropna(subset='Diff_asess_method')\n",
    "\n",
    "wdf_28_a = wdf_28['Diff_asess_method'].str.split(',', expand=True).stack().reset_index(drop=True)\n",
    "wdf_28_b = pd.DataFrame(wdf_28_a, columns=['Diff_asess_method'])\n",
    "wdf_28_b['Diff_asess_method'] = wdf_28_b['Diff_asess_method'].str.strip().str.title()\n",
    "\n",
    "# counts below were used to make the core of the Pie chart\n",
    "print(wdf_28_b[wdf_28_b.Diff_asess_method.str.contains('Protein Marker')].value_counts())\n",
    "print('________________')\n",
    "print(wdf_28_b[wdf_28_b.Diff_asess_method.str.contains('Morphology')].value_counts())\n",
    "print('________________')\n",
    "print(wdf_28_b[wdf_28_b.Diff_asess_method.str.contains('Gene Marker')].value_counts())\n",
    "print('________________')\n",
    "print(wdf_28_b[wdf_28_b.Diff_asess_method.str.contains('Electrophysiologica')].value_counts())\n"
   ]
  },
  {
   "cell_type": "code",
   "execution_count": 824,
   "id": "ab9a107c",
   "metadata": {},
   "outputs": [
    {
     "name": "stdout",
     "output_type": "stream",
     "text": [
      "Diff_morph                                           \n",
      "Neurite Growth/Length                                    35\n",
      "Other (myelination), Neurite Growth/Length                3\n",
      "Other (myelination)                                       1\n",
      "Synapsis formation/connectivity,Neurite Growth/Length     1\n",
      "`                                                         1\n",
      "Name: count, dtype: int64\n",
      "________________\n",
      "Genetic_marker_method\n",
      "PCR                      38\n",
      "Name: count, dtype: int64\n",
      "________________\n",
      "Protein_marker_method       \n",
      "Immunostaining                  53\n",
      "Immunostaining, Western blot     4\n",
      "Western blot                     4\n",
      "ELISA                            3\n",
      "Immunostaining,CLSM              1\n",
      "Immunostaining,western blot      1\n",
      "In vivo (Immunostaining)         1\n",
      "Name: count, dtype: int64\n"
     ]
    }
   ],
   "source": [
    "# Fig 10-A (Pie chart periphery)\n",
    "wdf_29_a = df.iloc[1:,].loc[:,['Diff_morph']].dropna()\n",
    "wdf_29_b = df.iloc[1:,].loc[:,['Genetic_marker_method']].dropna()\n",
    "wdf_29_c = df.iloc[1:,].loc[:,['Protein_marker_method']].dropna()\n",
    "\n",
    "# Counts obtained from below were used to make the periphery of the pie chart\n",
    "print(wdf_29_a.value_counts())\n",
    "print('________________')\n",
    "print(wdf_29_b.value_counts())\n",
    "print('________________')\n",
    "print(wdf_29_c.value_counts())"
   ]
  },
  {
   "cell_type": "code",
   "execution_count": 572,
   "id": "f16027de",
   "metadata": {},
   "outputs": [
    {
     "data": {
      "text/plain": [
       "genetic_marker_group       \n",
       "Neuronal Cells And Function    36\n",
       "Astrocytes                     25\n",
       "Nerual Stem Cells              18\n",
       "Oligodendrocytes                8\n",
       "Neurotrophic Factors            4\n",
       "Name: count, dtype: int64"
      ]
     },
     "execution_count": 572,
     "metadata": {},
     "output_type": "execute_result"
    }
   ],
   "source": [
    "# Fig 10-B (Upper graph)\n",
    "wdf_31 = df.iloc[1:,].loc[:,['genetic_marker_group']].dropna()\n",
    "wdf_30_a = wdf_30['genetic_marker_group'].str.split(',', expand=True).stack().reset_index(drop=True)\n",
    "wdf_30_b = pd.DataFrame(wdf_30_a, columns=['genetic_marker_group'])\n",
    "wdf_30_b['genetic_marker_group'] = wdf_30_b['genetic_marker_group'].str.strip().str.title()\n",
    "\n",
    "# the dataframe below was defined in R for graphing\n",
    "wdf_30_b.value_counts() "
   ]
  },
  {
   "cell_type": "code",
   "execution_count": 573,
   "id": "d6de8872",
   "metadata": {},
   "outputs": [
    {
     "data": {
      "text/plain": [
       "Protein_marker_group       \n",
       "Neuronal Cells And Function    63\n",
       "Astrocytes                     28\n",
       "Neural Stem Cells               8\n",
       "Oligodendrocytes                8\n",
       "Nerual Stem Cells               6\n",
       "Neurotrophic Factors            2\n",
       "Astrocyte                       1\n",
       "Neurotrophic Factor             1\n",
       "Name: count, dtype: int64"
      ]
     },
     "execution_count": 573,
     "metadata": {},
     "output_type": "execute_result"
    }
   ],
   "source": [
    "# Fig 10-B (lower graph)\n",
    "wdf_31 = df.iloc[1:,].loc[:,['Protein_marker_group']].dropna()\n",
    "wdf_31_a = wdf_31['Protein_marker_group'].str.split(',', expand=True).stack().reset_index(drop=True)\n",
    "wdf_31_b = pd.DataFrame(wdf_31_a, columns=['Protein_marker_group'])\n",
    "wdf_31_b['Protein_marker_group'] = wdf_31_b['Protein_marker_group'].str.strip().str.title()\n",
    "\n",
    "# the dataframe below was defined in R for graphing\n",
    "wdf_31_b.value_counts() "
   ]
  },
  {
   "cell_type": "code",
   "execution_count": 595,
   "id": "cfbe83c0",
   "metadata": {},
   "outputs": [
    {
     "data": {
      "text/html": [
       "<div>\n",
       "<style scoped>\n",
       "    .dataframe tbody tr th:only-of-type {\n",
       "        vertical-align: middle;\n",
       "    }\n",
       "\n",
       "    .dataframe tbody tr th {\n",
       "        vertical-align: top;\n",
       "    }\n",
       "\n",
       "    .dataframe thead th {\n",
       "        text-align: right;\n",
       "    }\n",
       "</style>\n",
       "<table border=\"1\" class=\"dataframe\">\n",
       "  <thead>\n",
       "    <tr style=\"text-align: right;\">\n",
       "      <th></th>\n",
       "      <th>Neural_Stem_Cells</th>\n",
       "      <th>Neuronal_Cells_and_Function</th>\n",
       "      <th>Oligodendrocytes</th>\n",
       "      <th>Astrocytes</th>\n",
       "      <th>Neurotrophic_Factors</th>\n",
       "    </tr>\n",
       "  </thead>\n",
       "  <tbody>\n",
       "    <tr>\n",
       "      <th>32</th>\n",
       "      <td>NaN</td>\n",
       "      <td>MAP2</td>\n",
       "      <td>NaN</td>\n",
       "      <td>NaN</td>\n",
       "      <td>NaN</td>\n",
       "    </tr>\n",
       "    <tr>\n",
       "      <th>35</th>\n",
       "      <td>NaN</td>\n",
       "      <td>NaN</td>\n",
       "      <td>NaN</td>\n",
       "      <td>NaN</td>\n",
       "      <td>NaN</td>\n",
       "    </tr>\n",
       "    <tr>\n",
       "      <th>27</th>\n",
       "      <td>Nestin</td>\n",
       "      <td>Tuj1</td>\n",
       "      <td>NaN</td>\n",
       "      <td>NaN</td>\n",
       "      <td>NaN</td>\n",
       "    </tr>\n",
       "    <tr>\n",
       "      <th>82</th>\n",
       "      <td>SOX2</td>\n",
       "      <td>NaN</td>\n",
       "      <td>NaN</td>\n",
       "      <td>NaN</td>\n",
       "      <td>NaN</td>\n",
       "    </tr>\n",
       "    <tr>\n",
       "      <th>60</th>\n",
       "      <td>NaN</td>\n",
       "      <td>NaN</td>\n",
       "      <td>NaN</td>\n",
       "      <td>NaN</td>\n",
       "      <td>NaN</td>\n",
       "    </tr>\n",
       "    <tr>\n",
       "      <th>88</th>\n",
       "      <td>NaN</td>\n",
       "      <td>NaN</td>\n",
       "      <td>NaN</td>\n",
       "      <td>NaN</td>\n",
       "      <td>NaN</td>\n",
       "    </tr>\n",
       "    <tr>\n",
       "      <th>64</th>\n",
       "      <td>NaN</td>\n",
       "      <td>Other</td>\n",
       "      <td>NaN</td>\n",
       "      <td>NaN</td>\n",
       "      <td>NaN</td>\n",
       "    </tr>\n",
       "    <tr>\n",
       "      <th>17</th>\n",
       "      <td>Nestin</td>\n",
       "      <td>MAP2</td>\n",
       "      <td>NaN</td>\n",
       "      <td>NaN</td>\n",
       "      <td>NaN</td>\n",
       "    </tr>\n",
       "    <tr>\n",
       "      <th>100</th>\n",
       "      <td>NaN</td>\n",
       "      <td>NaN</td>\n",
       "      <td>NaN</td>\n",
       "      <td>NaN</td>\n",
       "      <td>NaN</td>\n",
       "    </tr>\n",
       "    <tr>\n",
       "      <th>21</th>\n",
       "      <td>NaN</td>\n",
       "      <td>NaN</td>\n",
       "      <td>NaN</td>\n",
       "      <td>NaN</td>\n",
       "      <td>NaN</td>\n",
       "    </tr>\n",
       "  </tbody>\n",
       "</table>\n",
       "</div>"
      ],
      "text/plain": [
       "    Neural_Stem_Cells       Neuronal_Cells_and_Function  \\\n",
       "32                NaN                              MAP2   \n",
       "35                NaN                               NaN   \n",
       "27             Nestin                              Tuj1   \n",
       "82               SOX2                               NaN   \n",
       "60                NaN                               NaN   \n",
       "88                NaN                               NaN   \n",
       "64                NaN                             Other   \n",
       "17             Nestin                              MAP2   \n",
       "100               NaN                               NaN   \n",
       "21                NaN                               NaN   \n",
       "\n",
       "          Oligodendrocytes    Astrocytes   Neurotrophic_Factors  \n",
       "32                     NaN           NaN                    NaN  \n",
       "35                     NaN           NaN                    NaN  \n",
       "27                     NaN           NaN                    NaN  \n",
       "82                     NaN           NaN                    NaN  \n",
       "60                     NaN           NaN                    NaN  \n",
       "88                     NaN           NaN                    NaN  \n",
       "64                     NaN           NaN                    NaN  \n",
       "17                     NaN           NaN                    NaN  \n",
       "100                    NaN           NaN                    NaN  \n",
       "21                     NaN           NaN                    NaN  "
      ]
     },
     "execution_count": 595,
     "metadata": {},
     "output_type": "execute_result"
    }
   ],
   "source": [
    "# Fig 10-C1 \n",
    "\n",
    "# The cleaned data from \"Clean\" sheet is imported \n",
    "wdf_32 = df_1.iloc[1:,1:6]\n",
    "\n",
    "# Exporting for graphing in R\n",
    "wdf_32.to_csv('wdf_32.csv')\n",
    "\n",
    "wdf_32.sample(10)"
   ]
  },
  {
   "cell_type": "code",
   "execution_count": 596,
   "id": "f91c7e95",
   "metadata": {},
   "outputs": [
    {
     "data": {
      "text/html": [
       "<div>\n",
       "<style scoped>\n",
       "    .dataframe tbody tr th:only-of-type {\n",
       "        vertical-align: middle;\n",
       "    }\n",
       "\n",
       "    .dataframe tbody tr th {\n",
       "        vertical-align: top;\n",
       "    }\n",
       "\n",
       "    .dataframe thead th {\n",
       "        text-align: right;\n",
       "    }\n",
       "</style>\n",
       "<table border=\"1\" class=\"dataframe\">\n",
       "  <thead>\n",
       "    <tr style=\"text-align: right;\">\n",
       "      <th></th>\n",
       "      <th>Neural_Stem_Cells_P</th>\n",
       "      <th>Neuronal_Cells_and_Function_P</th>\n",
       "      <th>Oligodendrocytes_P</th>\n",
       "      <th>Astrocytes_P</th>\n",
       "      <th>Neurotrophic_Factors_P</th>\n",
       "    </tr>\n",
       "  </thead>\n",
       "  <tbody>\n",
       "    <tr>\n",
       "      <th>1</th>\n",
       "      <td>NaN</td>\n",
       "      <td>Tuj1</td>\n",
       "      <td>NaN</td>\n",
       "      <td>NaN</td>\n",
       "      <td>NaN</td>\n",
       "    </tr>\n",
       "    <tr>\n",
       "      <th>2</th>\n",
       "      <td>Nestin</td>\n",
       "      <td>Tuj1</td>\n",
       "      <td>MBP</td>\n",
       "      <td>GFAP</td>\n",
       "      <td>NaN</td>\n",
       "    </tr>\n",
       "    <tr>\n",
       "      <th>3</th>\n",
       "      <td>NaN</td>\n",
       "      <td>Tuj1</td>\n",
       "      <td>NaN</td>\n",
       "      <td>NaN</td>\n",
       "      <td>NaN</td>\n",
       "    </tr>\n",
       "    <tr>\n",
       "      <th>4</th>\n",
       "      <td>Sox2</td>\n",
       "      <td>Tuj1</td>\n",
       "      <td>NaN</td>\n",
       "      <td>NaN</td>\n",
       "      <td>NaN</td>\n",
       "    </tr>\n",
       "    <tr>\n",
       "      <th>5</th>\n",
       "      <td>Sox2</td>\n",
       "      <td>MAP2</td>\n",
       "      <td>NaN</td>\n",
       "      <td>GFAP</td>\n",
       "      <td>NaN</td>\n",
       "    </tr>\n",
       "    <tr>\n",
       "      <th>...</th>\n",
       "      <td>...</td>\n",
       "      <td>...</td>\n",
       "      <td>...</td>\n",
       "      <td>...</td>\n",
       "      <td>...</td>\n",
       "    </tr>\n",
       "    <tr>\n",
       "      <th>96</th>\n",
       "      <td>NaN</td>\n",
       "      <td>Tuj1</td>\n",
       "      <td>NaN</td>\n",
       "      <td>NaN</td>\n",
       "      <td>NaN</td>\n",
       "    </tr>\n",
       "    <tr>\n",
       "      <th>97</th>\n",
       "      <td>NaN</td>\n",
       "      <td>NF</td>\n",
       "      <td>NaN</td>\n",
       "      <td>NaN</td>\n",
       "      <td>NaN</td>\n",
       "    </tr>\n",
       "    <tr>\n",
       "      <th>98</th>\n",
       "      <td>NaN</td>\n",
       "      <td>Other</td>\n",
       "      <td>NaN</td>\n",
       "      <td>NaN</td>\n",
       "      <td>NaN</td>\n",
       "    </tr>\n",
       "    <tr>\n",
       "      <th>99</th>\n",
       "      <td>NaN</td>\n",
       "      <td>NeuN</td>\n",
       "      <td>NaN</td>\n",
       "      <td>NaN</td>\n",
       "      <td>NaN</td>\n",
       "    </tr>\n",
       "    <tr>\n",
       "      <th>100</th>\n",
       "      <td>NaN</td>\n",
       "      <td>PSD95</td>\n",
       "      <td>NaN</td>\n",
       "      <td>NaN</td>\n",
       "      <td>NaN</td>\n",
       "    </tr>\n",
       "  </tbody>\n",
       "</table>\n",
       "<p>100 rows × 5 columns</p>\n",
       "</div>"
      ],
      "text/plain": [
       "    Neural_Stem_Cells_P       Neuronal_Cells_and_Function_P  \\\n",
       "1                   NaN                                Tuj1   \n",
       "2                Nestin                                Tuj1   \n",
       "3                   NaN                                Tuj1   \n",
       "4                  Sox2                                Tuj1   \n",
       "5                  Sox2                                MAP2   \n",
       "..                  ...                                 ...   \n",
       "96                  NaN                                Tuj1   \n",
       "97                  NaN                                  NF   \n",
       "98                  NaN                               Other   \n",
       "99                  NaN                                NeuN   \n",
       "100                 NaN                               PSD95   \n",
       "\n",
       "          Oligodendrocytes_P    Astrocytes_P   Neurotrophic_Factors_P  \n",
       "1                        NaN             NaN                      NaN  \n",
       "2                        MBP            GFAP                      NaN  \n",
       "3                        NaN             NaN                      NaN  \n",
       "4                        NaN             NaN                      NaN  \n",
       "5                        NaN            GFAP                      NaN  \n",
       "..                       ...             ...                      ...  \n",
       "96                       NaN             NaN                      NaN  \n",
       "97                       NaN             NaN                      NaN  \n",
       "98                       NaN             NaN                      NaN  \n",
       "99                       NaN             NaN                      NaN  \n",
       "100                      NaN             NaN                      NaN  \n",
       "\n",
       "[100 rows x 5 columns]"
      ]
     },
     "execution_count": 596,
     "metadata": {},
     "output_type": "execute_result"
    }
   ],
   "source": [
    "# Fig 10-C2 \n",
    "\n",
    "# The cleaned data from \"Clean\" sheet is imported \n",
    "wdf_33 = df_1.iloc[1:,7:12]\n",
    "# Exporting for graphing \n",
    "wdf_33.to_csv('wdf_33.csv')\n",
    "\n",
    "wdf_33"
   ]
  },
  {
   "cell_type": "code",
   "execution_count": 650,
   "id": "d556df60",
   "metadata": {},
   "outputs": [],
   "source": [
    "# Fig 11-A\n",
    "\n",
    "wdf_34 =df_1.iloc[1:,].loc[:,['in_vivo_protein_mark']].dropna()\n",
    "\n",
    "# Splitting the values in the column by commas and expanding into separate rows\n",
    "wdf_34_a = wdf_34['in_vivo_protein_mark'].str.split(',', expand=True)\n",
    "wdf_34_b = wdf_34_a.melt(value_name='Protein Markers').dropna()\n",
    "wdf_34_b['Protein Markers'] = wdf_34_b['Protein Markers'].str.strip().str.upper().reset_index().drop(columns='index')\n",
    "wdf_34_b = wdf_34_b.drop(columns='variable').dropna()\n",
    "wdf_34_b.columns= ['Protein_Markers']\n",
    "wdf_34_c = pd.DataFrame(wdf_34_b.Protein_Markers.value_counts()[:16]).reset_index()\n",
    "\n",
    "wdf_34_c = wdf_34_c[wdf_34_c.Protein_Markers != 'IMMUNE/INFLAMMATION MARKERS']\n",
    "\n",
    "#Exporting for graphing in R\n",
    "wdf_34_c.to_csv('wdf_34_c.csv')"
   ]
  },
  {
   "cell_type": "code",
   "execution_count": 839,
   "id": "f3cf92f0",
   "metadata": {},
   "outputs": [
    {
     "data": {
      "text/plain": [
       "In_vivo_asess_method\n",
       "HISTOLOGICAL ANALYSIS                35.625\n",
       "PROTEIN MARKER ANALYSIS              30.000\n",
       "BEHAVIORAL TESTING                   25.625\n",
       "ELECTROPHYSIOLOGICAL MEASUREMENTS     8.125\n",
       "GENE MARKER ANALYSIS                  0.625\n",
       "Name: count, dtype: float64"
      ]
     },
     "execution_count": 839,
     "metadata": {},
     "output_type": "execute_result"
    }
   ],
   "source": [
    "# Fig 11-B (core of the pie chart)\n",
    "\n",
    "wdf_35= df.iloc[1:,].loc[:,['In_vivo_asess_method']].dropna()\n",
    "wdf_35_a = wdf_35['In_vivo_asess_method'].str.split(',', expand=True)\n",
    "wdf_35_b = wdf_35_a.melt(value_name='In_vivo_asess_method').dropna()\n",
    "wdf_35_b['In_vivo_asess_method'] = wdf_35_b['In_vivo_asess_method'].str.strip().str.upper().reset_index().drop(columns='index')\n",
    "wdf_35_b['In_vivo_asess_method'] = wdf_35_b.In_vivo_asess_method[wdf_35_b.In_vivo_asess_method != \"\"]\n",
    "wdf_35_b.dropna().In_vivo_asess_method.value_counts() /len(wdf_35_b.dropna()) * 100\n"
   ]
  },
  {
   "cell_type": "code",
   "execution_count": 720,
   "id": "8d7cefcd",
   "metadata": {},
   "outputs": [
    {
     "name": "stdout",
     "output_type": "stream",
     "text": [
      "Motor function periphery values\n",
      "__________________________________\n",
      "Motor function percentage\n",
      "0.8913043478260869\n",
      "Motor function BBB\n",
      "0.4634146341463415\n",
      "Motor function SFI\n",
      "0.14634146341463414\n",
      "Motor function Walking track\n",
      "0.2682926829268293\n",
      "Motor function fooprint\n",
      "0.12195121951219512\n",
      "Sensory function percentage\n",
      "0.06521739130434782\n",
      "Cognative/Emotional function percentage\n",
      "0.043478260869565216\n"
     ]
    },
    {
     "data": {
      "text/plain": [
       "elec_methods                      \n",
       "CMAP                                  0.315789\n",
       "MEPs                                  0.157895\n",
       "Motor and sensory-evoked potential    0.105263\n",
       "CAP                                   0.052632\n",
       "ICP                                   0.052632\n",
       "LFP                                   0.052632\n",
       "MAP                                   0.052632\n",
       "NCV                                   0.052632\n",
       "SCEP                                  0.052632\n",
       "SEP                                   0.052632\n",
       "Single-Unit recording                 0.052632\n",
       "Name: count, dtype: float64"
      ]
     },
     "execution_count": 720,
     "metadata": {},
     "output_type": "execute_result"
    }
   ],
   "source": [
    "# Fig 11-B (Continued: periphery of the chart)\n",
    "\n",
    "wdf_36 = df.iloc[1:,].loc[:,['in_vivo_behavioral']].dropna()\n",
    "wdf_36_a = wdf_36['in_vivo_behavioral'].str.split(',', expand=True)\n",
    "wdf_36_b = wdf_36_a.melt(value_name='in_vivo_behavioral').dropna()\n",
    "wdf_36_b['in_vivo_behavioral'] = wdf_36_b['in_vivo_behavioral'].str.strip().str.upper().reset_index().drop(columns='index')\n",
    "wdf_36_b = wdf_36_b.dropna() \n",
    "\n",
    "print('Motor function periphery values')\n",
    "print('__________________________________')\n",
    "print('Motor function percentage')\n",
    "print(len(wdf_36_b[wdf_36_b['in_vivo_behavioral'].str.contains('MOTOR', na=False)]) / len(wdf_36_b))\n",
    "print('Motor function BBB')\n",
    "print(len(wdf_36_b[wdf_36_b['in_vivo_behavioral'].str.contains('BBB', na=False)]) / len(wdf_36_b[wdf_36_b['in_vivo_behavioral'].str.contains('MOTOR FUNCTION', na=False)]))\n",
    "print('Motor function SFI')\n",
    "print(len(wdf_36_b[wdf_36_b['in_vivo_behavioral'].str.contains('SFI', na=False)]) / len(wdf_36_b[wdf_36_b['in_vivo_behavioral'].str.contains('MOTOR FUNCTION', na=False)]))\n",
    "print('Motor function Walking track')\n",
    "print(len(wdf_36_b[wdf_36_b['in_vivo_behavioral'].str.contains('WALKING TRACK', na=False)]) / len(wdf_36_b[wdf_36_b['in_vivo_behavioral'].str.contains('MOTOR FUNCTION', na=False)]))\n",
    "print('Motor function fooprint')\n",
    "print(len(wdf_36_b[wdf_36_b['in_vivo_behavioral'].str.contains('FOOT', na=False)]) / len(wdf_36_b[wdf_36_b['in_vivo_behavioral'].str.contains('MOTOR FUNCTION', na=False)]))\n",
    "print('Sensory function percentage')\n",
    "print(len(wdf_36_b[wdf_36_b['in_vivo_behavioral'].str.contains('SENSORY', na=False)]) / len(wdf_36_b))\n",
    "print('Cognative/Emotional function percentage')\n",
    "print(len(wdf_36_b[wdf_36_b['in_vivo_behavioral'].str.contains('COGNITIVE|OTHER', na=False)]) / len(wdf_36_b))\n",
    "\n",
    "wdf_37 = df_1.iloc[1:,].loc[:,['elec_methods']].dropna()\n",
    "wdf_37.value_counts()/ len(wdf_37)"
   ]
  }
 ],
 "metadata": {
  "kernelspec": {
   "display_name": "Python 3 (ipykernel)",
   "language": "python",
   "name": "python3"
  },
  "language_info": {
   "codemirror_mode": {
    "name": "ipython",
    "version": 3
   },
   "file_extension": ".py",
   "mimetype": "text/x-python",
   "name": "python",
   "nbconvert_exporter": "python",
   "pygments_lexer": "ipython3",
   "version": "3.10.9"
  }
 },
 "nbformat": 4,
 "nbformat_minor": 5
}
